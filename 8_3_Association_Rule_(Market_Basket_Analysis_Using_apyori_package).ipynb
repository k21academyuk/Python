{
  "cells": [
    {
      "cell_type": "markdown",
      "metadata": {
        "id": "xTDwWf2dwhlv"
      },
      "source": [
        "## Association Rule Mining with Apriori Using `apyori`\n",
        "\n",
        "**Association rule mining** is a technique used to discover interesting relationships, patterns, or associations between items in large datasets. One of the most popular algorithms for this task is **Apriori**, which helps in identifying frequent itemsets and generating association rules based on those frequent patterns.\n",
        "\n",
        "The **apyori** library is a simple and lightweight Python library that implements the **Apriori** algorithm. It's commonly used for market basket analysis and can help uncover associations between items in transactional datasets.\n",
        "\n",
        "### Steps in Apriori Algorithm:\n",
        "1. **Identify Frequent Itemsets**: The Apriori algorithm first identifies the sets of items that frequently occur together in transactions. The frequency of an itemset is typically measured by **support** (the proportion of transactions that contain the itemset).\n",
        "  \n",
        "2. **Generate Association Rules**: After identifying the frequent itemsets, the algorithm generates rules based on those itemsets. Each rule has an **antecedent** (the items on the left-hand side) and a **consequent** (the items on the right-hand side). Each rule is evaluated based on the following metrics:\n",
        "   - **Support**: The frequency of the itemset in the dataset.\n",
        "   - **Confidence**: The likelihood that the consequent is purchased when the antecedent is purchased.\n",
        "   - **Lift**: The strength of the association between the antecedent and consequent, considering their individual frequencies."
      ]
    },
    {
      "cell_type": "markdown",
      "metadata": {
        "id": "9n9tBYRTwhlx"
      },
      "source": [
        "# Market Basket Analysis of Store Data\n",
        "\n",
        "## Dataset Description\n",
        "\n",
        "* Different products given 7500 transactions over the course of a week at a French retail store.\n",
        "* We have library(**apyori**) to calculate the association rule using Apriori."
      ]
    },
    {
      "cell_type": "markdown",
      "metadata": {
        "id": "4nvR8IeMwhlx"
      },
      "source": [
        "## Import the Library"
      ]
    },
    {
      "cell_type": "markdown",
      "source": [
        "\n",
        "\n",
        "* Install the 'apyori' library, which is used to implement the Apriori algorithm for association rule mining\n",
        "* The 'apyori' library helps in finding frequent itemsets and generating association rules from transactional data\n",
        "\n"
      ],
      "metadata": {
        "id": "rwFcUk2vopwl"
      }
    },
    {
      "cell_type": "code",
      "execution_count": null,
      "metadata": {
        "id": "ERjv9gCHwhlx",
        "outputId": "5fd013fa-675e-45dc-85a8-c0a7d560aad1"
      },
      "outputs": [
        {
          "name": "stdout",
          "output_type": "stream",
          "text": [
            "Defaulting to user installation because normal site-packages is not writeable\n",
            "Requirement already satisfied: apyori in c:\\users\\losts\\appdata\\roaming\\python\\python312\\site-packages (1.1.2)\n"
          ]
        }
      ],
      "source": [
        "!pip install apyori"
      ]
    },
    {
      "cell_type": "markdown",
      "source": [
        "\n",
        "* Importing numpy For numerical computations\n",
        "* Importing pandas For data manipulation and reading CSVs\n",
        "* Importing Matplotlib.pyplot For plotting data\n",
        "* Importing apriori algorithm from apyori package\n",
        "\n"
      ],
      "metadata": {
        "id": "s3pB46aezgxH"
      }
    },
    {
      "cell_type": "code",
      "execution_count": null,
      "metadata": {
        "ExecuteTime": {
          "end_time": "2019-05-31T11:46:52.394081Z",
          "start_time": "2019-05-31T11:46:51.727017Z"
        },
        "id": "_jylrcsmwhly"
      },
      "outputs": [],
      "source": [
        "import numpy as np\n",
        "import pandas as pd\n",
        "import matplotlib.pyplot as plt\n",
        "from apyori import apriori"
      ]
    },
    {
      "cell_type": "markdown",
      "metadata": {
        "id": "vuudbbA1whly"
      },
      "source": [
        "## Read data and Display"
      ]
    },
    {
      "cell_type": "markdown",
      "source": [
        "* Assumes there is no header in the CSV\n",
        "* Display the first 5 rows to check the data\n",
        "* Print the shape of the dataset (rows and columns)\n",
        "\n",
        "\n",
        "\n"
      ],
      "metadata": {
        "id": "rkA3Gl3QxeJO"
      }
    },
    {
      "cell_type": "code",
      "execution_count": null,
      "metadata": {
        "ExecuteTime": {
          "end_time": "2019-05-31T11:46:52.446120Z",
          "start_time": "2019-05-31T11:46:52.396020Z"
        },
        "id": "7q3mAS6iwhly",
        "outputId": "cbba51a2-a3d0-4d71-cfa2-9171e3183f6c"
      },
      "outputs": [
        {
          "data": {
            "text/html": [
              "<div>\n",
              "<style scoped>\n",
              "    .dataframe tbody tr th:only-of-type {\n",
              "        vertical-align: middle;\n",
              "    }\n",
              "\n",
              "    .dataframe tbody tr th {\n",
              "        vertical-align: top;\n",
              "    }\n",
              "\n",
              "    .dataframe thead th {\n",
              "        text-align: right;\n",
              "    }\n",
              "</style>\n",
              "<table border=\"1\" class=\"dataframe\">\n",
              "  <thead>\n",
              "    <tr style=\"text-align: right;\">\n",
              "      <th></th>\n",
              "      <th>0</th>\n",
              "      <th>1</th>\n",
              "      <th>2</th>\n",
              "      <th>3</th>\n",
              "      <th>4</th>\n",
              "      <th>5</th>\n",
              "      <th>6</th>\n",
              "      <th>7</th>\n",
              "      <th>8</th>\n",
              "      <th>9</th>\n",
              "      <th>10</th>\n",
              "      <th>11</th>\n",
              "      <th>12</th>\n",
              "      <th>13</th>\n",
              "      <th>14</th>\n",
              "      <th>15</th>\n",
              "      <th>16</th>\n",
              "      <th>17</th>\n",
              "      <th>18</th>\n",
              "      <th>19</th>\n",
              "    </tr>\n",
              "  </thead>\n",
              "  <tbody>\n",
              "    <tr>\n",
              "      <th>0</th>\n",
              "      <td>shrimp</td>\n",
              "      <td>almonds</td>\n",
              "      <td>avocado</td>\n",
              "      <td>vegetables mix</td>\n",
              "      <td>green grapes</td>\n",
              "      <td>whole weat flour</td>\n",
              "      <td>yams</td>\n",
              "      <td>cottage cheese</td>\n",
              "      <td>energy drink</td>\n",
              "      <td>tomato juice</td>\n",
              "      <td>low fat yogurt</td>\n",
              "      <td>green tea</td>\n",
              "      <td>honey</td>\n",
              "      <td>salad</td>\n",
              "      <td>mineral water</td>\n",
              "      <td>salmon</td>\n",
              "      <td>antioxydant juice</td>\n",
              "      <td>frozen smoothie</td>\n",
              "      <td>spinach</td>\n",
              "      <td>olive oil</td>\n",
              "    </tr>\n",
              "    <tr>\n",
              "      <th>1</th>\n",
              "      <td>burgers</td>\n",
              "      <td>meatballs</td>\n",
              "      <td>eggs</td>\n",
              "      <td>NaN</td>\n",
              "      <td>NaN</td>\n",
              "      <td>NaN</td>\n",
              "      <td>NaN</td>\n",
              "      <td>NaN</td>\n",
              "      <td>NaN</td>\n",
              "      <td>NaN</td>\n",
              "      <td>NaN</td>\n",
              "      <td>NaN</td>\n",
              "      <td>NaN</td>\n",
              "      <td>NaN</td>\n",
              "      <td>NaN</td>\n",
              "      <td>NaN</td>\n",
              "      <td>NaN</td>\n",
              "      <td>NaN</td>\n",
              "      <td>NaN</td>\n",
              "      <td>NaN</td>\n",
              "    </tr>\n",
              "    <tr>\n",
              "      <th>2</th>\n",
              "      <td>chutney</td>\n",
              "      <td>NaN</td>\n",
              "      <td>NaN</td>\n",
              "      <td>NaN</td>\n",
              "      <td>NaN</td>\n",
              "      <td>NaN</td>\n",
              "      <td>NaN</td>\n",
              "      <td>NaN</td>\n",
              "      <td>NaN</td>\n",
              "      <td>NaN</td>\n",
              "      <td>NaN</td>\n",
              "      <td>NaN</td>\n",
              "      <td>NaN</td>\n",
              "      <td>NaN</td>\n",
              "      <td>NaN</td>\n",
              "      <td>NaN</td>\n",
              "      <td>NaN</td>\n",
              "      <td>NaN</td>\n",
              "      <td>NaN</td>\n",
              "      <td>NaN</td>\n",
              "    </tr>\n",
              "    <tr>\n",
              "      <th>3</th>\n",
              "      <td>turkey</td>\n",
              "      <td>avocado</td>\n",
              "      <td>NaN</td>\n",
              "      <td>NaN</td>\n",
              "      <td>NaN</td>\n",
              "      <td>NaN</td>\n",
              "      <td>NaN</td>\n",
              "      <td>NaN</td>\n",
              "      <td>NaN</td>\n",
              "      <td>NaN</td>\n",
              "      <td>NaN</td>\n",
              "      <td>NaN</td>\n",
              "      <td>NaN</td>\n",
              "      <td>NaN</td>\n",
              "      <td>NaN</td>\n",
              "      <td>NaN</td>\n",
              "      <td>NaN</td>\n",
              "      <td>NaN</td>\n",
              "      <td>NaN</td>\n",
              "      <td>NaN</td>\n",
              "    </tr>\n",
              "    <tr>\n",
              "      <th>4</th>\n",
              "      <td>mineral water</td>\n",
              "      <td>milk</td>\n",
              "      <td>energy bar</td>\n",
              "      <td>whole wheat rice</td>\n",
              "      <td>green tea</td>\n",
              "      <td>NaN</td>\n",
              "      <td>NaN</td>\n",
              "      <td>NaN</td>\n",
              "      <td>NaN</td>\n",
              "      <td>NaN</td>\n",
              "      <td>NaN</td>\n",
              "      <td>NaN</td>\n",
              "      <td>NaN</td>\n",
              "      <td>NaN</td>\n",
              "      <td>NaN</td>\n",
              "      <td>NaN</td>\n",
              "      <td>NaN</td>\n",
              "      <td>NaN</td>\n",
              "      <td>NaN</td>\n",
              "      <td>NaN</td>\n",
              "    </tr>\n",
              "  </tbody>\n",
              "</table>\n",
              "</div>"
            ],
            "text/plain": [
              "              0          1           2                 3             4   \\\n",
              "0         shrimp    almonds     avocado    vegetables mix  green grapes   \n",
              "1        burgers  meatballs        eggs               NaN           NaN   \n",
              "2        chutney        NaN         NaN               NaN           NaN   \n",
              "3         turkey    avocado         NaN               NaN           NaN   \n",
              "4  mineral water       milk  energy bar  whole wheat rice     green tea   \n",
              "\n",
              "                 5     6               7             8             9   \\\n",
              "0  whole weat flour  yams  cottage cheese  energy drink  tomato juice   \n",
              "1               NaN   NaN             NaN           NaN           NaN   \n",
              "2               NaN   NaN             NaN           NaN           NaN   \n",
              "3               NaN   NaN             NaN           NaN           NaN   \n",
              "4               NaN   NaN             NaN           NaN           NaN   \n",
              "\n",
              "               10         11     12     13             14      15  \\\n",
              "0  low fat yogurt  green tea  honey  salad  mineral water  salmon   \n",
              "1             NaN        NaN    NaN    NaN            NaN     NaN   \n",
              "2             NaN        NaN    NaN    NaN            NaN     NaN   \n",
              "3             NaN        NaN    NaN    NaN            NaN     NaN   \n",
              "4             NaN        NaN    NaN    NaN            NaN     NaN   \n",
              "\n",
              "                  16               17       18         19  \n",
              "0  antioxydant juice  frozen smoothie  spinach  olive oil  \n",
              "1                NaN              NaN      NaN        NaN  \n",
              "2                NaN              NaN      NaN        NaN  \n",
              "3                NaN              NaN      NaN        NaN  \n",
              "4                NaN              NaN      NaN        NaN  "
            ]
          },
          "metadata": {},
          "output_type": "display_data"
        },
        {
          "name": "stdout",
          "output_type": "stream",
          "text": [
            "(7501, 20)\n"
          ]
        }
      ],
      "source": [
        "store_data = pd.read_csv(\"store_data.csv\", header=None)\n",
        "display(store_data.head())\n",
        "print(store_data.shape)"
      ]
    },
    {
      "cell_type": "markdown",
      "metadata": {
        "id": "dDKdZS0jwhly"
      },
      "source": [
        "## Preprocessing on Data\n",
        "*  Here we need a data in form of list for Apriori Algorithm."
      ]
    },
    {
      "cell_type": "markdown",
      "source": [
        "\n",
        "* Convert the DataFrame into a list of lists where each sublist is a transaction\n",
        "* Looping through each transaction (assuming 7500 transactions)\n",
        "\n"
      ],
      "metadata": {
        "id": "Lm5UGuIVygnJ"
      }
    },
    {
      "cell_type": "code",
      "execution_count": null,
      "metadata": {
        "ExecuteTime": {
          "end_time": "2019-05-31T11:46:53.754118Z",
          "start_time": "2019-05-31T11:46:52.448022Z"
        },
        "id": "MLPnPRznwhly"
      },
      "outputs": [],
      "source": [
        "records = []\n",
        "for i in range(1, 7501):\n",
        "    records.append([str(store_data.values[i, j]) for j in range(0, 20)])"
      ]
    },
    {
      "cell_type": "markdown",
      "source": [
        "\n",
        "*  Display the type of 'records' to ensure it's a list\n",
        "\n"
      ],
      "metadata": {
        "id": "QsIPo4aKyum3"
      }
    },
    {
      "cell_type": "code",
      "execution_count": null,
      "metadata": {
        "ExecuteTime": {
          "end_time": "2019-05-31T11:46:53.759119Z",
          "start_time": "2019-05-31T11:46:53.756117Z"
        },
        "id": "IOVpo8xjwhlz",
        "outputId": "f3b77e67-e2a4-42ac-f347-06fc48f50036"
      },
      "outputs": [
        {
          "name": "stdout",
          "output_type": "stream",
          "text": [
            "<class 'list'>\n"
          ]
        }
      ],
      "source": [
        "print(type(records))"
      ]
    },
    {
      "cell_type": "markdown",
      "metadata": {
        "id": "mk7snsmTwhlz"
      },
      "source": [
        "## Apriori Algorithm\n",
        "\n",
        "* Now time to apply algorithm on data.\n",
        "* We have provide `min_support`, `min_confidence`, `min_lift`, and `min length` of sample-set for find rule.\n",
        "\n",
        "#### Measure 1: Support.\n",
        "This says how popular an itemset is, as measured by the proportion of transactions in which an itemset appears. In Table 1 below, the support of {apple} is 4 out of 8, or 50%. Itemsets can also contain multiple items. For instance, the support of {apple, beer, rice} is 2 out of 8, or 25%.\n",
        "\n",
        "![](https://annalyzin.files.wordpress.com/2016/04/association-rule-support-table.png?w=503&h=447)\n",
        "\n",
        "If you discover that sales of items beyond a certain proportion tend to have a significant impact on your profits, you might consider using that proportion as your support threshold. You may then identify itemsets with support values above this threshold as significant itemsets.\n",
        "\n",
        "#### Measure 2: Confidence.\n",
        "This says how likely item Y is purchased when item X is purchased, expressed as {X -> Y}. This is measured by the proportion of transactions with item X, in which item Y also appears. In Table 1, the confidence of {apple -> beer} is 3 out of 4, or 75%.\n",
        "\n",
        "![](https://annalyzin.files.wordpress.com/2016/03/association-rule-confidence-eqn.png?w=527&h=77)\n",
        "\n",
        "One drawback of the confidence measure is that it might misrepresent the importance of an association. This is because it only accounts for how popular apples are, but not beers. If beers are also very popular in general, there will be a higher chance that a transaction containing apples will also contain beers, thus inflating the confidence measure. To account for the base popularity of both constituent items, we use a third measure called lift.\n",
        "\n",
        "#### Measure 3: Lift.\n",
        "This says how likely item Y is purchased when item X is purchased, while controlling for how popular item Y is. In Table 1, the lift of {apple -> beer} is 1,which implies no association between items. A lift value greater than 1 means that item Y is likely to be bought if item X is bought, while a value less than 1 means that item Y is unlikely to be bought if item X is bought.\n",
        "![](https://annalyzin.files.wordpress.com/2016/03/association-rule-lift-eqn.png?w=566&h=80)"
      ]
    },
    {
      "cell_type": "markdown",
      "source": [
        "\n",
        "\n",
        "* Apply the Apriori algorithm to the dataset with specific minimum thresholds for support, confidence, and lift\n",
        "\n",
        "*  Convert the association rules to a list\n",
        "\n",
        "\n",
        "\n"
      ],
      "metadata": {
        "id": "cgOlq375nWnk"
      }
    },
    {
      "cell_type": "code",
      "execution_count": null,
      "metadata": {
        "ExecuteTime": {
          "end_time": "2019-05-31T11:47:42.407141Z",
          "start_time": "2019-05-31T11:47:40.566100Z"
        },
        "id": "vpsYow_Cwhlz"
      },
      "outputs": [],
      "source": [
        "association_rules = apriori(records, min_support=0.0045, min_confidence=0.2, min_lift=3, min_length=2)\n",
        "association_results = list(association_rules)"
      ]
    },
    {
      "cell_type": "markdown",
      "metadata": {
        "id": "xALqvHvfwhlz"
      },
      "source": [
        "## How many relation derived"
      ]
    },
    {
      "cell_type": "markdown",
      "source": [
        "\n",
        "\n",
        "* Print the number of association rules derived after applying the Apriori algorithm\n",
        "\n"
      ],
      "metadata": {
        "id": "TjWlnlDbntRe"
      }
    },
    {
      "cell_type": "code",
      "execution_count": null,
      "metadata": {
        "ExecuteTime": {
          "end_time": "2019-05-31T11:46:55.776118Z",
          "start_time": "2019-05-31T11:46:55.770118Z"
        },
        "id": "PJ_ra6wawhl0",
        "outputId": "59852e1a-9fb1-46b8-e6f0-b025f9fa5569"
      },
      "outputs": [
        {
          "name": "stdout",
          "output_type": "stream",
          "text": [
            "There are 48 Relation derived.\n"
          ]
        }
      ],
      "source": [
        "print(\"There are {} Relation derived.\".format(len(association_results)))"
      ]
    },
    {
      "cell_type": "markdown",
      "metadata": {
        "id": "xW3gi-Acwhl0"
      },
      "source": [
        "### Association Rules Derived"
      ]
    },
    {
      "cell_type": "markdown",
      "source": [
        "\n",
        "\n",
        "* Loop through the generated association rules and print them\n",
        "\n",
        "\n"
      ],
      "metadata": {
        "id": "dWIj6DpSn5kI"
      }
    },
    {
      "cell_type": "code",
      "execution_count": null,
      "metadata": {
        "ExecuteTime": {
          "end_time": "2019-05-31T11:46:55.873119Z",
          "start_time": "2019-05-31T11:46:55.778119Z"
        },
        "code_folding": [],
        "id": "1UHv0kiFwhl0",
        "outputId": "185ead4f-e645-4ab8-a240-e4e1e71dc3b7"
      },
      "outputs": [
        {
          "name": "stdout",
          "output_type": "stream",
          "text": [
            "frozenset({'light cream', 'chicken'})\n",
            "frozenset({'escalope', 'mushroom cream sauce'})\n",
            "frozenset({'escalope', 'pasta'})\n",
            "frozenset({'ground beef', 'herb & pepper'})\n",
            "frozenset({'ground beef', 'tomato sauce'})\n",
            "frozenset({'olive oil', 'whole wheat pasta'})\n",
            "frozenset({'pasta', 'shrimp'})\n",
            "frozenset({'light cream', 'nan', 'chicken'})\n",
            "frozenset({'frozen vegetables', 'chocolate', 'shrimp'})\n",
            "frozenset({'ground beef', 'cooking oil', 'spaghetti'})\n",
            "frozenset({'nan', 'escalope', 'mushroom cream sauce'})\n",
            "frozenset({'escalope', 'pasta', 'nan'})\n",
            "frozenset({'ground beef', 'frozen vegetables', 'spaghetti'})\n",
            "frozenset({'milk', 'frozen vegetables', 'olive oil'})\n",
            "frozenset({'frozen vegetables', 'mineral water', 'shrimp'})\n",
            "frozenset({'frozen vegetables', 'spaghetti', 'olive oil'})\n",
            "frozenset({'frozen vegetables', 'spaghetti', 'shrimp'})\n",
            "frozenset({'frozen vegetables', 'tomatoes', 'spaghetti'})\n",
            "frozenset({'ground beef', 'grated cheese', 'spaghetti'})\n",
            "frozenset({'ground beef', 'mineral water', 'herb & pepper'})\n",
            "frozenset({'ground beef', 'nan', 'herb & pepper'})\n",
            "frozenset({'ground beef', 'herb & pepper', 'spaghetti'})\n",
            "frozenset({'ground beef', 'olive oil', 'milk'})\n",
            "frozenset({'ground beef', 'nan', 'tomato sauce'})\n",
            "frozenset({'ground beef', 'spaghetti', 'shrimp'})\n",
            "frozenset({'milk', 'olive oil', 'spaghetti'})\n",
            "frozenset({'mineral water', 'olive oil', 'soup'})\n",
            "frozenset({'nan', 'whole wheat pasta', 'olive oil'})\n",
            "frozenset({'nan', 'pasta', 'shrimp'})\n",
            "frozenset({'olive oil', 'spaghetti', 'pancakes'})\n",
            "frozenset({'nan', 'frozen vegetables', 'chocolate', 'shrimp'})\n",
            "frozenset({'ground beef', 'nan', 'cooking oil', 'spaghetti'})\n",
            "frozenset({'ground beef', 'frozen vegetables', 'spaghetti', 'nan'})\n",
            "frozenset({'milk', 'frozen vegetables', 'mineral water', 'spaghetti'})\n",
            "frozenset({'milk', 'frozen vegetables', 'olive oil', 'nan'})\n",
            "frozenset({'frozen vegetables', 'mineral water', 'nan', 'shrimp'})\n",
            "frozenset({'frozen vegetables', 'olive oil', 'spaghetti', 'nan'})\n",
            "frozenset({'frozen vegetables', 'spaghetti', 'nan', 'shrimp'})\n",
            "frozenset({'frozen vegetables', 'tomatoes', 'spaghetti', 'nan'})\n",
            "frozenset({'ground beef', 'nan', 'grated cheese', 'spaghetti'})\n",
            "frozenset({'ground beef', 'mineral water', 'herb & pepper', 'nan'})\n",
            "frozenset({'ground beef', 'nan', 'herb & pepper', 'spaghetti'})\n",
            "frozenset({'ground beef', 'nan', 'olive oil', 'milk'})\n",
            "frozenset({'ground beef', 'nan', 'spaghetti', 'shrimp'})\n",
            "frozenset({'milk', 'nan', 'spaghetti', 'olive oil'})\n",
            "frozenset({'mineral water', 'olive oil', 'nan', 'soup'})\n",
            "frozenset({'nan', 'spaghetti', 'pancakes', 'olive oil'})\n",
            "frozenset({'milk', 'nan', 'mineral water', 'frozen vegetables', 'spaghetti'})\n"
          ]
        }
      ],
      "source": [
        "for i in range(0, len(association_results)):\n",
        "    print(association_results[i][0])"
      ]
    },
    {
      "cell_type": "markdown",
      "metadata": {
        "id": "0FFZwlzMwhl1"
      },
      "source": [
        "## Rules Generated"
      ]
    },
    {
      "cell_type": "markdown",
      "source": [
        "\n",
        "\n",
        "* Loop through the association results to print detailed information about each rule\n",
        "* The rule is represented as an antecedent -> consequent\n",
        "\n"
      ],
      "metadata": {
        "id": "6fk0NsbEoHQM"
      }
    },
    {
      "cell_type": "code",
      "execution_count": null,
      "metadata": {
        "ExecuteTime": {
          "end_time": "2019-05-31T11:48:08.589737Z",
          "start_time": "2019-05-31T11:48:08.573742Z"
        },
        "scrolled": false,
        "id": "VCbD1mavwhl1",
        "outputId": "1963a888-5991-4e0d-958c-7034de04efc9"
      },
      "outputs": [
        {
          "name": "stdout",
          "output_type": "stream",
          "text": [
            "Rule: light cream -> chicken\n",
            "Support: 0.004533333333333334\n",
            "Confidence: 0.2905982905982906\n",
            "Lift: 4.843304843304844\n",
            "=====================================\n",
            "Rule: escalope -> mushroom cream sauce\n",
            "Support: 0.005733333333333333\n",
            "Confidence: 0.30069930069930073\n",
            "Lift: 3.7903273197390845\n",
            "=====================================\n",
            "Rule: escalope -> pasta\n",
            "Support: 0.005866666666666667\n",
            "Confidence: 0.37288135593220345\n",
            "Lift: 4.700185158809287\n",
            "=====================================\n",
            "Rule: ground beef -> herb & pepper\n",
            "Support: 0.016\n",
            "Confidence: 0.3234501347708895\n",
            "Lift: 3.2915549671393096\n",
            "=====================================\n",
            "Rule: ground beef -> tomato sauce\n",
            "Support: 0.005333333333333333\n",
            "Confidence: 0.37735849056603776\n",
            "Lift: 3.840147461662528\n",
            "=====================================\n",
            "Rule: olive oil -> whole wheat pasta\n",
            "Support: 0.008\n",
            "Confidence: 0.2714932126696833\n",
            "Lift: 4.130221288078346\n",
            "=====================================\n",
            "Rule: pasta -> shrimp\n",
            "Support: 0.005066666666666666\n",
            "Confidence: 0.3220338983050848\n",
            "Lift: 4.514493901473151\n",
            "=====================================\n",
            "Rule: light cream -> nan\n",
            "Support: 0.004533333333333334\n",
            "Confidence: 0.2905982905982906\n",
            "Lift: 4.843304843304844\n",
            "=====================================\n",
            "Rule: frozen vegetables -> chocolate\n",
            "Support: 0.005333333333333333\n",
            "Confidence: 0.23255813953488372\n",
            "Lift: 3.260160834601174\n",
            "=====================================\n",
            "Rule: ground beef -> cooking oil\n",
            "Support: 0.0048\n",
            "Confidence: 0.5714285714285714\n",
            "Lift: 3.281557646029315\n",
            "=====================================\n",
            "Rule: nan -> escalope\n",
            "Support: 0.005733333333333333\n",
            "Confidence: 0.30069930069930073\n",
            "Lift: 3.7903273197390845\n",
            "=====================================\n",
            "Rule: escalope -> pasta\n",
            "Support: 0.005866666666666667\n",
            "Confidence: 0.37288135593220345\n",
            "Lift: 4.700185158809287\n",
            "=====================================\n",
            "Rule: ground beef -> frozen vegetables\n",
            "Support: 0.008666666666666666\n",
            "Confidence: 0.3110047846889952\n",
            "Lift: 3.164906221394116\n",
            "=====================================\n",
            "Rule: milk -> frozen vegetables\n",
            "Support: 0.0048\n",
            "Confidence: 0.20338983050847456\n",
            "Lift: 3.094165778526489\n",
            "=====================================\n",
            "Rule: frozen vegetables -> mineral water\n",
            "Support: 0.0072\n",
            "Confidence: 0.3068181818181818\n",
            "Lift: 3.2183725365543547\n",
            "=====================================\n",
            "Rule: frozen vegetables -> spaghetti\n",
            "Support: 0.005733333333333333\n",
            "Confidence: 0.20574162679425836\n",
            "Lift: 3.1299436124887174\n",
            "=====================================\n",
            "Rule: frozen vegetables -> spaghetti\n",
            "Support: 0.006\n",
            "Confidence: 0.21531100478468898\n",
            "Lift: 3.0183785717479763\n",
            "=====================================\n",
            "Rule: frozen vegetables -> tomatoes\n",
            "Support: 0.006666666666666667\n",
            "Confidence: 0.23923444976076555\n",
            "Lift: 3.497579674864993\n",
            "=====================================\n",
            "Rule: ground beef -> grated cheese\n",
            "Support: 0.005333333333333333\n",
            "Confidence: 0.3225806451612903\n",
            "Lift: 3.282706701098612\n",
            "=====================================\n",
            "Rule: ground beef -> mineral water\n",
            "Support: 0.006666666666666667\n",
            "Confidence: 0.390625\n",
            "Lift: 3.975152645861601\n",
            "=====================================\n",
            "Rule: ground beef -> nan\n",
            "Support: 0.016\n",
            "Confidence: 0.3234501347708895\n",
            "Lift: 3.2915549671393096\n",
            "=====================================\n",
            "Rule: ground beef -> herb & pepper\n",
            "Support: 0.0064\n",
            "Confidence: 0.3934426229508197\n",
            "Lift: 4.003825878061259\n",
            "=====================================\n",
            "Rule: ground beef -> olive oil\n",
            "Support: 0.004933333333333333\n",
            "Confidence: 0.22424242424242424\n",
            "Lift: 3.411395906324912\n",
            "=====================================\n",
            "Rule: ground beef -> nan\n",
            "Support: 0.005333333333333333\n",
            "Confidence: 0.37735849056603776\n",
            "Lift: 3.840147461662528\n",
            "=====================================\n",
            "Rule: ground beef -> spaghetti\n",
            "Support: 0.006\n",
            "Confidence: 0.5232558139534884\n",
            "Lift: 3.004914704939635\n",
            "=====================================\n",
            "Rule: milk -> olive oil\n",
            "Support: 0.0072\n",
            "Confidence: 0.20300751879699247\n",
            "Lift: 3.0883496774390333\n",
            "=====================================\n",
            "Rule: mineral water -> olive oil\n",
            "Support: 0.0052\n",
            "Confidence: 0.2254335260115607\n",
            "Lift: 3.4295161157945335\n",
            "=====================================\n",
            "Rule: nan -> whole wheat pasta\n",
            "Support: 0.008\n",
            "Confidence: 0.2714932126696833\n",
            "Lift: 4.130221288078346\n",
            "=====================================\n",
            "Rule: nan -> pasta\n",
            "Support: 0.005066666666666666\n",
            "Confidence: 0.3220338983050848\n",
            "Lift: 4.514493901473151\n",
            "=====================================\n",
            "Rule: olive oil -> spaghetti\n",
            "Support: 0.005066666666666666\n",
            "Confidence: 0.20105820105820105\n",
            "Lift: 3.0586947422647217\n",
            "=====================================\n",
            "Rule: nan -> frozen vegetables\n",
            "Support: 0.005333333333333333\n",
            "Confidence: 0.23255813953488372\n",
            "Lift: 3.260160834601174\n",
            "=====================================\n",
            "Rule: ground beef -> nan\n",
            "Support: 0.0048\n",
            "Confidence: 0.5714285714285714\n",
            "Lift: 3.281557646029315\n",
            "=====================================\n",
            "Rule: ground beef -> frozen vegetables\n",
            "Support: 0.008666666666666666\n",
            "Confidence: 0.3110047846889952\n",
            "Lift: 3.164906221394116\n",
            "=====================================\n",
            "Rule: milk -> frozen vegetables\n",
            "Support: 0.004533333333333334\n",
            "Confidence: 0.28813559322033905\n",
            "Lift: 3.0224013274860737\n",
            "=====================================\n",
            "Rule: milk -> frozen vegetables\n",
            "Support: 0.0048\n",
            "Confidence: 0.20338983050847456\n",
            "Lift: 3.094165778526489\n",
            "=====================================\n",
            "Rule: frozen vegetables -> mineral water\n",
            "Support: 0.0072\n",
            "Confidence: 0.3068181818181818\n",
            "Lift: 3.2183725365543547\n",
            "=====================================\n",
            "Rule: frozen vegetables -> olive oil\n",
            "Support: 0.005733333333333333\n",
            "Confidence: 0.20574162679425836\n",
            "Lift: 3.1299436124887174\n",
            "=====================================\n",
            "Rule: frozen vegetables -> spaghetti\n",
            "Support: 0.006\n",
            "Confidence: 0.21531100478468898\n",
            "Lift: 3.0183785717479763\n",
            "=====================================\n",
            "Rule: frozen vegetables -> tomatoes\n",
            "Support: 0.006666666666666667\n",
            "Confidence: 0.23923444976076555\n",
            "Lift: 3.497579674864993\n",
            "=====================================\n",
            "Rule: ground beef -> nan\n",
            "Support: 0.005333333333333333\n",
            "Confidence: 0.3225806451612903\n",
            "Lift: 3.282706701098612\n",
            "=====================================\n",
            "Rule: ground beef -> mineral water\n",
            "Support: 0.006666666666666667\n",
            "Confidence: 0.390625\n",
            "Lift: 3.975152645861601\n",
            "=====================================\n",
            "Rule: ground beef -> nan\n",
            "Support: 0.0064\n",
            "Confidence: 0.3934426229508197\n",
            "Lift: 4.003825878061259\n",
            "=====================================\n",
            "Rule: ground beef -> nan\n",
            "Support: 0.004933333333333333\n",
            "Confidence: 0.22424242424242424\n",
            "Lift: 3.411395906324912\n",
            "=====================================\n",
            "Rule: ground beef -> nan\n",
            "Support: 0.006\n",
            "Confidence: 0.5232558139534884\n",
            "Lift: 3.004914704939635\n",
            "=====================================\n",
            "Rule: milk -> nan\n",
            "Support: 0.0072\n",
            "Confidence: 0.20300751879699247\n",
            "Lift: 3.0883496774390333\n",
            "=====================================\n",
            "Rule: mineral water -> olive oil\n",
            "Support: 0.0052\n",
            "Confidence: 0.2254335260115607\n",
            "Lift: 3.4295161157945335\n",
            "=====================================\n",
            "Rule: nan -> spaghetti\n",
            "Support: 0.005066666666666666\n",
            "Confidence: 0.20105820105820105\n",
            "Lift: 3.0586947422647217\n",
            "=====================================\n",
            "Rule: milk -> nan\n",
            "Support: 0.004533333333333334\n",
            "Confidence: 0.28813559322033905\n",
            "Lift: 3.0224013274860737\n",
            "=====================================\n"
          ]
        }
      ],
      "source": [
        "for item in association_results:\n",
        "    # first index of the inner list\n",
        "    # Contains base item and add item\n",
        "    pair = item[0]\n",
        "    items = [x for x in pair]\n",
        "    print(\"Rule: \" + items[0] + \" -> \" + items[1])\n",
        "\n",
        "    # second index of the inner list\n",
        "    print(\"Support: \" + str(item[1]))\n",
        "\n",
        "    # third index of the list located at 0th\n",
        "    # of the third index of the inner list\n",
        "\n",
        "    print(\"Confidence: \" + str(item[2][0][2]))\n",
        "    print(\"Lift: \" + str(item[2][0][3]))\n",
        "    print(\"=====================================\")"
      ]
    },
    {
      "cell_type": "markdown",
      "metadata": {
        "ExecuteTime": {
          "end_time": "2019-05-31T11:56:17.717346Z",
          "start_time": "2019-05-31T11:56:17.713349Z"
        },
        "id": "QGVDlmfRwhl2"
      },
      "source": [
        "References : **Theory** https://www.kdnuggets.com/2016/04/association-rules-apriori-algorithm-tutorial.html"
      ]
    }
  ],
  "metadata": {
    "hide_input": false,
    "kernelspec": {
      "display_name": "base",
      "language": "python",
      "name": "python3"
    },
    "language_info": {
      "codemirror_mode": {
        "name": "ipython",
        "version": 3
      },
      "file_extension": ".py",
      "mimetype": "text/x-python",
      "name": "python",
      "nbconvert_exporter": "python",
      "pygments_lexer": "ipython3",
      "version": "3.12.4"
    },
    "latex_envs": {
      "LaTeX_envs_menu_present": true,
      "autoclose": false,
      "autocomplete": true,
      "bibliofile": "biblio.bib",
      "cite_by": "apalike",
      "current_citInitial": 1,
      "eqLabelWithNumbers": true,
      "eqNumInitial": 1,
      "hotkeys": {
        "equation": "Ctrl-E",
        "itemize": "Ctrl-I"
      },
      "labels_anchors": false,
      "latex_user_defs": false,
      "report_style_numbering": false,
      "user_envs_cfg": false
    },
    "nbTranslate": {
      "displayLangs": [
        "*"
      ],
      "hotkey": "alt-t",
      "langInMainMenu": true,
      "sourceLang": "en",
      "targetLang": "fr",
      "useGoogleTranslate": true
    },
    "toc": {
      "base_numbering": 1,
      "nav_menu": {},
      "number_sections": true,
      "sideBar": true,
      "skip_h1_title": false,
      "title_cell": "Table of Contents",
      "title_sidebar": "Contents",
      "toc_cell": false,
      "toc_position": {},
      "toc_section_display": true,
      "toc_window_display": false
    },
    "varInspector": {
      "cols": {
        "lenName": 16,
        "lenType": 16,
        "lenVar": 40
      },
      "kernels_config": {
        "python": {
          "delete_cmd_postfix": "",
          "delete_cmd_prefix": "del ",
          "library": "var_list.py",
          "varRefreshCmd": "print(var_dic_list())"
        },
        "r": {
          "delete_cmd_postfix": ") ",
          "delete_cmd_prefix": "rm(",
          "library": "var_list.r",
          "varRefreshCmd": "cat(var_dic_list()) "
        }
      },
      "types_to_exclude": [
        "module",
        "function",
        "builtin_function_or_method",
        "instance",
        "_Feature"
      ],
      "window_display": false
    },
    "colab": {
      "provenance": []
    }
  },
  "nbformat": 4,
  "nbformat_minor": 0
}