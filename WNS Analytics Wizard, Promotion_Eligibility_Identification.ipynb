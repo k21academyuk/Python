{
  "cells": [
    {
      "cell_type": "markdown",
      "id": "3d3de61a-e95b-47cd-ab99-374f09a5bb10",
      "metadata": {
        "id": "3d3de61a-e95b-47cd-ab99-374f09a5bb10"
      },
      "source": [
        "## WNS Analytics Wizard\n",
        "\n",
        "Your client is a large MNC and they have 9 broad verticals across the organisation. One of the problem your client is facing is around identifying the right people for promotion (only for manager position and below) and prepare them in time. Currently the process, they are following is:\n",
        "\n",
        "- They first identify a set of employees based on recommendations/ past performance\n",
        "- Selected employees go through the separate training and evaluation program for each vertical. These programs are based on the required skill of each vertical\n",
        "- At the end of the program, based on various factors such as training performance, KPI completion (only employees with KPIs completed greater than 60% are considered) etc., employee gets promotion\n",
        "\n",
        "For above mentioned process, the final promotions are only announced after the evaluation and this leads to delay in transition to their new roles. Hence, company needs your help in identifying the eligible candidates at a particular checkpoint so that they can expedite the entire promotion cycle.\n",
        "\n",
        "\n",
        "They have provided multiple attributes around Employee's past and current performance along with demographics. Now, The task is to predict whether a potential promotee at checkpoint in the test set will be promoted or not after the evaluation process.\n",
        "\n",
        "\n",
        "Dataset Description:\n",
        "\n",
        "|Variable |\tDefinition|\n",
        "|-------------------------|---------------------------------------|\n",
        "|employee_id |\tUnique ID for employee|\n",
        "|department |\tDepartment of employee|\n",
        "|region \t|Region of employment (unordered)|\n",
        "|education \t|Education Level|\n",
        "|gender \t|Gender of Employee|\n",
        "|recruitment_channel |\tChannel of recruitment for employee|\n",
        "|no_of_trainings \t|no of other trainings completed in previous year on soft skills, technical skills etc.|\n",
        "|age \t|Age of Employee|\n",
        "|previous_year_rating |\tEmployee Rating for the previous year|\n",
        "|length_of_service \t|Length of service in years|\n",
        "|KPIs_met >80% \t|if Percent of KPIs(Key performance Indicators) >80% then 1 else 0|\n",
        "|awards_won? \t|if awards won during previous year then 1 else 0|\n",
        "|avg_training_score| \tAverage score in current training evaluations|\n",
        "|is_promoted |\t(Target) Recommended for promotion|\n",
        "\n"
      ]
    },
    {
      "cell_type": "markdown",
      "id": "18afcddb-c803-4338-b0fa-e023a2f3b39d",
      "metadata": {
        "id": "18afcddb-c803-4338-b0fa-e023a2f3b39d"
      },
      "source": [
        "# 1. Load Important Libraries"
      ]
    },
    {
      "cell_type": "code",
      "execution_count": null,
      "id": "46ea19a1-67fc-4e84-9fc9-838d1caaa6e4",
      "metadata": {
        "id": "46ea19a1-67fc-4e84-9fc9-838d1caaa6e4"
      },
      "outputs": [],
      "source": [
        "import pandas as pd\n",
        "import numpy as np\n",
        "import matplotlib.pyplot as plt\n",
        "import seaborn as sns\n",
        "\n",
        "from sklearn.model_selection import train_test_split\n",
        "from sklearn.preprocessing import StandardScaler\n",
        "from sklearn.metrics import f1_score\n",
        "\n",
        "from sklearn.linear_model import LogisticRegression\n",
        "from sklearn.tree import DecisionTreeClassifier\n",
        "from sklearn.ensemble import RandomForestClassifier\n",
        "from sklearn.neighbors import KNeighborsClassifier\n",
        "from sklearn.svm import SVC\n",
        "from sklearn.naive_bayes import GaussianNB\n",
        "\n",
        "from xgboost import XGBClassifier\n",
        "\n",
        "import warnings\n",
        "warnings.filterwarnings(\"ignore\")"
      ]
    },
    {
      "cell_type": "markdown",
      "id": "88cfd965-8234-4ba2-8802-a7759a82490a",
      "metadata": {
        "id": "88cfd965-8234-4ba2-8802-a7759a82490a"
      },
      "source": [
        "# 2. Data Load"
      ]
    },
    {
      "cell_type": "code",
      "execution_count": null,
      "id": "7ffa3aa6-4d4a-4af1-9e30-0e185b4fb21b",
      "metadata": {
        "id": "7ffa3aa6-4d4a-4af1-9e30-0e185b4fb21b"
      },
      "outputs": [],
      "source": [
        "df = pd.read_csv(\"train_LZdllcl(1).csv\")"
      ]
    },
    {
      "cell_type": "markdown",
      "id": "cc88efdc-ef66-4cc8-88b4-26bddcb56f9f",
      "metadata": {
        "id": "cc88efdc-ef66-4cc8-88b4-26bddcb56f9f"
      },
      "source": [
        "# 3. Data Exploration\n",
        "**a. Initial Exploration:**\n",
        "\n",
        "*  The first few lines (head(), tail(), info(), isnull().sum()) are used to understand the structure, types, and missing values in the dataset. This is the first thing you do before data cleaning.\n",
        "\n",
        "**b. Looking at Specific Columns:**\n",
        "\n",
        "*  It then explores two important columns: education and previous_year_rating, both of which may contain missing values or important patterns.\n",
        "*  Using value_counts(normalize=True) helps you see how frequently each value appears (in percentage) and how significant the missing data is.\n",
        "\n",
        "**c. Service Length Focus:**\n",
        "\n",
        "\n",
        "*   The code checks the distribution of 'length_of_service' (i.e., how long each employee has worked).\n",
        "*  It then zooms in on employees with only 1 year of service, possibly because short-tenure employees might behave differently.\n",
        "*  Finally, it checks how many missing values exist for these 1-year employees, which might help decide how to clean or treat their data."
      ]
    },
    {
      "cell_type": "code",
      "execution_count": null,
      "id": "f7a9e787-6639-4852-bc89-6ed9596632f4",
      "metadata": {
        "id": "f7a9e787-6639-4852-bc89-6ed9596632f4"
      },
      "outputs": [],
      "source": [
        "# Show the first 5 rows of the DataFrame to understand the top entries\n",
        "df.head()"
      ]
    },
    {
      "cell_type": "code",
      "execution_count": null,
      "id": "7cd8d814-93e6-4b3e-ada5-07ca042164f6",
      "metadata": {
        "id": "7cd8d814-93e6-4b3e-ada5-07ca042164f6"
      },
      "outputs": [],
      "source": [
        "# Show the last 5 rows of the DataFrame to understand the bottom entries\n",
        "df.tail()"
      ]
    },
    {
      "cell_type": "code",
      "execution_count": null,
      "id": "2bb39fb6-a298-41d0-93b9-f0524dc7935e",
      "metadata": {
        "id": "2bb39fb6-a298-41d0-93b9-f0524dc7935e"
      },
      "outputs": [],
      "source": [
        "# Display a concise summary of the DataFrame: columns, data types, non-null values, memory usage\n",
        "df.info()"
      ]
    },
    {
      "cell_type": "code",
      "execution_count": null,
      "id": "d1ea26ec-dc6c-46db-83c3-2f24264938a6",
      "metadata": {
        "id": "d1ea26ec-dc6c-46db-83c3-2f24264938a6"
      },
      "outputs": [],
      "source": [
        "# Check the total number of missing (NaN) values in each column\n",
        "df.isnull().sum()"
      ]
    },
    {
      "cell_type": "code",
      "execution_count": null,
      "id": "16eec531-511a-4a0c-8b81-e43e369bb33f",
      "metadata": {
        "id": "16eec531-511a-4a0c-8b81-e43e369bb33f"
      },
      "outputs": [],
      "source": [
        "# Display the first 5 rows for selected columns: 'education' and 'previous_year_rating'\n",
        "df[['education','previous_year_rating']].head()"
      ]
    },
    {
      "cell_type": "code",
      "execution_count": null,
      "id": "a6d1d4f8-f5fe-4223-9c21-352ff54cfdfd",
      "metadata": {
        "id": "a6d1d4f8-f5fe-4223-9c21-352ff54cfdfd"
      },
      "outputs": [],
      "source": [
        "# Show percentage distribution of all values in 'education', including missing values\n",
        "df.education.value_counts(normalize=True,dropna=False)*100"
      ]
    },
    {
      "cell_type": "code",
      "execution_count": null,
      "id": "3026456d-7119-491a-90a7-a714988e6e8f",
      "metadata": {
        "id": "3026456d-7119-491a-90a7-a714988e6e8f"
      },
      "outputs": [],
      "source": [
        "# Show percentage distribution of all values in 'previous_year_rating', including missing values\n",
        "df.previous_year_rating.value_counts(normalize=True,dropna=False)*100"
      ]
    },
    {
      "cell_type": "code",
      "execution_count": null,
      "id": "6a10510a-fda4-42f8-959f-57cbdf36c859",
      "metadata": {
        "scrolled": true,
        "id": "6a10510a-fda4-42f8-959f-57cbdf36c859"
      },
      "outputs": [],
      "source": [
        "# Count how many employees have each value for 'length_of_service'\n",
        "df.length_of_service.value_counts()"
      ]
    },
    {
      "cell_type": "code",
      "execution_count": null,
      "id": "7a9f4145-1901-45e7-8b7b-a3cb75cc0e6e",
      "metadata": {
        "scrolled": true,
        "id": "7a9f4145-1901-45e7-8b7b-a3cb75cc0e6e"
      },
      "outputs": [],
      "source": [
        "# Filter and show rows where the employee has only 1 year of service\n",
        "df[df.length_of_service==1]"
      ]
    },
    {
      "cell_type": "code",
      "execution_count": null,
      "id": "8d980eab-eace-43f4-807d-009322eb0783",
      "metadata": {
        "id": "8d980eab-eace-43f4-807d-009322eb0783"
      },
      "outputs": [],
      "source": [
        "# Check for missing values only in rows where 'length_of_service' is 1\n",
        "df[df.length_of_service==1].isna().sum()"
      ]
    },
    {
      "cell_type": "code",
      "execution_count": null,
      "id": "d53810f6-b04f-4bc7-8c74-38441728c359",
      "metadata": {
        "id": "d53810f6-b04f-4bc7-8c74-38441728c359"
      },
      "outputs": [],
      "source": [
        "#the previous_year_ratings are filled with 0s instead, making it the lowest score as well as indicating absence of value (rating) all together."
      ]
    },
    {
      "cell_type": "markdown",
      "source": [
        "# Data Cleaning and Imputation:\n",
        "*  Previous_year_rating.fillna(0): Replaces missing ratings with 0, which logically means \"no rating\" or worst performance.\n",
        "\n",
        "*  Education.fillna(mode): Missing education values are replaced with the most common level of education, assuming it’s the best default guess.\n",
        "\n",
        "# Checking for Remaining Issues:\n",
        "*  The .isna().sum() checks are used after imputation to verify that no missing values remain, especially in subsets like:\n",
        "*  Employees with 1 year of service.\n",
        "*  Employees who were promoted.\n",
        "\n",
        "# Data Distribution and Summary:\n",
        "*  Describe() gives a quick overview of numeric features (mean, min, max, etc.).\n",
        "*  Value_counts(normalize=True) shows what percent of employees were promoted vs not.\n",
        "*  The Seaborn countplot provides a visual comparison — it's especially helpful for spotting imbalance in the dataset (e.g., very few promotions)."
      ],
      "metadata": {
        "id": "9cVbvWd270-6"
      },
      "id": "9cVbvWd270-6"
    },
    {
      "cell_type": "code",
      "execution_count": null,
      "id": "8d7eaf72-bb30-48da-9e44-53387fe37129",
      "metadata": {
        "id": "8d7eaf72-bb30-48da-9e44-53387fe37129"
      },
      "outputs": [],
      "source": [
        "# Fill missing values in 'previous_year_rating' with 0\n",
        "# (represents no rating and lowest possible performance)\n",
        "df.previous_year_rating.fillna(0,inplace=True)"
      ]
    },
    {
      "cell_type": "code",
      "execution_count": null,
      "id": "d55e82fb-4a49-4a3b-964f-3c3a778f8ed6",
      "metadata": {
        "id": "d55e82fb-4a49-4a3b-964f-3c3a778f8ed6"
      },
      "outputs": [],
      "source": [
        "# Check for missing values in rows where employee has only 1 year of service\n",
        "df[df.length_of_service==1].isna().sum()"
      ]
    },
    {
      "cell_type": "code",
      "execution_count": null,
      "id": "097a14ff-fd07-45b2-985a-a133147c5a9b",
      "metadata": {
        "id": "097a14ff-fd07-45b2-985a-a133147c5a9b"
      },
      "outputs": [],
      "source": [
        "# Check for missing values in rows where employee was promoted\n",
        "df[df.is_promoted==1].isna().sum()"
      ]
    },
    {
      "cell_type": "code",
      "execution_count": null,
      "id": "f479b149-9ac8-479c-b4ad-fdda5f498fd5",
      "metadata": {
        "id": "f479b149-9ac8-479c-b4ad-fdda5f498fd5"
      },
      "outputs": [],
      "source": [
        "# Show the most common value(s) in the 'education' column\n",
        "df.education.mode()"
      ]
    },
    {
      "cell_type": "code",
      "execution_count": null,
      "id": "d9d0d8b3-f7ff-4104-aebe-71e58386de49",
      "metadata": {
        "id": "d9d0d8b3-f7ff-4104-aebe-71e58386de49"
      },
      "outputs": [],
      "source": [
        "# Get the most frequently occurring value (mode) in 'education' column\n",
        "df.education.mode()[0]"
      ]
    },
    {
      "cell_type": "code",
      "execution_count": null,
      "id": "8fcc0933-fbb3-4d97-a7b8-93c9261e3734",
      "metadata": {
        "id": "8fcc0933-fbb3-4d97-a7b8-93c9261e3734"
      },
      "outputs": [],
      "source": [
        "# Fill missing values in 'education' with the mode (most common education level)\n",
        "df.education.fillna(df.education.mode()[0],inplace=True)"
      ]
    },
    {
      "cell_type": "code",
      "execution_count": null,
      "id": "ab1359f6-0419-485e-bed8-59178d3af742",
      "metadata": {
        "id": "ab1359f6-0419-485e-bed8-59178d3af742"
      },
      "outputs": [],
      "source": [
        "# Check for any remaining missing values in the dataset\n",
        "df.isna().sum()"
      ]
    },
    {
      "cell_type": "code",
      "execution_count": null,
      "id": "bdf69512-21cc-4cb7-b222-42b4d1ce8383",
      "metadata": {
        "id": "bdf69512-21cc-4cb7-b222-42b4d1ce8383"
      },
      "outputs": [],
      "source": [
        "# Show statistical summary for numerical columns (mean, std, min, max, etc.)\n",
        "df.describe()"
      ]
    },
    {
      "cell_type": "code",
      "execution_count": null,
      "id": "4b06e504-9788-47ad-a1e0-b31dab272428",
      "metadata": {
        "id": "4b06e504-9788-47ad-a1e0-b31dab272428"
      },
      "outputs": [],
      "source": [
        "# Show percentage distribution of promoted vs not-promoted employees\n",
        "df['is_promoted'].value_counts(normalize=True)*100"
      ]
    },
    {
      "cell_type": "code",
      "execution_count": null,
      "id": "f4920119-2ff6-48c7-8084-19b77c3d1db6",
      "metadata": {
        "id": "f4920119-2ff6-48c7-8084-19b77c3d1db6"
      },
      "outputs": [],
      "source": [
        "# Plot a count plot showing number of promoted vs not-promoted employees\n",
        "plt.figure(figsize=(4,3))\n",
        "sns.countplot(data=df, x='is_promoted',hue='is_promoted')\n",
        "plt.title('Promotion Count');"
      ]
    },
    {
      "cell_type": "markdown",
      "source": [
        "# Data Visualization for Skew Detection\n",
        "*  Histograms help visualize distribution of values in numeric columns like age, length_of_service, and avg_training_score.\n",
        "*  If the histogram is skewed to the right (positively skewed), it can negatively affect model performance.\n",
        "\n",
        "# Log Transformation\n",
        "*  The code uses np.log1p() to reduce skewness and normalize the values.\n",
        "*  This helps models like logistic regression or decision trees perform better.\n",
        "\n",
        "# Skewness Check\n",
        "*  scipy.stats.skew() calculates how asymmetric the data is.\n",
        "*  A value near 0 means symmetric.\n",
        "*  Positive = right-skewed, Negative = left-skewed.\n",
        "*  The code compares before and after transformation to ensure improvement.\n",
        "\n",
        "# Replacing Columns\n",
        "*  The original columns are replaced with the log-transformed versions.\n",
        "\n"
      ],
      "metadata": {
        "id": "N6YC8KMW-aQO"
      },
      "id": "N6YC8KMW-aQO"
    },
    {
      "cell_type": "code",
      "execution_count": null,
      "id": "ada18901-4769-400d-88bf-1d4f38c7f850",
      "metadata": {
        "id": "ada18901-4769-400d-88bf-1d4f38c7f850"
      },
      "outputs": [],
      "source": [
        "# Show the first 5 rows of the dataset to review the structure and sample data\n",
        "df.head()"
      ]
    },
    {
      "cell_type": "code",
      "execution_count": null,
      "id": "dc9f9227-20b3-4630-aa76-37b911466146",
      "metadata": {
        "id": "dc9f9227-20b3-4630-aa76-37b911466146"
      },
      "outputs": [],
      "source": [
        "# Plot the distribution of the 'age' column with a KDE (curve) to observe skewness\n",
        "plt.figure(figsize=(12,6))\n",
        "sns.histplot(df['age'], kde=True)\n",
        "plt.title('Age Distribution')"
      ]
    },
    {
      "cell_type": "code",
      "execution_count": null,
      "id": "f66fc1e7-641b-4f4d-8280-4e6a3abe4944",
      "metadata": {
        "id": "f66fc1e7-641b-4f4d-8280-4e6a3abe4944"
      },
      "outputs": [],
      "source": [
        "# Plot the distribution of 'length_of_service'\n",
        "plt.figure(figsize=(12,6))\n",
        "sns.histplot(df['length_of_service'], kde=True)\n",
        "plt.title('Lebgth of Service Distribution')"
      ]
    },
    {
      "cell_type": "code",
      "execution_count": null,
      "id": "65bb9fe6-2374-4fad-b3a8-44b4b2d8e4d8",
      "metadata": {
        "id": "65bb9fe6-2374-4fad-b3a8-44b4b2d8e4d8"
      },
      "outputs": [],
      "source": [
        "# Plot the distribution of 'avg_training_score'\n",
        "plt.figure(figsize=(12,6))\n",
        "sns.histplot(df['avg_training_score'], kde=True)\n",
        "plt.title('Avg Training Score Distribution')"
      ]
    },
    {
      "cell_type": "code",
      "execution_count": null,
      "id": "e70befcc-6b0b-4425-99f8-7be61e88c2d8",
      "metadata": {
        "id": "e70befcc-6b0b-4425-99f8-7be61e88c2d8"
      },
      "outputs": [],
      "source": [
        "# Apply log transformation to reduce skewness in these numeric columns\n",
        "# log1p(x) = log(x + 1), used to handle zero values safely\n",
        "age_log = np.log1p(df['age'])\n",
        "service_log = np.log1p(df['length_of_service'])\n",
        "score_log = np.log1p(df['avg_training_score'])"
      ]
    },
    {
      "cell_type": "code",
      "execution_count": null,
      "id": "19325e4e-3a3b-454c-aa60-dbfa4b28f097",
      "metadata": {
        "id": "19325e4e-3a3b-454c-aa60-dbfa4b28f097"
      },
      "outputs": [],
      "source": [
        "# Make sure log_val is defined; otherwise, remove this\n",
        "log_val[2]"
      ]
    },
    {
      "cell_type": "code",
      "execution_count": null,
      "id": "39357b83-94b7-4199-b8cb-230e7f62e2bd",
      "metadata": {
        "id": "39357b83-94b7-4199-b8cb-230e7f62e2bd"
      },
      "outputs": [],
      "source": [
        "# Import libraries for visualization and math\n",
        "import numpy as np\n",
        "import matplotlib.pyplot as plt\n",
        "\n",
        "# Assign original columns to variables for plotting\n",
        "age = df['age']\n",
        "service = df['length_of_service']\n",
        "score = df['avg_training_score']\n",
        "\n",
        "# Log-transformed columns\n",
        "age_log = np.log1p(age)\n",
        "service_log = np.log1p(service)\n",
        "score_log = np.log1p(score)\n",
        "\n",
        "# Plotting\n",
        "plt.figure(figsize=(15, 8))\n",
        "\n",
        "# Row 1: Original distributions\n",
        "plt.subplot(2, 3, 1)\n",
        "plt.hist(age, bins=30, color='skyblue', edgecolor='black')\n",
        "plt.title('Original Age Distribution')\n",
        "\n",
        "plt.subplot(2, 3, 2)\n",
        "plt.hist(service, bins=30, color='orange', edgecolor='black')\n",
        "plt.title('Original Length of Service')\n",
        "\n",
        "plt.subplot(2, 3, 3)\n",
        "plt.hist(score, bins=30, color='green', edgecolor='black')\n",
        "plt.title('Original Avg Training Score')\n",
        "\n",
        "# Row 2: Log-transformed distributions\n",
        "plt.subplot(2, 3, 4)\n",
        "plt.hist(age_log, bins=30, color='skyblue', edgecolor='black')\n",
        "plt.title('Log-Transformed Age')\n",
        "\n",
        "plt.subplot(2, 3, 5)\n",
        "plt.hist(service_log, bins=30, color='orange', edgecolor='black')\n",
        "plt.title('Log-Transformed Length of Service')\n",
        "\n",
        "plt.subplot(2, 3, 6)\n",
        "plt.hist(score_log, bins=30, color='green', edgecolor='black')\n",
        "plt.title('Log-Transformed Avg Training Score')\n",
        "\n",
        "plt.tight_layout()\n",
        "plt.show()\n"
      ]
    },
    {
      "cell_type": "code",
      "execution_count": null,
      "id": "ef06a36b-ea15-47d2-b2e2-f86d95f70527",
      "metadata": {
        "id": "ef06a36b-ea15-47d2-b2e2-f86d95f70527"
      },
      "outputs": [],
      "source": [
        "# Import skew function to measure asymmetry in data distribution\n",
        "\n",
        "from scipy.stats import skew\n",
        "\n",
        "# Print skewness before and after log transformation\n",
        "print(f\"Age: {skew(age):.4f}\")\n",
        "print(f\"Age (log): {skew(age_log):.4f}\")\n",
        "print('====================================================')\n",
        "print(f\"Length of Service: {skew(service):.4f}\")\n",
        "print(f\"Length of Service (log): {skew(service_log):.4f}\")\n",
        "print('====================================================')\n",
        "print(f\"Avg Training Score: {skew(score):.4f}\")\n",
        "print(f\"Avg Training Score (log): {skew(score_log):.4f}\")"
      ]
    },
    {
      "cell_type": "code",
      "execution_count": null,
      "id": "f3e768a7-7554-4e14-89dd-4a471497309a",
      "metadata": {
        "id": "f3e768a7-7554-4e14-89dd-4a471497309a"
      },
      "outputs": [],
      "source": [
        "# Show data again to confirm structure before replacing original columns\n",
        "df.head()"
      ]
    },
    {
      "cell_type": "code",
      "execution_count": null,
      "id": "11ae32bc-44ad-4c43-b8fd-c7fc34c7703d",
      "metadata": {
        "id": "11ae32bc-44ad-4c43-b8fd-c7fc34c7703d"
      },
      "outputs": [],
      "source": [
        "# Create a copy of df after transformations for safe experimentation\n",
        "data=df.copy()"
      ]
    },
    {
      "cell_type": "code",
      "execution_count": null,
      "id": "2f2593de-01bf-4a61-8ec9-5a7535b44b5f",
      "metadata": {
        "id": "2f2593de-01bf-4a61-8ec9-5a7535b44b5f"
      },
      "outputs": [],
      "source": [
        "# Replace original skewed features with their log-transformed versions\n",
        "age_log"
      ]
    },
    {
      "cell_type": "code",
      "execution_count": null,
      "id": "44e9632a-e94f-460e-99d6-7b6211487a0d",
      "metadata": {
        "id": "44e9632a-e94f-460e-99d6-7b6211487a0d"
      },
      "outputs": [],
      "source": [
        "df['age']=age_log"
      ]
    },
    {
      "cell_type": "code",
      "execution_count": null,
      "id": "d9130973-3229-4a47-93aa-276858114b8a",
      "metadata": {
        "id": "d9130973-3229-4a47-93aa-276858114b8a"
      },
      "outputs": [],
      "source": [
        "df['length_of_service']=service_log"
      ]
    },
    {
      "cell_type": "code",
      "execution_count": null,
      "id": "1e65e32c-7788-49db-9a4a-1dde2387fe8c",
      "metadata": {
        "id": "1e65e32c-7788-49db-9a4a-1dde2387fe8c"
      },
      "outputs": [],
      "source": [
        "df['avg_training_score']=score_log"
      ]
    },
    {
      "cell_type": "markdown",
      "source": [
        "# Region Mapping:\n",
        "*  Region values like 'region_1', 'region_2' are transformed into numbers like 1, 2, etc., using a custom dictionary.\n",
        "*  This gives each region a unique, meaningful numeric ID.\n",
        "\n",
        "# Department Mapping:\n",
        "*  Department names are mapped manually to integers based on their business roles.\n",
        "*  For example, 'Sales & Marketing' → 0, 'Technology' → 2, and so on."
      ],
      "metadata": {
        "id": "6XgNKY01Rpfa"
      },
      "id": "6XgNKY01Rpfa"
    },
    {
      "cell_type": "code",
      "execution_count": null,
      "id": "beb8109e-8208-4299-96bf-b42b76f67966",
      "metadata": {
        "id": "beb8109e-8208-4299-96bf-b42b76f67966"
      },
      "outputs": [],
      "source": [
        "# Show the first 5 rows to understand the structure and current values\n",
        "df.head()"
      ]
    },
    {
      "cell_type": "code",
      "execution_count": null,
      "id": "d019b191-735f-4f82-831b-2c1c8fc3dcb8",
      "metadata": {
        "id": "d019b191-735f-4f82-831b-2c1c8fc3dcb8"
      },
      "outputs": [],
      "source": [
        "# View all unique department categories sorted by frequency\n",
        "df['department'].value_counts().index"
      ]
    },
    {
      "cell_type": "code",
      "execution_count": null,
      "id": "79ea396e-0566-46e1-8eee-32e2a07d632b",
      "metadata": {
        "id": "79ea396e-0566-46e1-8eee-32e2a07d632b"
      },
      "outputs": [],
      "source": [
        "# View all unique region codes (like 'region_1', 'region_2', etc.)\n",
        "df['region'].value_counts().index"
      ]
    },
    {
      "cell_type": "code",
      "execution_count": null,
      "id": "34765571-6c43-4c5f-b3c3-f660e2a23fbc",
      "metadata": {
        "id": "34765571-6c43-4c5f-b3c3-f660e2a23fbc"
      },
      "outputs": [],
      "source": [
        "# Count how many unique region codes are present\n",
        "len(df['region'].value_counts().index)"
      ]
    },
    {
      "cell_type": "code",
      "execution_count": null,
      "id": "1ec06977-d363-4945-a2d9-cc6f9eb81379",
      "metadata": {
        "id": "1ec06977-d363-4945-a2d9-cc6f9eb81379"
      },
      "outputs": [],
      "source": [
        "\n",
        "region=list(df['region'].value_counts().index)"
      ]
    },
    {
      "cell_type": "code",
      "execution_count": null,
      "id": "de8a0180-0fab-4274-baa2-0f4f3e49f4ee",
      "metadata": {
        "id": "de8a0180-0fab-4274-baa2-0f4f3e49f4ee"
      },
      "outputs": [],
      "source": [
        "# Example: Convert the string 'region_1' to integer 1\n",
        "int(region[0].split('_')[1])"
      ]
    },
    {
      "cell_type": "code",
      "execution_count": null,
      "id": "ed1c3195-ff91-4031-a53e-9688290627bc",
      "metadata": {
        "id": "ed1c3195-ff91-4031-a53e-9688290627bc"
      },
      "outputs": [],
      "source": [
        "# Create a mapping: {'region_1': 1, 'region_2': 2, ..., 'region_n': n}\n",
        "region_map=dict()\n",
        "for i in (region):\n",
        "    region_map[i]=int(i.split('_')[1])"
      ]
    },
    {
      "cell_type": "code",
      "execution_count": null,
      "id": "a9c909f8-aae3-40df-ae72-affa19e5525c",
      "metadata": {
        "id": "a9c909f8-aae3-40df-ae72-affa19e5525c"
      },
      "outputs": [],
      "source": [
        "# Print the region mapping dictionary to verify conversion\n",
        "print(region_map)"
      ]
    },
    {
      "cell_type": "code",
      "execution_count": null,
      "id": "b9c249d0-83f7-43d2-b1e0-d5eb4e962f83",
      "metadata": {
        "id": "b9c249d0-83f7-43d2-b1e0-d5eb4e962f83"
      },
      "outputs": [],
      "source": [
        "# Replace the 'region' column with the integer-mapped values\n",
        "df['region']=df['region'].map(region_map)"
      ]
    },
    {
      "cell_type": "code",
      "execution_count": null,
      "id": "a74cd71f-9180-42fe-a070-d8d66f3f3edd",
      "metadata": {
        "id": "a74cd71f-9180-42fe-a070-d8d66f3f3edd"
      },
      "outputs": [],
      "source": [
        "# Create a dictionary to manually map department names to integers\n",
        "dept_map={'Sales & Marketing':0, 'Operations':1, 'Technology':2, 'Procurement':3,\n",
        "       'Analytics':4, 'Finance':5, 'HR':6, 'Legal':7, 'R&D':8}"
      ]
    },
    {
      "cell_type": "code",
      "execution_count": null,
      "id": "b102a027-21d9-4c86-852c-2f56581f54b9",
      "metadata": {
        "id": "b102a027-21d9-4c86-852c-2f56581f54b9"
      },
      "outputs": [],
      "source": [
        "# Replace the 'department' column with mapped integer values\n",
        "df['department']=df['department'].map(dept_map)"
      ]
    },
    {
      "cell_type": "code",
      "execution_count": null,
      "id": "4b3650ac-905b-42c4-baae-b93aeb771788",
      "metadata": {
        "id": "4b3650ac-905b-42c4-baae-b93aeb771788"
      },
      "outputs": [],
      "source": [
        "df['education'].unique()"
      ]
    },
    {
      "cell_type": "markdown",
      "source": [
        "# What Each Mapping Does:\n",
        "\n",
        "1. Education:\n",
        "\n",
        "*  This uses ordinal encoding — assumes a natural order (Below Secondary < Bachelor's < Master's & above).\n",
        "\n",
        "2. Gender:\n",
        "\n",
        "*  Encoded as binary: 0 = female, 1 = male.\n",
        "\n",
        "3. Recruitment Channel:\n",
        "\n",
        "*  Encoded with integers (no ranking involved), just so models can use them as features.\n",
        "\n"
      ],
      "metadata": {
        "id": "uTngiT17SV7Y"
      },
      "id": "uTngiT17SV7Y"
    },
    {
      "cell_type": "code",
      "execution_count": null,
      "id": "628cb3ed-f978-4ae9-bdc7-b5a16991c46f",
      "metadata": {
        "id": "628cb3ed-f978-4ae9-bdc7-b5a16991c46f"
      },
      "outputs": [],
      "source": [
        "# Assumes higher number = higher education\n",
        "edu_map={'Below Secondary':0,\"Bachelor's\":1,\"Master's & above\":2}"
      ]
    },
    {
      "cell_type": "code",
      "execution_count": null,
      "id": "738ce502-c8c2-4b0e-b77a-54fa18e0a92e",
      "metadata": {
        "id": "738ce502-c8c2-4b0e-b77a-54fa18e0a92e"
      },
      "outputs": [],
      "source": [
        "df['education']=df['education'].map(edu_map)"
      ]
    },
    {
      "cell_type": "code",
      "execution_count": null,
      "id": "39e096ac-27ab-491e-81c6-4d615ed965da",
      "metadata": {
        "id": "39e096ac-27ab-491e-81c6-4d615ed965da"
      },
      "outputs": [],
      "source": [
        "# Check unique values in 'gender' column (e.g., 'f', 'm')\n",
        "df['gender'].unique()"
      ]
    },
    {
      "cell_type": "code",
      "execution_count": null,
      "id": "5c233ee0-132e-488d-964b-3e1db742dfec",
      "metadata": {
        "id": "5c233ee0-132e-488d-964b-3e1db742dfec"
      },
      "outputs": [],
      "source": [
        "# Map gender: 'f' (female) to 0, 'm' (male) to 1\n",
        "gender_map={'f':0, 'm':1}"
      ]
    },
    {
      "cell_type": "code",
      "execution_count": null,
      "id": "d523109d-cc2c-49e8-a772-a07373b64a5f",
      "metadata": {
        "id": "d523109d-cc2c-49e8-a772-a07373b64a5f"
      },
      "outputs": [],
      "source": [
        "df['gender']=df['gender'].map(gender_map)"
      ]
    },
    {
      "cell_type": "code",
      "execution_count": null,
      "id": "408b3373-afdd-48e7-834b-22ec98425792",
      "metadata": {
        "id": "408b3373-afdd-48e7-834b-22ec98425792"
      },
      "outputs": [],
      "source": [
        "# Check unique recruitment channels (e.g., 'other', 'referred', 'sourcing')\n",
        "df['recruitment_channel'].unique()"
      ]
    },
    {
      "cell_type": "code",
      "execution_count": null,
      "id": "eed03992-65d4-4abf-ae2a-886aa2fc7cf6",
      "metadata": {
        "id": "eed03992-65d4-4abf-ae2a-886aa2fc7cf6"
      },
      "outputs": [],
      "source": [
        "# Map recruitment channels to numbers (no order implied, just labels)\n",
        "channel_map={'other':0,'referred':1,'sourcing':2}"
      ]
    },
    {
      "cell_type": "code",
      "execution_count": null,
      "id": "c410aa1c-2fca-42ce-816c-81314398465c",
      "metadata": {
        "id": "c410aa1c-2fca-42ce-816c-81314398465c"
      },
      "outputs": [],
      "source": [
        "df['recruitment_channel']=df['recruitment_channel'].map(channel_map)"
      ]
    },
    {
      "cell_type": "markdown",
      "source": [
        "|Step |\tExplanation|\n",
        "|-------------------------|---------------------------------------|\n",
        "|df.describe().T|\tGives statistical summary of all columns. Helpful to understand data spread and distribution.|\n",
        "|drop('employee_id') |\tEmployee IDs are unique identifiers and don't contribute to promotion decisions.|\n",
        "|sns.heatmap(df.corr())\t|Shows how strongly features are correlated with each other. Can help detect redundancy.|\n",
        "|X, y split \t|Separating input features and target variable (is_promoted).|\n",
        "|SMOTE() \t|Since the dataset is imbalanced (very few promotions), SMOTE generates synthetic samples for the minority class (promoted employees) to avoid bias during training.|\n",
        "|StandardScaler |\tFeature scaling ensures that all columns contribute equally, especially for algorithms like SVM, Logistic Regression, and Neural Nets.|\n",
        "|train_test_split() \t|Divides data into training and testing sets so that model can be validated on unseen data. stratify=y_res ensures balanced class distribution.|\n"
      ],
      "metadata": {
        "id": "9paBsuR9Sjo3"
      },
      "id": "9paBsuR9Sjo3"
    },
    {
      "cell_type": "code",
      "execution_count": null,
      "id": "6b15b2f1-846a-44aa-94ff-50d6c01051e7",
      "metadata": {
        "id": "6b15b2f1-846a-44aa-94ff-50d6c01051e7"
      },
      "outputs": [],
      "source": [
        "# Preview the first few rows of the dataset\n",
        "df.head()"
      ]
    },
    {
      "cell_type": "code",
      "execution_count": null,
      "id": "8a9b47b4-44a2-421c-ba2c-6db40ae57d6e",
      "metadata": {
        "id": "8a9b47b4-44a2-421c-ba2c-6db40ae57d6e"
      },
      "outputs": [],
      "source": [
        "# Show statistical summary (mean, std, min, max, etc.) for each column\n",
        "df.describe().T"
      ]
    },
    {
      "cell_type": "code",
      "execution_count": null,
      "id": "0b20c58c-9d47-4ab8-8ce0-7a959cdac6ec",
      "metadata": {
        "id": "0b20c58c-9d47-4ab8-8ce0-7a959cdac6ec"
      },
      "outputs": [],
      "source": [
        "# Create a copy of the DataFrame after all preprocessing steps\n",
        "data1=df.copy()"
      ]
    },
    {
      "cell_type": "code",
      "execution_count": null,
      "id": "c951d6ec-9140-43c2-9c99-bbe33ae2f297",
      "metadata": {
        "id": "c951d6ec-9140-43c2-9c99-bbe33ae2f297"
      },
      "outputs": [],
      "source": [
        "# Drop the 'employee_id' column as it is just an identifier and not useful for prediction\n",
        "df.drop(columns=['employee_id'],inplace=True)"
      ]
    },
    {
      "cell_type": "code",
      "execution_count": null,
      "id": "3fe59ec8-6e8a-448a-8195-ba143a6c68b4",
      "metadata": {
        "id": "3fe59ec8-6e8a-448a-8195-ba143a6c68b4"
      },
      "outputs": [],
      "source": [
        "# Plot a heatmap to visualize the correlation between all numeric features\n",
        "plt.figure(figsize=(15, 8))\n",
        "sns.heatmap(df.corr(),annot=True)"
      ]
    },
    {
      "cell_type": "code",
      "execution_count": null,
      "id": "fca015d1-245f-4058-b161-165147015b7e",
      "metadata": {
        "id": "fca015d1-245f-4058-b161-165147015b7e"
      },
      "outputs": [],
      "source": [
        "# Define the features (X) and target (y)\n",
        "X = df.drop(['is_promoted'], axis=1)      # Data Frame of the features, Input features\n",
        "y = df['is_promoted']                     # Target Column, Output label"
      ]
    },
    {
      "cell_type": "code",
      "execution_count": null,
      "id": "a54dd854-344e-4483-8403-60da0c956a87",
      "metadata": {
        "id": "a54dd854-344e-4483-8403-60da0c956a87"
      },
      "outputs": [],
      "source": [
        "# Check the first few rows of features and target\n",
        "X.head()"
      ]
    },
    {
      "cell_type": "code",
      "execution_count": null,
      "id": "51440465-a9c6-4ebb-a8b9-2b5007b125b2",
      "metadata": {
        "id": "51440465-a9c6-4ebb-a8b9-2b5007b125b2"
      },
      "outputs": [],
      "source": [
        "y.head()"
      ]
    },
    {
      "cell_type": "code",
      "execution_count": null,
      "id": "82433f57-4ec8-4f22-9e87-14f35e4a52bc",
      "metadata": {
        "id": "82433f57-4ec8-4f22-9e87-14f35e4a52bc"
      },
      "outputs": [],
      "source": [
        "# Check the class distribution (imbalanced classification problem)\n",
        "y.value_counts(normalize=True)*100"
      ]
    },
    {
      "cell_type": "code",
      "execution_count": null,
      "id": "309e3654-22f3-4bdc-8aaf-bce09002ae32",
      "metadata": {
        "id": "309e3654-22f3-4bdc-8aaf-bce09002ae32"
      },
      "outputs": [],
      "source": [
        "# Apply SMOTE to balance the dataset by generating synthetic samples for the minority class\n",
        "from imblearn.over_sampling import SMOTE\n",
        "X_res, y_res = SMOTE().fit_resample(X, y)"
      ]
    },
    {
      "cell_type": "code",
      "execution_count": null,
      "id": "423e347c-69c3-4ee5-8804-e56ba6a0663b",
      "metadata": {
        "id": "423e347c-69c3-4ee5-8804-e56ba6a0663b"
      },
      "outputs": [],
      "source": [
        "# Check class distribution after SMOTE (should now be balanced)\n",
        "y_res.value_counts(normalize=True)*100"
      ]
    },
    {
      "cell_type": "code",
      "execution_count": null,
      "id": "83be3aec-6411-4b49-9b9e-f026d090a0d4",
      "metadata": {
        "id": "83be3aec-6411-4b49-9b9e-f026d090a0d4"
      },
      "outputs": [],
      "source": [
        "# Scale the features to have zero mean and unit variance (important for many ML algorithms)\n",
        "scaler = StandardScaler()\n",
        "X_scaled = scaler.fit_transform(X_res)"
      ]
    },
    {
      "cell_type": "code",
      "execution_count": null,
      "id": "d49b2199-4916-4051-809b-d36c9c9a70dd",
      "metadata": {
        "id": "d49b2199-4916-4051-809b-d36c9c9a70dd"
      },
      "outputs": [],
      "source": [
        "# Split the dataset into training and testing sets\n",
        "# stratify ensures class balance is maintained in both sets\n",
        "X_train, X_test, y_train, y_test = train_test_split(X_scaled, y_res, test_size=0.2, stratify=y_res, random_state=42)"
      ]
    },
    {
      "cell_type": "code",
      "execution_count": null,
      "id": "6006596f-4a45-4a75-8734-768488cccd1a",
      "metadata": {
        "id": "6006596f-4a45-4a75-8734-768488cccd1a"
      },
      "outputs": [],
      "source": [
        "# Model Selection and Training"
      ]
    },
    {
      "cell_type": "markdown",
      "source": [
        "|Part|\tExplanation|\n",
        "|-------------------------|---------------------------------------|\n",
        "|models = {...}|A dictionary of popular classification models being tested.|\n",
        "|model.fit() |\t\tTrains the model on the training dataset.|\n",
        "|model.predict()\t|\tUses the trained model to make predictions on test data.|\n",
        "|f1_score()\t|\tMeasures model performance using the F1 Score, which balances precision and recall. Very useful for imbalanced classification problems (like promotions).|\n",
        "|results[name] = f1\t|Stores each model’s F1 score for comparison.|\n"
      ],
      "metadata": {
        "id": "mVYgPEqsWLHE"
      },
      "id": "mVYgPEqsWLHE"
    },
    {
      "cell_type": "code",
      "execution_count": null,
      "id": "d6d78a7c-41b7-490f-88c2-86dc14a7a023",
      "metadata": {
        "id": "d6d78a7c-41b7-490f-88c2-86dc14a7a023"
      },
      "outputs": [],
      "source": [
        "# Dictionary of models to train and evaluate\n",
        "models = {\n",
        "    'Logistic Regression': LogisticRegression(),\n",
        "    'Decision Tree': DecisionTreeClassifier(),\n",
        "    'Random Forest': RandomForestClassifier(),\n",
        "    'KNN': KNeighborsClassifier(),\n",
        "    'SVM': SVC(kernel='rbf'),\n",
        "    'Naive Bayes': GaussianNB(),\n",
        "    'XGBoost': XGBClassifier(use_label_encoder=False, eval_metric='logloss')\n",
        "}"
      ]
    },
    {
      "cell_type": "code",
      "execution_count": null,
      "id": "316e5f23-f4b8-4443-a61b-2a4bf4efe6c7",
      "metadata": {
        "id": "316e5f23-f4b8-4443-a61b-2a4bf4efe6c7"
      },
      "outputs": [],
      "source": [
        "# Dictionary to store F1 scores of each model\n",
        "results = {}\n",
        "\n",
        "# Train and evaluate each model\n",
        "for name, model in models.items():\n",
        "    model.fit(X_train, y_train)  # Train the model on training data\n",
        "    preds = model.predict(X_test)   # Make predictions on test data\n",
        "    f1 = f1_score(y_test, preds)   # Calculate F1 Score\n",
        "    results[name] = f1           # Save the result\n",
        "    print(f\"{name} F1 Score: {f1:.4f}\")  # Print the F1 score"
      ]
    },
    {
      "cell_type": "code",
      "execution_count": null,
      "id": "85afa607-8a6f-409f-94fc-627684c67331",
      "metadata": {
        "id": "85afa607-8a6f-409f-94fc-627684c67331"
      },
      "outputs": [],
      "source": [
        "# Hyperparameter Grids"
      ]
    },
    {
      "cell_type": "code",
      "execution_count": null,
      "id": "7be5f698-c9bd-4d62-b636-1446095075fa",
      "metadata": {
        "id": "7be5f698-c9bd-4d62-b636-1446095075fa"
      },
      "outputs": [],
      "source": [
        "\n",
        "rf_param_grid = {\n",
        "    'n_estimators': [100, 200, 300],\n",
        "    'max_depth': [None, 10, 20, 30],\n",
        "    'min_samples_split': [2, 5, 10],\n",
        "    'min_samples_leaf': [1, 2, 4],\n",
        "    'bootstrap': [True, False]\n",
        "}"
      ]
    },
    {
      "cell_type": "code",
      "execution_count": null,
      "id": "0090a1fd-80aa-4a5e-9e1d-17b465e1010c",
      "metadata": {
        "id": "0090a1fd-80aa-4a5e-9e1d-17b465e1010c"
      },
      "outputs": [],
      "source": [
        "xgb_param_grid = {\n",
        "    'n_estimators': [100, 200, 300],\n",
        "    'max_depth': [3, 6, 10],\n",
        "    'learning_rate': [0.01, 0.1, 0.2],\n",
        "    'subsample': [0.7, 0.8, 1.0],\n",
        "    'colsample_bytree': [0.7, 0.8, 1.0]\n",
        "}"
      ]
    },
    {
      "cell_type": "code",
      "execution_count": null,
      "id": "1d41a00d-fb9c-404e-a047-d319e273c0a1",
      "metadata": {
        "id": "1d41a00d-fb9c-404e-a047-d319e273c0a1"
      },
      "outputs": [],
      "source": [
        "from sklearn.model_selection import RandomizedSearchCV"
      ]
    },
    {
      "cell_type": "code",
      "execution_count": null,
      "id": "e2e344f6-db20-4737-8cec-198797e208b8",
      "metadata": {
        "id": "e2e344f6-db20-4737-8cec-198797e208b8"
      },
      "outputs": [],
      "source": [
        "# Randomized Search CV for Random Forest\n",
        "rf_model = RandomForestClassifier(random_state=42)\n",
        "rf_search = RandomizedSearchCV(rf_model, rf_param_grid, n_iter=10, scoring='f1', cv=3, n_jobs=-1, random_state=42)\n",
        "rf_search.fit(X_train, y_train)\n",
        "rf_best = rf_search.best_estimator_\n",
        "rf_f1 = f1_score(y_test, rf_best.predict(X_test))"
      ]
    },
    {
      "cell_type": "code",
      "execution_count": null,
      "id": "85e6da59-e4a2-497c-ab38-7deec99cf7ff",
      "metadata": {
        "id": "85e6da59-e4a2-497c-ab38-7deec99cf7ff"
      },
      "outputs": [],
      "source": [
        "# Randomized Search CV for XGBoost\n",
        "xgb_model = XGBClassifier(use_label_encoder=False, eval_metric='logloss', random_state=42)\n",
        "xgb_search = RandomizedSearchCV(xgb_model, xgb_param_grid, n_iter=10, scoring='f1', cv=3, n_jobs=-1, random_state=42)\n",
        "xgb_search.fit(X_train, y_train)\n",
        "xgb_best = xgb_search.best_estimator_\n",
        "xgb_f1 = f1_score(y_test, xgb_best.predict(X_test))"
      ]
    },
    {
      "cell_type": "code",
      "execution_count": null,
      "id": "6b8d22ff-0396-4d7e-90ba-7aae22d66307",
      "metadata": {
        "id": "6b8d22ff-0396-4d7e-90ba-7aae22d66307"
      },
      "outputs": [],
      "source": [
        "# Results\n",
        "print(\"Best Parameters:\")\n",
        "print(\"Random Forest:\", rf_search.best_params_)\n",
        "print(\"XGBoost      :\", xgb_search.best_params_)\n",
        "\n",
        "print(\"F1-Score Comparison:\")\n",
        "print(f\"Random Forest: {rf_f1:.4f}\")\n",
        "print(f\"XGBoost      : {xgb_f1:.4f}\")"
      ]
    },
    {
      "cell_type": "markdown",
      "source": [
        "# 1. Compare Models Using F1 Score\n",
        "*  At the end of your model training, you compare the F1 scores of two top-performing models — Random Forest and XGBoost.\n",
        "*  You use a simple if-else condition:\n",
        "*  If Random Forest has a higher F1 score, it's considered the better model.\n",
        "*  Otherwise, XGBoost is preferred.\n",
        "\n",
        "# 2. Save the Best Model\n",
        "*  Once you've selected the best model (in your case, xgb_best for XGBoost), you save it using Python's joblib library:\n",
        "*  This line saves the trained model to a .pkl file, which means:\n",
        "*  You don't have to retrain it every time.\n",
        "*  You can load and use it later to make predictions directly (e.g., in a real-world app or dashboard).\n",
        "\n",
        "# 3. Save the Scaler\n",
        "*  Before training, you used StandardScaler to scale your features (make them all have a similar range).\n",
        "*  It’s important to save the scaler too because you’ll need it later to scale new data in the same way as the training data:"
      ],
      "metadata": {
        "id": "In-o5iprXYuX"
      },
      "id": "In-o5iprXYuX"
    },
    {
      "cell_type": "code",
      "execution_count": null,
      "id": "7e1e57a6-b2c4-4935-b15d-9e1f4e1d324e",
      "metadata": {
        "id": "7e1e57a6-b2c4-4935-b15d-9e1f4e1d324e"
      },
      "outputs": [],
      "source": [
        "# Compare F1 scores of Random Forest and XGBoost\n",
        "# Based on which model performed better, print the final decision\n",
        "if rf_f1 > xgb_f1:\n",
        "    print(\"Final Decision: Random Forest is better based on F1-score.\")\n",
        "else:\n",
        "    print(\"Final Decision: XGBoost is better based on F1-score.\")"
      ]
    },
    {
      "cell_type": "code",
      "execution_count": null,
      "id": "df3154cf-7cc4-4397-8e4c-5297be852a14",
      "metadata": {
        "id": "df3154cf-7cc4-4397-8e4c-5297be852a14"
      },
      "outputs": [],
      "source": [
        "# Import joblib for saving models and preprocessors\n",
        "import joblib\n",
        "\n",
        "# Save the best XGBoost model to a file\n",
        "# This allows you to reuse the trained model without retraining it\n",
        "joblib.dump(xgb_best, 'final_xgboost_model.pkl')\n",
        "\n",
        "print(\"Final XGBoost model saved as 'final_xgboost_model.pkl'\")\n"
      ]
    },
    {
      "cell_type": "code",
      "execution_count": null,
      "id": "284d4ae5-7291-451e-a063-96888a6a0e53",
      "metadata": {
        "id": "284d4ae5-7291-451e-a063-96888a6a0e53"
      },
      "outputs": [],
      "source": [
        "# Save the StandardScaler used to scale the features\n",
        "# This ensures any new input data can be scaled the same way during prediction\n",
        "joblib.dump(scaler, \"scaler.pkl\")"
      ]
    }
  ],
  "metadata": {
    "kernelspec": {
      "display_name": "Python 3 (ipykernel)",
      "language": "python",
      "name": "python3"
    },
    "language_info": {
      "codemirror_mode": {
        "name": "ipython",
        "version": 3
      },
      "file_extension": ".py",
      "mimetype": "text/x-python",
      "name": "python",
      "nbconvert_exporter": "python",
      "pygments_lexer": "ipython3",
      "version": "3.12.7"
    },
    "colab": {
      "provenance": []
    }
  },
  "nbformat": 4,
  "nbformat_minor": 5
}