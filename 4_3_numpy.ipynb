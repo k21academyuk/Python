{
  "cells": [
    {
      "cell_type": "markdown",
      "source": [
        "# Introduction to NumPy\n",
        "\n",
        "NumPy (Numerical Python) is a Python library for numerical and scientific computing. It is widely used for handling large datasets and performing operations on arrays and matrices efficiently.\n",
        "\n",
        "**Features of NumPy:**\n",
        "- Provides support for multi-dimensional arrays.\n",
        "- Offers mathematical and statistical functions for numerical computation.\n",
        "- Ideal for data manipulation and machine learning tasks.\n",
        "\n",
        "**Common Data Types in NumPy:**\n",
        "- Numeric: `int`, `float`\n",
        "- Others: Strings, objects (in specific use cases)\n"
      ],
      "metadata": {
        "id": "8J5o7J-S3heu"
      },
      "id": "8J5o7J-S3heu"
    },
    {
      "cell_type": "markdown",
      "source": [
        "# Importing NumPy\n",
        "\n",
        "To use NumPy in Python, you need to import it first. The convention is to use the alias `np`, which makes it easier to call functions from the library.\n"
      ],
      "metadata": {
        "id": "7fdMcBT69a4f"
      },
      "id": "7fdMcBT69a4f"
    },
    {
      "cell_type": "code",
      "execution_count": null,
      "id": "b5802013",
      "metadata": {
        "id": "b5802013"
      },
      "outputs": [],
      "source": [
        "import numpy as np"
      ]
    },
    {
      "cell_type": "markdown",
      "source": [
        "# Creating Arrays in NumPy\n",
        "\n",
        "An array is a grid of values, all of the same type, indexed by a tuple of non-negative integers. Arrays in NumPy are created using the `np.array()` function, which can take lists or tuples as input.\n",
        "\n",
        "**Types of Arrays:**\n",
        "1. Single-dimensional (1D): Linear arrays similar to Python lists.\n",
        "2. Multi-dimensional (2D or higher): Matrices or tensors with rows and columns.\n",
        "\n",
        "Advantages over Python lists:\n",
        "- Faster processing.\n",
        "- Takes up less memory.\n",
        "- Supports advanced operations like broadcasting.\n"
      ],
      "metadata": {
        "id": "OMXnrBsW7MKG"
      },
      "id": "OMXnrBsW7MKG"
    },
    {
      "cell_type": "markdown",
      "source": [
        "# Single-Dimensional Array\n",
        "\n",
        "We can create a 1D array from a Python list using `np.array()`. This is the simplest type of array and is used for linear data structures.\n"
      ],
      "metadata": {
        "id": "F-gmv8d1urDs"
      },
      "id": "F-gmv8d1urDs"
    },
    {
      "cell_type": "code",
      "execution_count": null,
      "id": "463c9686",
      "metadata": {
        "id": "463c9686"
      },
      "outputs": [],
      "source": [
        "list1 = [1,2,3,4]\n",
        "n1 = np.array(list1)\n",
        "n1"
      ]
    },
    {
      "cell_type": "markdown",
      "source": [
        "# Attributes of NumPy Arrays\n",
        "\n",
        "NumPy arrays come with built-in attributes for introspection:\n",
        "1. `type`: Identifies the object type.\n",
        "2. `.dtype`: Displays the data type of array elements.\n",
        "3. `.shape`: Reveals the structure or dimensions of the array (e.g., rows and columns).\n"
      ],
      "metadata": {
        "id": "_XnY4UIRuwIO"
      },
      "id": "_XnY4UIRuwIO"
    },
    {
      "cell_type": "code",
      "execution_count": null,
      "id": "a79921ba",
      "metadata": {
        "id": "a79921ba"
      },
      "outputs": [],
      "source": [
        "type(n1)"
      ]
    },
    {
      "cell_type": "code",
      "execution_count": null,
      "id": "45780cd0",
      "metadata": {
        "id": "45780cd0"
      },
      "outputs": [],
      "source": [
        "n1.dtype"
      ]
    },
    {
      "cell_type": "code",
      "execution_count": null,
      "id": "a8d48a27",
      "metadata": {
        "id": "a8d48a27"
      },
      "outputs": [],
      "source": [
        "n1.shape"
      ]
    },
    {
      "cell_type": "markdown",
      "source": [
        "# Multi-Dimensional Arrays\n",
        "\n",
        "NumPy supports multi-dimensional arrays (e.g., matrices). These are arrays where each element itself can be another array. Here, we created a 2D array with two rows and four columns.\n"
      ],
      "metadata": {
        "id": "gkltcgwIuzjI"
      },
      "id": "gkltcgwIuzjI"
    },
    {
      "cell_type": "code",
      "execution_count": null,
      "id": "866c2a59",
      "metadata": {
        "id": "866c2a59"
      },
      "outputs": [],
      "source": [
        "n2 = np.array([[1,2,3,4],[5,6,7,8]])\n",
        "n2"
      ]
    },
    {
      "cell_type": "code",
      "execution_count": null,
      "id": "21a912cf",
      "metadata": {
        "id": "21a912cf"
      },
      "outputs": [],
      "source": [
        "type(n2)"
      ]
    },
    {
      "cell_type": "code",
      "execution_count": null,
      "id": "5d453f61",
      "metadata": {
        "id": "5d453f61"
      },
      "outputs": [],
      "source": [
        "n2.dtype"
      ]
    },
    {
      "cell_type": "code",
      "execution_count": null,
      "id": "9acf83ea",
      "metadata": {
        "id": "9acf83ea"
      },
      "outputs": [],
      "source": [
        "n2.shape"
      ]
    },
    {
      "cell_type": "code",
      "execution_count": null,
      "id": "42dccf48",
      "metadata": {
        "id": "42dccf48"
      },
      "outputs": [],
      "source": [
        "n3 = np.array([[1,2,3.1,4]])\n",
        "n3"
      ]
    },
    {
      "cell_type": "code",
      "execution_count": null,
      "id": "860eea2c",
      "metadata": {
        "id": "860eea2c"
      },
      "outputs": [],
      "source": [
        "n3.dtype"
      ]
    },
    {
      "cell_type": "markdown",
      "source": [
        "# Handling Mixed Data Types\n",
        "\n",
        "If an array contains elements of different types (e.g., integers and strings), NumPy automatically converts all elements to a common data type. This is typically a string (`dtype=object`), limiting the operations that can be performed on such arrays.\n"
      ],
      "metadata": {
        "id": "l8Aga5Rcu51G"
      },
      "id": "l8Aga5Rcu51G"
    },
    {
      "cell_type": "code",
      "execution_count": null,
      "id": "52c7503f",
      "metadata": {
        "id": "52c7503f"
      },
      "outputs": [],
      "source": [
        "n4 = np.array ([1,'JalalKhan112', 3])\n",
        "n4"
      ]
    },
    {
      "cell_type": "code",
      "execution_count": null,
      "id": "6415e761",
      "metadata": {
        "id": "6415e761"
      },
      "outputs": [],
      "source": [
        "n4.dtype"
      ]
    },
    {
      "cell_type": "code",
      "execution_count": 1,
      "id": "987b7851",
      "metadata": {
        "id": "987b7851",
        "colab": {
          "base_uri": "https://localhost:8080/",
          "height": 141
        },
        "outputId": "8cfafd1c-1549-41d6-ec17-604fe593ee78"
      },
      "outputs": [
        {
          "output_type": "error",
          "ename": "NameError",
          "evalue": "name 'n4' is not defined",
          "traceback": [
            "\u001b[0;31m---------------------------------------------------------------------------\u001b[0m",
            "\u001b[0;31mNameError\u001b[0m                                 Traceback (most recent call last)",
            "\u001b[0;32m<ipython-input-1-7fb3430e9442>\u001b[0m in \u001b[0;36m<cell line: 1>\u001b[0;34m()\u001b[0m\n\u001b[0;32m----> 1\u001b[0;31m \u001b[0mn4\u001b[0m\u001b[0;34m*\u001b[0m\u001b[0;36m2\u001b[0m    \u001b[0;31m# not possible due to Unicode string data type in numpy -- numpy is preferred for numbers\u001b[0m\u001b[0;34m\u001b[0m\u001b[0;34m\u001b[0m\u001b[0m\n\u001b[0m",
            "\u001b[0;31mNameError\u001b[0m: name 'n4' is not defined"
          ]
        }
      ],
      "source": [
        "n4*2    # not possible due to Unicode string data type in numpy -- numpy is preferred for numbers"
      ]
    },
    {
      "cell_type": "markdown",
      "source": [
        "# Arrays Filled with Zeros\n",
        "\n",
        "NumPy provides the `np.zeros()` function to create arrays where all elements are initialized to 0. This is useful for creating placeholder arrays.\n",
        "\n",
        "**Parameters:**\n",
        "- `shape`: Specifies the dimensions of the array (e.g., `(rows, columns)`).\n",
        "- `dtype`: Specifies the data type of the array elements (default is `float`).\n"
      ],
      "metadata": {
        "id": "9CkEj-Oku9Y-"
      },
      "id": "9CkEj-Oku9Y-"
    },
    {
      "cell_type": "code",
      "execution_count": null,
      "id": "cd2c7558",
      "metadata": {
        "id": "cd2c7558"
      },
      "outputs": [],
      "source": [
        "n5 = np.zeros((1,10))\n",
        "n5"
      ]
    },
    {
      "cell_type": "code",
      "execution_count": null,
      "id": "c833aade",
      "metadata": {
        "id": "c833aade"
      },
      "outputs": [],
      "source": [
        "n6 = np.zeros((10,1))\n",
        "n6"
      ]
    },
    {
      "cell_type": "code",
      "execution_count": null,
      "id": "c95b4e92",
      "metadata": {
        "id": "c95b4e92"
      },
      "outputs": [],
      "source": [
        "n7 = np.zeros((1,10), dtype = int)\n",
        "n7"
      ]
    },
    {
      "cell_type": "markdown",
      "source": [
        "# Arrays Filled with Constant Values\n",
        "\n",
        "The `np.full()` function creates arrays where every element is set to a specified constant. This is useful for creating pre-filled arrays for specific calculations.\n"
      ],
      "metadata": {
        "id": "l-Qol7G-xMI_"
      },
      "id": "l-Qol7G-xMI_"
    },
    {
      "cell_type": "code",
      "execution_count": null,
      "id": "a48b67bc",
      "metadata": {
        "id": "a48b67bc"
      },
      "outputs": [],
      "source": [
        "n8 = np.full((4,5,10,1,12), 4)\n",
        "n8"
      ]
    },
    {
      "cell_type": "markdown",
      "source": [
        "# Arrays with Ranges\n",
        "\n",
        "NumPy offers the `np.arange()` function to generate evenly spaced values within a specified range.\n",
        "\n",
        "**Parameters:**\n",
        "- `start`: The starting value of the sequence.\n",
        "- `stop`: The end value (exclusive).\n",
        "- `step`: The spacing between values (default is 1).\n"
      ],
      "metadata": {
        "id": "RYJv8xdgxRlf"
      },
      "id": "RYJv8xdgxRlf"
    },
    {
      "cell_type": "code",
      "execution_count": null,
      "id": "ab332094",
      "metadata": {
        "id": "ab332094"
      },
      "outputs": [],
      "source": [
        "n8 = np.arange(10,21)\n",
        "n8"
      ]
    },
    {
      "cell_type": "code",
      "execution_count": null,
      "id": "e657cf4f",
      "metadata": {
        "id": "e657cf4f"
      },
      "outputs": [],
      "source": [
        "n9 = np.arange(10,21,2)\n",
        "n9"
      ]
    },
    {
      "cell_type": "markdown",
      "source": [
        "# Random Numbers in NumPy\n",
        "\n",
        "NumPy provides random number generation functions for both integers and floating-point numbers:\n",
        "1. `np.random.randint(low, high, size)`: Generates random integers.\n",
        "2. `np.random.uniform(low, high, size)`: Generates random floating-point numbers.\n",
        "\n",
        "Use `np.round()` to limit the decimal precision of floating-point numbers.\n"
      ],
      "metadata": {
        "id": "3bF1ufswxXFx"
      },
      "id": "3bF1ufswxXFx"
    },
    {
      "cell_type": "code",
      "execution_count": null,
      "id": "30ee496b",
      "metadata": {
        "id": "30ee496b"
      },
      "outputs": [],
      "source": [
        "n10 = np.random.randint(2,12)\n",
        "n10"
      ]
    },
    {
      "cell_type": "code",
      "execution_count": null,
      "id": "84c4f2be",
      "metadata": {
        "id": "84c4f2be"
      },
      "outputs": [],
      "source": [
        "n10 = np.random.randint(2,12, 4)\n",
        "n10"
      ]
    },
    {
      "cell_type": "code",
      "execution_count": null,
      "id": "ca5dfdd4",
      "metadata": {
        "id": "ca5dfdd4"
      },
      "outputs": [],
      "source": [
        "n11 = np.random.uniform(1.0, 101.0, 7)\n",
        "n11"
      ]
    },
    {
      "cell_type": "code",
      "execution_count": null,
      "id": "79acc31c",
      "metadata": {
        "id": "79acc31c"
      },
      "outputs": [],
      "source": [
        "decimal_limit = 2\n",
        "n12 = np.random.uniform(1.0, 101.0, 7)\n",
        "n12_rounded = np.round(n12, decimal_limit)\n",
        "n12_rounded"
      ]
    },
    {
      "cell_type": "code",
      "execution_count": null,
      "id": "92157cd6",
      "metadata": {
        "id": "92157cd6"
      },
      "outputs": [],
      "source": [
        "#NumPy array with unequal elements in each array"
      ]
    },
    {
      "cell_type": "markdown",
      "source": [
        "# Unequal Elements in Sub-Arrays\n",
        "\n",
        "When arrays have sub-arrays of different lengths, NumPy creates an object array (`dtype=object`). These arrays behave like nested Python lists and are less efficient than regular NumPy arrays.\n"
      ],
      "metadata": {
        "id": "_syGBfDGysJh"
      },
      "id": "_syGBfDGysJh"
    },
    {
      "cell_type": "code",
      "execution_count": 2,
      "id": "69caedcd",
      "metadata": {
        "id": "69caedcd",
        "colab": {
          "base_uri": "https://localhost:8080/"
        },
        "outputId": "bf349a73-da77-47b8-97ec-9e8e28d02c41"
      },
      "outputs": [
        {
          "output_type": "stream",
          "name": "stdout",
          "text": [
            "[[10, 20, 30], [40], [50, 40, 30, 40]]\n"
          ]
        }
      ],
      "source": [
        "n15 = [[10, 20, 30], [40], [50, 40, 30, 40]]\n",
        "print(n15)\n"
      ]
    },
    {
      "cell_type": "code",
      "execution_count": null,
      "id": "6d27ce1c",
      "metadata": {
        "id": "6d27ce1c"
      },
      "outputs": [],
      "source": [
        "n15 = np.array([[10, 20, 30], [40], [50,40,30,40]], dtype=object)"
      ]
    },
    {
      "cell_type": "code",
      "execution_count": null,
      "id": "b7a614f6",
      "metadata": {
        "id": "b7a614f6"
      },
      "outputs": [],
      "source": [
        "n15.shape"
      ]
    },
    {
      "cell_type": "code",
      "execution_count": null,
      "id": "7dbf4105",
      "metadata": {
        "id": "7dbf4105"
      },
      "outputs": [],
      "source": [
        "#NumPy for Stacking"
      ]
    },
    {
      "cell_type": "code",
      "execution_count": null,
      "id": "c50161d7",
      "metadata": {
        "id": "c50161d7"
      },
      "outputs": [],
      "source": [
        "n16 = np.array([1,2,3])\n",
        "n17 = np.array([4,5,6])"
      ]
    },
    {
      "cell_type": "markdown",
      "source": [
        "# Stacking Arrays\n",
        "\n",
        "NumPy provides functions to combine arrays:\n",
        "- `np.vstack()`: Stacks arrays vertically (row-wise).\n",
        "- `np.hstack()`: Stacks arrays horizontally (column-wise).\n",
        "- `np.column_stack()`: Combines arrays column-wise into 2D arrays.\n"
      ],
      "metadata": {
        "id": "OQUTF8TuyxEt"
      },
      "id": "OQUTF8TuyxEt"
    },
    {
      "cell_type": "code",
      "execution_count": null,
      "id": "1662cfec",
      "metadata": {
        "id": "1662cfec"
      },
      "outputs": [],
      "source": [
        "# Vertical Stack\n",
        "np.vstack((n16,n17))"
      ]
    },
    {
      "cell_type": "code",
      "execution_count": null,
      "id": "51ef40c9",
      "metadata": {
        "id": "51ef40c9"
      },
      "outputs": [],
      "source": [
        "# Horizontal Stack\n",
        "np.hstack((n16,n17))"
      ]
    },
    {
      "cell_type": "code",
      "execution_count": null,
      "id": "303fd535",
      "metadata": {
        "id": "303fd535"
      },
      "outputs": [],
      "source": [
        "# Horizontal Stack\n",
        "np.hstack((n17,n16))"
      ]
    },
    {
      "cell_type": "code",
      "execution_count": null,
      "id": "18852c1f",
      "metadata": {
        "id": "18852c1f"
      },
      "outputs": [],
      "source": [
        "# Column Stack\n",
        "np.column_stack((n16,n17))"
      ]
    },
    {
      "cell_type": "code",
      "execution_count": null,
      "id": "7b1dd47d",
      "metadata": {
        "id": "7b1dd47d"
      },
      "outputs": [],
      "source": [
        "n18 = np.array([1,2,3,4,5])\n",
        "n19 = np.array([4,5,6,7,8])"
      ]
    },
    {
      "cell_type": "markdown",
      "source": [
        "# Array Intersection and Difference\n",
        "\n",
        "NumPy provides functions to compare two arrays:\n",
        "- `np.intersect1d(array1, array2)`: Finds common elements between the two arrays.\n",
        "- `np.setdiff1d(array1, array2)`: Finds elements in the first array that are not in the second.\n"
      ],
      "metadata": {
        "id": "7nY6cbJi28X9"
      },
      "id": "7nY6cbJi28X9"
    },
    {
      "cell_type": "code",
      "execution_count": null,
      "id": "1a5207bf",
      "metadata": {
        "id": "1a5207bf"
      },
      "outputs": [],
      "source": [
        "#Intersection Value\n",
        "np.intersect1d(n18,n19)"
      ]
    },
    {
      "cell_type": "code",
      "execution_count": null,
      "id": "27422711",
      "metadata": {
        "id": "27422711"
      },
      "outputs": [],
      "source": [
        "#Difference Value\n",
        "np.setdiff1d(n18,n19)"
      ]
    },
    {
      "cell_type": "code",
      "execution_count": null,
      "id": "9763226f",
      "metadata": {
        "id": "9763226f"
      },
      "outputs": [],
      "source": [
        "#Difference Value\n",
        "np.setdiff1d(n19,n18)"
      ]
    },
    {
      "cell_type": "code",
      "execution_count": null,
      "id": "70fcd124",
      "metadata": {
        "id": "70fcd124"
      },
      "outputs": [],
      "source": [
        "#NumPy Array Sum"
      ]
    },
    {
      "cell_type": "code",
      "execution_count": null,
      "id": "212de2f7",
      "metadata": {
        "id": "212de2f7"
      },
      "outputs": [],
      "source": [
        "#Total Sum\n",
        "n20 = np.array([1,2,3])\n",
        "n21= np.array([4,5,6])\n",
        "np.sum([n20,n21])\n"
      ]
    },
    {
      "cell_type": "code",
      "execution_count": null,
      "id": "923656f2",
      "metadata": {
        "id": "923656f2"
      },
      "outputs": [],
      "source": [
        "#Column Sum\n",
        "np.sum([n20,n21],axis=0)"
      ]
    },
    {
      "cell_type": "code",
      "execution_count": null,
      "id": "3fdf72fc",
      "metadata": {
        "id": "3fdf72fc"
      },
      "outputs": [],
      "source": [
        "#Row Sum\n",
        "np.sum([n20,n21],axis=1)"
      ]
    },
    {
      "cell_type": "code",
      "execution_count": null,
      "id": "904a8822",
      "metadata": {
        "id": "904a8822"
      },
      "outputs": [],
      "source": [
        "#NumPy Arithemtic"
      ]
    },
    {
      "cell_type": "code",
      "execution_count": null,
      "id": "a09e764b",
      "metadata": {
        "id": "a09e764b"
      },
      "outputs": [],
      "source": [
        "n22 = np.array([1,2,3])"
      ]
    },
    {
      "cell_type": "markdown",
      "source": [
        "# Arithmetic Operations on Arrays\n",
        "\n",
        "NumPy allows element-wise arithmetic operations, making it easy to perform operations on entire arrays without loops:\n",
        "- Addition: `array + value`\n",
        "- Subtraction: `array - value`\n",
        "- Multiplication: `array * value`\n",
        "- Division: `array / value`\n"
      ],
      "metadata": {
        "id": "5e3dMxYK3FiU"
      },
      "id": "5e3dMxYK3FiU"
    },
    {
      "cell_type": "code",
      "execution_count": null,
      "id": "45857b54",
      "metadata": {
        "id": "45857b54"
      },
      "outputs": [],
      "source": [
        "#Addition\n",
        "n22+1"
      ]
    },
    {
      "cell_type": "code",
      "execution_count": null,
      "id": "33acc9c5",
      "metadata": {
        "id": "33acc9c5"
      },
      "outputs": [],
      "source": [
        "#Substraction\n",
        "n22-1"
      ]
    },
    {
      "cell_type": "code",
      "execution_count": null,
      "id": "f20f99d6",
      "metadata": {
        "id": "f20f99d6"
      },
      "outputs": [],
      "source": [
        "#Multiplication\n",
        "n22*2"
      ]
    },
    {
      "cell_type": "code",
      "execution_count": null,
      "id": "e2fa0bef",
      "metadata": {
        "id": "e2fa0bef"
      },
      "outputs": [],
      "source": [
        "#Division\n",
        "n23 = n22/2"
      ]
    },
    {
      "cell_type": "code",
      "execution_count": null,
      "id": "a010bde7",
      "metadata": {
        "id": "a010bde7"
      },
      "outputs": [],
      "source": [
        "n23.dtype"
      ]
    },
    {
      "cell_type": "code",
      "execution_count": null,
      "id": "aa0cd42b",
      "metadata": {
        "id": "aa0cd42b"
      },
      "outputs": [],
      "source": [
        "#NumPy Descriptive Statistics"
      ]
    },
    {
      "cell_type": "code",
      "execution_count": null,
      "id": "456e6e65",
      "metadata": {
        "id": "456e6e65"
      },
      "outputs": [],
      "source": [
        "n24 = np.array([1,2,3,3,45,5,6])"
      ]
    },
    {
      "cell_type": "markdown",
      "source": [
        "# Descriptive Statistics with NumPy\n",
        "\n",
        "NumPy provides functions to calculate key statistical metrics:\n",
        "- `np.mean(array)`: Calculates the mean (average).\n",
        "- `np.median(array)`: Finds the middle value of the array.\n",
        "- `np.var(array)`: Calculates the variance, a measure of data spread.\n",
        "- `np.std(array)`: Computes the standard deviation, a measure of dispersion.\n"
      ],
      "metadata": {
        "id": "D3ureRYs3H4u"
      },
      "id": "D3ureRYs3H4u"
    },
    {
      "cell_type": "code",
      "execution_count": null,
      "id": "90f3cf88",
      "metadata": {
        "id": "90f3cf88"
      },
      "outputs": [],
      "source": [
        "#Mean\n",
        "np.mean(n24)"
      ]
    },
    {
      "cell_type": "code",
      "execution_count": null,
      "id": "ee28f9c3",
      "metadata": {
        "id": "ee28f9c3"
      },
      "outputs": [],
      "source": [
        "#Median\n",
        "np.median(n24)"
      ]
    },
    {
      "cell_type": "code",
      "execution_count": null,
      "id": "7f613dc3",
      "metadata": {
        "id": "7f613dc3"
      },
      "outputs": [],
      "source": [
        "#Variance\n",
        "np.var(n24)"
      ]
    },
    {
      "cell_type": "code",
      "execution_count": null,
      "id": "a26752f2",
      "metadata": {
        "id": "a26752f2"
      },
      "outputs": [],
      "source": [
        "#Standard Deviation\n",
        "np.std(n24)"
      ]
    },
    {
      "cell_type": "code",
      "execution_count": null,
      "id": "d23f4063",
      "metadata": {
        "id": "d23f4063"
      },
      "outputs": [],
      "source": [
        "#For mode -- need to import it from scipy.stats\n",
        "\n",
        "import numpy as np\n",
        "from scipy.stats import mode\n",
        "\n",
        "n25 = np.array([1, 2, 2, 3, 3, 3, 4, 4, 4, 4])\n",
        "mode_value = mode(n25)\n",
        "mode_value\n"
      ]
    },
    {
      "cell_type": "code",
      "execution_count": null,
      "id": "f03bdcf2",
      "metadata": {
        "id": "f03bdcf2"
      },
      "outputs": [],
      "source": [
        "#NumPy Array Transformation"
      ]
    },
    {
      "cell_type": "code",
      "execution_count": null,
      "id": "2a154593",
      "metadata": {
        "id": "2a154593"
      },
      "outputs": [],
      "source": [
        "n26 = np.array([[10,20,30],[40,50,60],[70,80,90]])\n",
        "n26"
      ]
    },
    {
      "cell_type": "markdown",
      "source": [
        " # Transformations of Arrays\n",
        "\n",
        "NumPy supports advanced transformations for reshaping and manipulating arrays:\n",
        "- **Slicing**: Extract rows or columns from an array using indexing.\n",
        "  - `array[start:end]`: Slices rows.\n",
        "  - `array[:, column_index]`: Extracts a specific column.\n",
        "- **Transpose**: Use `np.transpose(array)` to switch rows and columns.\n"
      ],
      "metadata": {
        "id": "RHDaghio51bf"
      },
      "id": "RHDaghio51bf"
    },
    {
      "cell_type": "code",
      "execution_count": null,
      "id": "dd72015e",
      "metadata": {
        "id": "dd72015e"
      },
      "outputs": [],
      "source": [
        "#Extarct rows\n",
        "n26[0:2]"
      ]
    },
    {
      "cell_type": "code",
      "execution_count": null,
      "id": "744e9616",
      "metadata": {
        "id": "744e9616"
      },
      "outputs": [],
      "source": [
        "#Extract Columns\n",
        "n26[:,1]\n"
      ]
    },
    {
      "cell_type": "code",
      "execution_count": null,
      "id": "4a835c7a",
      "metadata": {
        "id": "4a835c7a"
      },
      "outputs": [],
      "source": [
        "n26[:,-1]"
      ]
    },
    {
      "cell_type": "code",
      "execution_count": null,
      "id": "6e1cbd8b",
      "metadata": {
        "id": "6e1cbd8b"
      },
      "outputs": [],
      "source": [
        "np.transpose(n26)"
      ]
    },
    {
      "cell_type": "code",
      "execution_count": null,
      "id": "e014c5dc",
      "metadata": {
        "id": "e014c5dc"
      },
      "outputs": [],
      "source": [
        "#Matrix (Array) Multiplication"
      ]
    },
    {
      "cell_type": "code",
      "execution_count": null,
      "id": "6d217d5f",
      "metadata": {
        "id": "6d217d5f"
      },
      "outputs": [],
      "source": [
        "n27 = np.array([[1,2,3],[4,5,6],[7,8,9]])\n",
        "n27"
      ]
    },
    {
      "cell_type": "code",
      "execution_count": null,
      "id": "3e988002",
      "metadata": {
        "id": "3e988002"
      },
      "outputs": [],
      "source": [
        "n28 = np.array([[10,11],[12,13],[14,15]])\n",
        "n28"
      ]
    },
    {
      "cell_type": "markdown",
      "source": [
        "# Matrix Multiplication in NumPy\n",
        "\n",
        "Matrix multiplication is performed using `.dot()` or the `@` operator:\n",
        "- Ensure the number of columns in the first matrix matches the number of rows in the second.\n",
        "- The resulting matrix has dimensions `(rows of first matrix, columns of second matrix)`.\n"
      ],
      "metadata": {
        "id": "f6U-0etY56En"
      },
      "id": "f6U-0etY56En"
    },
    {
      "cell_type": "code",
      "execution_count": null,
      "id": "0f9d27f3",
      "metadata": {
        "id": "0f9d27f3"
      },
      "outputs": [],
      "source": [
        "n27.dot(n28)"
      ]
    },
    {
      "cell_type": "code",
      "execution_count": null,
      "id": "5dbc527f",
      "metadata": {
        "id": "5dbc527f"
      },
      "outputs": [],
      "source": [
        "n28.dot(n27)"
      ]
    },
    {
      "cell_type": "code",
      "execution_count": null,
      "id": "69fc6cfb",
      "metadata": {
        "id": "69fc6cfb"
      },
      "outputs": [],
      "source": [
        "#Numpy Save and Load"
      ]
    },
    {
      "cell_type": "code",
      "execution_count": null,
      "id": "ce978c30",
      "metadata": {
        "id": "ce978c30"
      },
      "outputs": [],
      "source": [
        "n29 = np.array([1,2,3])\n",
        "n29"
      ]
    },
    {
      "cell_type": "markdown",
      "source": [
        "# Saving and Loading Arrays\n",
        "\n",
        "NumPy provides functions to save arrays to files and load them for later use:\n",
        "- `np.save(filename, array)`: Saves the array to a file with a `.npy` extension.\n",
        "- `np.load(filename)`: Loads the saved array.\n"
      ],
      "metadata": {
        "id": "zSanv5y15-P3"
      },
      "id": "zSanv5y15-P3"
    },
    {
      "cell_type": "code",
      "execution_count": null,
      "id": "02eafd5b",
      "metadata": {
        "id": "02eafd5b"
      },
      "outputs": [],
      "source": [
        "np.save('my_1st_numpy',n29)"
      ]
    },
    {
      "cell_type": "code",
      "execution_count": null,
      "id": "735bb205",
      "metadata": {
        "id": "735bb205"
      },
      "outputs": [],
      "source": [
        "np.load('my_1st_numpy.npy')"
      ]
    },
    {
      "cell_type": "markdown",
      "source": [
        "# Box Plot Visualization\n",
        "\n",
        "A box plot is used to represent the distribution of data:\n",
        "- Displays the minimum, maximum, median, and quartiles of the dataset.\n",
        "- Useful for identifying outliers and understanding data spread.\n"
      ],
      "metadata": {
        "id": "AM9A3JR16HGy"
      },
      "id": "AM9A3JR16HGy"
    },
    {
      "cell_type": "code",
      "execution_count": null,
      "id": "0fbf91a2",
      "metadata": {
        "id": "0fbf91a2"
      },
      "outputs": [],
      "source": [
        "import numpy as np\n",
        "import matplotlib.pyplot as plt\n",
        "\n",
        "# Generate random data for three groups\n",
        "np.random.seed(1)\n",
        "data1 = np.random.randint(0, 100, 10)\n",
        "data2 = np.random.randint(0, 100, 20)\n",
        "data3 = np.random.randint(0, 100, 39)\n",
        "\n",
        "print(data1, data2, data3)\n",
        "\n",
        "# Combine the data into a list\n",
        "data = [data1, data2, data3]\n",
        "\n",
        "# Create the box plot\n",
        "plt.boxplot(data)\n",
        "\n",
        "# Add labels and title\n",
        "plt.xlabel('Groups')\n",
        "plt.ylabel('Values')\n",
        "plt.title('Box Plot')\n",
        "\n",
        "# Show the plot\n",
        "plt.show()\n"
      ]
    },
    {
      "cell_type": "markdown",
      "source": [
        "# Histogram Visualization\n",
        "\n",
        "A histogram represents the frequency distribution of data:\n",
        "- Divides the data into intervals (bins).\n",
        "- Plots the number of occurrences within each bin.\n",
        "- Use `plt.hist()` to customize bins and ranges.\n"
      ],
      "metadata": {
        "id": "ie0PYzkD6KdQ"
      },
      "id": "ie0PYzkD6KdQ"
    },
    {
      "cell_type": "code",
      "execution_count": null,
      "id": "3c4255dc",
      "metadata": {
        "id": "3c4255dc"
      },
      "outputs": [],
      "source": [
        "import numpy as np\n",
        "import matplotlib.pyplot as plt\n",
        "\n",
        "# Generate random data\n",
        "np.random.seed(1)\n",
        "data = np.random.randint(0,100, 40)  # Random data from a normal distribution\n",
        "\n",
        "# Create the histogram\n",
        "plt.hist(data, bins=[0, 10,20,30, 40, 50, 60, 70, 80, 90, 100], rwidth = 0.9)\n",
        "\n",
        "# Add labels and title\n",
        "plt.xlabel('Values')\n",
        "plt.ylabel('Frequency')\n",
        "plt.title('Histogram')\n",
        "\n",
        "# Show the plot\n",
        "plt.show()\n"
      ]
    },
    {
      "cell_type": "markdown",
      "source": [
        "# Scatter Plot Visualization\n",
        "\n",
        "A scatter plot is used to visualize relationships between two sets of data:\n",
        "- Each point represents a pair of values from two variables.\n",
        "- Useful for identifying patterns, trends, or correlations.\n",
        "\n",
        "**Key Parameters:**\n",
        "- `x`: Data for the x-axis.\n",
        "- `y`: Data for the y-axis.\n",
        "- `color`: Optional, specifies point color.\n",
        "- `size`: Optional, specifies point size.\n"
      ],
      "metadata": {
        "id": "PKRJNbNi7mFn"
      },
      "id": "PKRJNbNi7mFn"
    },
    {
      "cell_type": "code",
      "execution_count": null,
      "id": "ef5b871e",
      "metadata": {
        "id": "ef5b871e"
      },
      "outputs": [],
      "source": [
        "import numpy as np\n",
        "import matplotlib.pyplot as plt\n",
        "\n",
        "# Generate random data\n",
        "np.random.seed(1)\n",
        "x = np.random.random(100)  # Random x values\n",
        "y = np.random.random(100)  # Random y values\n",
        "\n",
        "# Plot the scatter plot\n",
        "plt.scatter(x, y)\n",
        "\n",
        "# Add labels and title\n",
        "plt.xlabel('X')\n",
        "plt.ylabel('Y')\n",
        "plt.title('Scatter Plot')\n",
        "\n",
        "# Show the plot\n",
        "plt.show()\n"
      ]
    },
    {
      "cell_type": "markdown",
      "source": [
        "# Pie Chart Visualization\n",
        "\n",
        "A pie chart is a circular statistical chart divided into slices to illustrate proportions. Each slice represents a category's contribution to the whole.\n",
        "\n",
        "**Key Components in the Code:**\n",
        "1. **Labels**: The names of the categories (e.g., Apples, Bananas, etc.).\n",
        "2. **Sizes**: The numeric values representing the proportions for each category.\n",
        "3. **Colors**: Specifies the color of each slice to make the chart visually distinct.\n",
        "4. **Explode**: Separates a slice from the pie to emphasize it. The value represents the offset distance (e.g., `0.1` for Apples).\n",
        "5. **autopct**: Formats the percentage display on the slices (e.g., `%.2f%%` for two decimal places).\n",
        "\n",
        "This example visualizes the distribution of fruits using a pie chart.\n"
      ],
      "metadata": {
        "id": "h65E5adZ_zIA"
      },
      "id": "h65E5adZ_zIA"
    },
    {
      "cell_type": "code",
      "execution_count": null,
      "id": "b75b2cf4",
      "metadata": {
        "scrolled": true,
        "id": "b75b2cf4"
      },
      "outputs": [],
      "source": [
        "import matplotlib.pyplot as plt\n",
        "\n",
        "# Define data for the pie chart\n",
        "labels = ['Apples', 'Bananas', 'Oranges', 'Grapes']\n",
        "sizes = [30, 20, 25, 15]\n",
        "colors = ['red', 'yellow', 'orange', 'purple']\n",
        "explode = (0.1, 0, 0, 0)  # Explode the first slice (Apples)\n",
        "\n",
        "# Create the pie chart\n",
        "plt.pie(sizes, explode=explode, labels=labels, colors=colors, autopct='%.2f%%')\n",
        "\n",
        "# Add title\n",
        "plt.title('Fruit Distribution')\n",
        "\n",
        "# Show the plot\n",
        "plt.show()\n"
      ]
    },
    {
      "cell_type": "code",
      "execution_count": null,
      "id": "0b683551",
      "metadata": {
        "id": "0b683551"
      },
      "outputs": [],
      "source": [
        "import numpy as np\n",
        "\n",
        "# Example textual data\n",
        "text_data = ['apple', 'banana', 'orange', 'apple', 'grape']\n",
        "\n",
        "# Create a vocabulary of unique words\n",
        "vocab = sorted(set(text_data))\n",
        "print(vocab)"
      ]
    },
    {
      "cell_type": "markdown",
      "source": [
        "# Creating a Vocabulary from Text Data\n",
        "\n",
        "This code demonstrates how to process textual data to create a vocabulary of unique words. A vocabulary is essentially a set of all distinct words present in the dataset.\n",
        "\n",
        "**Step-by-Step Explanation:**\n",
        "1. **Text Data**: A list of words (e.g., `['apple', 'banana', 'orange', 'apple', 'grape']`).\n",
        "   - It can represent words from a sentence, document, or dataset.\n",
        "2. **Convert to a Set**:\n",
        "   - The `set()` function is used to extract unique words from the list by removing duplicates.\n",
        "3. **Sort the Words**:\n",
        "   - The `sorted()` function organizes the words in alphabetical order for consistency and readability.\n",
        "4. **Vocabulary**:\n",
        "   - The result is a sorted list of unique words, which is often referred to as the vocabulary.\n",
        "\n",
        "**Purpose of Creating a Vocabulary**:\n",
        "- In Natural Language Processing (NLP), creating a vocabulary is a crucial preprocessing step.\n",
        "- It helps in text analysis, tokenization, and converting words into numerical representations.\n",
        "\n",
        "**Output for the Given Code**:\n",
        "- The code outputs `['apple', 'banana', 'grape', 'orange']`, which is the sorted vocabulary of the unique words in the input `text_data`.\n",
        "\n",
        "This is a simple yet effective way to preprocess text for further analysis."
      ],
      "metadata": {
        "id": "aLhY3nMrFF6_"
      },
      "id": "aLhY3nMrFF6_"
    },
    {
      "cell_type": "code",
      "execution_count": null,
      "id": "663a0f80",
      "metadata": {
        "id": "663a0f80"
      },
      "outputs": [],
      "source": [
        "\n",
        "# Create an empty matrix to hold the one-hot encoded vectors\n",
        "one_hot_matrix = np.zeros((len(text_data), len(vocab)))\n",
        "one_hot_matrix\n"
      ]
    },
    {
      "cell_type": "code",
      "execution_count": null,
      "id": "07704c9d",
      "metadata": {
        "id": "07704c9d"
      },
      "outputs": [],
      "source": [
        "# Perform one-hot encoding\n",
        "for i, word in enumerate(text_data):\n",
        "    word_index = vocab.index(word)\n",
        "    one_hot_matrix[i, word_index] = 1\n",
        "\n",
        "print(one_hot_matrix)\n"
      ]
    },
    {
      "cell_type": "code",
      "execution_count": null,
      "id": "0518d943",
      "metadata": {
        "id": "0518d943"
      },
      "outputs": [],
      "source": [
        "import numpy as np\n",
        "\n",
        "# Example textual data\n",
        "text_data = ['apple', 'banana', 'orange', 'apple', 'grape']\n",
        "\n",
        "# Pre-trained word embeddings (example)\n",
        "word_embeddings = {\n",
        "    'apple': np.array([0.5, 0.3, 0.8]),\n",
        "    'banana': np.array([0.9, 0.2, 0.4]),\n",
        "    'orange': np.array([0.7, 0.6, 0.1]),\n",
        "    'grape': np.array([0.2, 0.4, 0.6])\n",
        "}\n",
        "\n",
        "# Convert text data to numerical vectors using word embeddings\n",
        "embedding_matrix = np.array([word_embeddings[word] for word in text_data])\n",
        "\n",
        "print(embedding_matrix)\n"
      ]
    },
    {
      "cell_type": "markdown",
      "id": "0fb34723",
      "metadata": {
        "id": "0fb34723"
      },
      "source": [
        "# Importing Libraries\n",
        "\n",
        "This code snippet imports the necessary libraries for text processing, dataset loading, and feature extraction. Each library plays a specific role in the text preprocessing pipeline.\n"
      ]
    },
    {
      "cell_type": "code",
      "execution_count": null,
      "id": "a33ca88f",
      "metadata": {
        "id": "a33ca88f"
      },
      "outputs": [],
      "source": [
        "#import libraries\n",
        "import numpy as np\n",
        "from sklearn.datasets import fetch_20newsgroups\n",
        "from sklearn.feature_extraction.text import CountVectorizer, TfidfVectorizer"
      ]
    },
    {
      "cell_type": "markdown",
      "id": "afba1a25",
      "metadata": {
        "id": "afba1a25"
      },
      "source": [
        "# Step 1: Loading the Dataset\n",
        "\n",
        "In this step, the dataset is loaded using the `fetch_20newsgroups` function, which is part of the `sklearn.datasets` module. This dataset is a well-known collection of newsgroup posts, commonly used for text classification and natural language processing (NLP) tasks.\n",
        "\n",
        "---\n",
        "\n",
        "### **Code Breakdown and Explanation**\n",
        "\n",
        "1. **Fetching the Dataset:**\n",
        "   ```python\n",
        "   newsgroups = fetch_20newsgroups(subset='train', categories=['sci.space', 'comp.graphics'], shuffle=True, random_state=42)\n"
      ]
    },
    {
      "cell_type": "code",
      "execution_count": null,
      "id": "ad7e72db",
      "metadata": {
        "id": "ad7e72db"
      },
      "outputs": [],
      "source": [
        "# Step 1: Load the dataset\n",
        "newsgroups = fetch_20newsgroups(subset='train', categories=['sci.space', 'comp.graphics'], shuffle=True, random_state=42)\n",
        "texts = newsgroups.data[:10]  # Use a small subset for simplicity ==> remember this, we are only loading documents from 0 to 9 (in total 10)"
      ]
    },
    {
      "cell_type": "code",
      "execution_count": null,
      "id": "7e03e77b",
      "metadata": {
        "id": "7e03e77b",
        "outputId": "3afc4c26-cb32-4368-a283-47f1e0992f62"
      },
      "outputs": [
        {
          "data": {
            "text/plain": [
              "'From: ab@nova.cc.purdue.edu (Allen B)\\nSubject: Re: thining algorithm\\nOrganization: Purdue University\\nLines: 15\\n\\nIn article <1q7615INNmi@shelley.u.washington.edu> kshin@stein.u.washington.edu  \\n(Kevin Shin) writes:\\n> I am trying obtain program to preprocess handwriting characters.\\n> Like thining algorithm, graph alogrithm.\\n> Do anyone know where I can obtain those?\\n\\nI usually use \"Algorithms for graphics and image processing\" by\\nTheodosios Pavlidis, but other people here got them same idea and now\\n3 of 4 copies in the libraries have been stolen!\\n\\nAnother reference is \"Digital Image Processing\" by Gonzalez and\\nWintz/Wood, which is widely available but a little expensive ($55\\nhere- I just checked today).\\n\\nab\\n'"
            ]
          },
          "execution_count": 18,
          "metadata": {},
          "output_type": "execute_result"
        }
      ],
      "source": [
        "texts[0] #checking first document"
      ]
    },
    {
      "cell_type": "markdown",
      "id": "540cac3a",
      "metadata": {
        "id": "540cac3a"
      },
      "source": [
        "# Printing All Documents Cleanly\n",
        "\n",
        "This code snippet iterates over a collection of text documents (`texts`) and prints each document in a clean and formatted way. It is useful for debugging, understanding the dataset, or presenting the content in an organized manner.\n",
        "\n",
        "---\n",
        "\n",
        "### **Code Breakdown and Explanation**\n",
        "\n",
        "1. **Loop Through Documents:**\n",
        "   ```python\n",
        "   for i, doc in enumerate(texts[:10]):\n"
      ]
    },
    {
      "cell_type": "code",
      "execution_count": null,
      "id": "376fc290",
      "metadata": {
        "id": "376fc290",
        "outputId": "00f77eb9-9a7a-4696-ca20-894a294cf18a"
      },
      "outputs": [
        {
          "name": "stdout",
          "output_type": "stream",
          "text": [
            "Document 1:\n",
            "From: ab@nova.cc.purdue.edu (Allen B)\n",
            "Subject: Re: thining algorithm\n",
            "Organization: Purdue University\n",
            "Lines: 15\n",
            "\n",
            "In article <1q7615INNmi@shelley.u.washington.edu> kshin@stein.u.washington.edu  \n",
            "(Kevin Shin) writes:\n",
            "> I am trying obtain program to preprocess handwriting characters.\n",
            "> Like thining algorithm, graph alogrithm.\n",
            "> Do anyone know where I can obtain those?\n",
            "\n",
            "I usually use \"Algorithms for graphics and image processing\" by\n",
            "Theodosios Pavlidis, but other people here got them same idea and now\n",
            "3 of 4 copies in the libraries have been stolen!\n",
            "\n",
            "Another reference is \"Digital Image Processing\" by Gonzalez and\n",
            "Wintz/Wood, which is widely available but a little expensive ($55\n",
            "here- I just checked today).\n",
            "\n",
            "ab\n",
            "\n",
            "\n",
            "--------------------------------------------------\n",
            "\n",
            "Document 2:\n",
            "From: stephens@geod.emr.ca (Dave Stephenson)\n",
            "Subject: Re: Clementine Science Team Selected\n",
            "Nntp-Posting-Host: ngis.geod.emr.ca\n",
            "Organization: Dept. of Energy, Mines, and Resources, Ottawa\n",
            "Lines: 32\n",
            "\n",
            "nickh@CS.CMU.EDU (Nick Haines) writes:\n",
            "\n",
            ">In article <stephens.734792933@ngis> stephens@geod.emr.ca (Dave Stephenson) writes:\n",
            "\n",
            ">   Remember the first government scientist in the British Empire was\n",
            ">   the Astronomer Royal, who was paid [...] from the Department\n",
            ">   of Ordinance Budget (i.e. the military). Flamsteed House (the original\n",
            ">   RGO) was built out of Army Surplus Scrap ( A gate house at the Tower of\n",
            ">   London ?), and paid for by the sale of time expired gunpowder [...]\n",
            "\n",
            ">At the time, astronomy was vital to the military, in that navigation\n",
            ">and cartography were of primary impoortance to the military, and good\n",
            ">cartography was impossible without good astronomy.\n",
            "\n",
            ">The relevance these daysis somewhat less obvious.\n",
            "\n",
            ">Nick\n",
            "\n",
            "It still applies, except the astronomy these days is Very Long Baseline\n",
            "Radio Astronomy coupled to GPS and Satellite Laser Ranging. The data\n",
            "from NASA's and the Naval Observatory's (among others) is a vital \n",
            "source of data for studies into crustal dynamics, Earth rotation, and\n",
            "purturbations. Every time there is a leap second added to the New Year,\n",
            "remember the military and science are still co-habiting nicely. The\n",
            "same VLBI was used to track Gallileo as it passed the Earth, and used\n",
            "so little fuel that it can afford to observe Ida. \n",
            " \n",
            "--\n",
            "Dave Stephenson\n",
            "Geodetic Survey of Canada\n",
            "Ottawa, Ontario, Canada\n",
            "Internet: stephens@geod.emr.ca\n",
            "\n",
            "\n",
            "--------------------------------------------------\n",
            "\n",
            "Document 3:\n",
            "From: dotzlaw@ccu.umanitoba.ca (Helmut Dotzlaw)\n",
            "Subject: Anti-aliasing utility wanted\n",
            "Nntp-Posting-Host: murphy.biochem.umanitoba.ca\n",
            "Organization: University of Manitoba\n",
            "Lines: 10\n",
            "\n",
            "I am currently using POVRay on Mac and was wondering if anyone in netland\n",
            "knows of public domain anti-aliasing utilities so that I can skip this step\n",
            "in POV, very slow on this machine.  Any suggestions, opinions about\n",
            "post-trace anti-aliasing would be greatly appreciated.\n",
            "\n",
            "             Helmut Dotzlaw\n",
            "Dept. of Biochemistry and Molecular Biology\n",
            "         University of Manitoba\n",
            "            Winnipeg, Canada\n",
            "        dotzlaw@ccu.umanitoba.ca\n",
            "\n",
            "\n",
            "--------------------------------------------------\n",
            "\n",
            "Document 4:\n",
            "From: flb@flb.optiplan.fi (\"F.Baube[tm]\")\n",
            "Subject: The Area Rule\n",
            "X-Added: Forwarded by Space Digest\n",
            "Organization: [via International Space University]\n",
            "Original-Sender: isu@VACATION.VENARI.CS.CMU.EDU\n",
            "Distribution: sci\n",
            "Lines: 12\n",
            "\n",
            "I read it refered to as the \"parabolic cross-section\" rule;\n",
            "the idea was that if you plot the area of the fuselage cross-\n",
            "section as a function of the point fore-and-aft along the \n",
            "fuselage, a plot that is a **paraboloid** minimizes somethin' \n",
            "or 'nother (to be technical about it).\n",
            "\n",
            "\n",
            "-- \n",
            "* Fred Baube (tm)         *  In times of intellectual ferment,\n",
            "* baube@optiplan.fi       * advantage to him with the intellect\n",
            "* #include <disclaimer.h> * most fermented\n",
            "* May '68, Paris: It's Retrospective Time !!  \n",
            "\n",
            "\n",
            "--------------------------------------------------\n",
            "\n",
            "Document 5:\n",
            "From: cchung@sneezy.phy.duke.edu (Charles Chung)\n",
            "Subject: Re: What if the USSR had reached the Moon first?\n",
            "Lines: 24\n",
            "Nntp-Posting-Host: bashful.phy.duke.edu\n",
            "\n",
            "In article <1993Apr20.152819.28186@ke4zv.uucp> gary@ke4zv.uucp (Gary  \n",
            "Coffman) writes:\n",
            "> >Why do you think at least a couple centuries before there will\n",
            "> >be significant commerical activity on the Moon?\n",
            "> \n",
            "> Wishful thinking mostly.\n",
            "[Lots of stuff about how the commerical moonbase=fantasyland]\n",
            "\n",
            "Then what do you believe will finally motivate people to leave the  \n",
            "earth?  I'm not trying to flame you.  I just want to know where you  \n",
            "stand.\n",
            "\n",
            "-Chuck\n",
            "---\n",
            "*******************************************************************\n",
            "\n",
            "\tChuck Chung\t\t\t\t(919) 660-2539 (O)\n",
            "\tDuke University Dept. of Physics\t(919) 684-1517 (H)\n",
            "\tDurham, N.C.      27706\t\t\tcchung@phy.duke.edu\n",
            "\t\n",
            "\t\"If pro is the opposite of con, \n",
            "\t\tthen what is the opposite of progress?\"\n",
            "\n",
            "*******************************************************************\n",
            "\n",
            "\n",
            "--------------------------------------------------\n",
            "\n",
            "Document 6:\n",
            "From: HURH@FNAL.FNAL.GOV (Patrick Hurh)\n",
            "Subject: Rayshade to DXF,RIB,etc.. (Strata)?\n",
            "Organization: FNAL\n",
            "Lines: 30\n",
            "Distribution: world\n",
            "NNTP-Posting-Host: adnet13.fnal.gov\n",
            "\n",
            "I'm a mac user who wants to use some of the rayshade models I've built\n",
            "using macrayshade (rayshade-M) with Stratavision 3d.  Since Stratavision\n",
            "can import many different model files I thought this would be a cinch...\n",
            "but I haven't been able to find a simple translator that will work on the\n",
            "mac.  Any ideas?\n",
            "\n",
            "Stratavision 3d should be able to import:\n",
            "\n",
            "DXF\n",
            "MiniCAD\n",
            "Super 3d\n",
            "Swivel 3d professional\n",
            "\n",
            "out of the box and:\n",
            "\n",
            "RIB\n",
            "IGS\n",
            "\n",
            "with externals.\n",
            "\n",
            "Also, if anyone knows of any other translator externals available for\n",
            "Stratavision 3d (esp. Rayshade!) please e-mail me!\n",
            "\n",
            "BTW, I'm going to send mail to the rayshade usrs mailing list tomorrow (I\n",
            "misplaced the address) but since most users of rayshade do not seem to\n",
            "operate with macs, I'm not getting my hopes up...\n",
            "\n",
            "thanks in advance,\n",
            "\n",
            "--patrick.                hurh@fnal.fnal.gov\n",
            "\n",
            "\n",
            "--------------------------------------------------\n",
            "\n",
            "Document 7:\n",
            "From: bosch@rz.uni-karlsruhe.de (Gerhard Bosch)\n",
            "Subject: Re: Newsgroup Split\n",
            "Organization: University of Karlsruhe, Germany\n",
            "Lines: 55\n",
            "Distribution: world\n",
            "NNTP-Posting-Host: ifh-hp2.bau-verm.uni-karlsruhe.de\n",
            "Mime-Version: 1.0\n",
            "Content-Type: text/plain; charset=iso-8859-1\n",
            "Content-Transfer-Encoding: 8bit\n",
            "\n",
            "In article <NERONE.93Apr20085951@sylvester.cc.utexas.edu>, nerone@ccwf.cc.utexas.edu (Michael Nerone) writes:\n",
            "|> In article <1quvdoINN3e7@srvr1.engin.umich.edu>, tdawson@engin.umich.edu (Chris Herringshaw) writes:\n",
            "|> \n",
            "|>   CH> Concerning the proposed newsgroup split, I personally am not in\n",
            "|>   CH> favor of doing this.  I learn an awful lot about all aspects of\n",
            "|>   CH> graphics by reading this group, from code to hardware to\n",
            "|>   CH> algorithms.  I just think making 5 different groups out of this\n",
            "|>   CH> is a wate, and will only result in a few posts a week per group.\n",
            "|>   CH> I kind of like the convenience of having one big forum for\n",
            "|>   CH> discussing all aspects of graphics.  Anyone else feel this way?\n",
            "|>   CH> Just curious.\n",
            "|> \n",
            "|> I must agree.  There is a dizzying number of c.s.amiga.* newsgroups\n",
            "|> already.  In addition, there are very few issues which fall cleanly\n",
            "|> into one of these categories.\n",
            "|> \n",
            "|> Also, it is readily observable that the current spectrum of amiga\n",
            "|> groups is already plagued with mega-crossposting; thus the group-split\n",
            "|> would not, in all likelihood, bring about a more structured\n",
            "|> environment.\n",
            "|> \n",
            "|> --\n",
            "|>    /~~~~~~~~~~~~~~~~~~~\\/~~~~~~~~~~~~~~~~~~~~~~~~~~~~~~~~~~~~~~~~~~~~~~~~~\\\n",
            "|>   /    Michael Nerone   \\\"I shall do so with my customary lack of tact; and\\\n",
            "|>  /   Internet Address:   \\since you have asked for this, you will be obliged\\\n",
            "|> /nerone@ccwf.cc.utexas.edu\\to pardon it.\"-Sagredo, fictional char of Galileo.\\\n",
            "\n",
            "Hi,\n",
            "It might be nice to know, what's possible on different hard ware platforms.\n",
            "But usually the hard ware is fixed ( in my case either Unix or DOS- PC ).\n",
            "So I'm not much interested in Amiga news. \n",
            "\n",
            "In the case of Software, I won't get any comercial software mentioned in this\n",
            "newgroup to run on a Unix- platform, so I'm not interested in this information.\n",
            "\n",
            "I would suggest to split the group. I don't see the problem of cross-posting.\n",
            "Then you need to read just 2 newgroups with half the size. \n",
            "\n",
            "BUT WHAT WOULD BE MORE IMPORTANT IS TO HAVE A FAQ. THIS WOULD REDUCE THE\n",
            "TRAFFIC A LOT.\n",
            "\n",
            "Sincerely, Gerhard\n",
            "-- \n",
            "I'm writing this as a privat person, not reflecting any opinions of the Inst.\n",
            "of Hydromechanics,  the University of Karlsruhe, the Land Baden-Wuerttemberg,\n",
            "the Federal Republic of Germany and  the European Community.  The address and\n",
            "phone number below  are just to get in touch with me.  Everything I'm saying, \n",
            "writing and typing is always wrong ! (Statement necessary to avoid law suits)\n",
            "=============================================================================\n",
            "-    Dipl.-Ing. Gerhard Bosch M.Sc.             voice:(0721) - 608 3118     -\n",
            "-    Institute for Hydromechanic                  FAX:(0721) - 608 4290     -\n",
            "-    University of Karlsruhe, Kaiserstrasse 12, 7500-Karlsruhe, Germany     -\n",
            "-    Internet: bosch@ifh-hp2.bau-verm.uni-karlsruhe.de                      -\n",
            "-      Bitnet: nd07@DKAUNI2.BITNET                                          -\n",
            "=============================================================================\n",
            "\n",
            "\n",
            "--------------------------------------------------\n",
            "\n",
            "Document 8:\n",
            "From: nsmca@aurora.alaska.edu\n",
            "Subject: Re: Why not give $1 billion to first year-long moon residents?\n",
            "Article-I.D.: aurora.1993Apr19.130503.1\n",
            "Organization: University of Alaska Fairbanks\n",
            "Lines: 21\n",
            "Nntp-Posting-Host: acad3.alaska.edu\n",
            "\n",
            "In article <6ZV82B2w165w@theporch.raider.net>, gene@theporch.raider.net (Gene Wright) writes:\n",
            "> With the continuin talk about the \"End of the Space Age\" and complaints \n",
            "> by government over the large cost, why not try something I read about \n",
            "> that might just work.\n",
            "> \n",
            "> Announce that a reward of $1 billion would go to the first corporation \n",
            "> who successfully keeps at least 1 person alive on the moon for a year. \n",
            "> Then you'd see some of the inexpensive but not popular technologies begin \n",
            "> to be developed. THere'd be a different kind of space race then!\n",
            "> \n",
            "> --\n",
            ">   gene@theporch.raider.net (Gene Wright)\n",
            "> theporch.raider.net  615/297-7951 The MacInteresteds of Nashville\n",
            "====\n",
            "If that were true, I'd go for it.. I have a few friends who we could pool our\n",
            "resources and do it.. Maybe make it a prize kind of liek the \"Solar Car Race\"\n",
            "in Australia..\n",
            "Anybody game for a contest!\n",
            "\n",
            "==\n",
            "Michael Adams, nsmca@acad3.alaska.edu -- I'm not high, just jacked\n",
            "\n",
            "\n",
            "--------------------------------------------------\n",
            "\n",
            "Document 9:\n",
            "From: aron@tikal.ced.berkeley.edu (Aron Bonar)\n",
            "Subject: Re: Photoshop for Windows\n",
            "Organization: University of California, Berkeley\n",
            "Lines: 26\n",
            "Distribution: world\n",
            "NNTP-Posting-Host: tikal.ced.berkeley.edu\n",
            "\n",
            "In article <1993Apr22.011720.28958@midway.uchicago.edu>, dgf1@quads.uchicago.edu (David Farley) writes:\n",
            "|> In article <C5uHIM.JFq@rot.qc.ca> beaver@rot.qc.ca (Andre Boivert) writes:\n",
            "|> >\n",
            "|> >\n",
            "|> >I am looking for comments from people who have used/heard about PhotoShop\n",
            "|> >for Windows. Is it good? How does it compare to the Mac version? Is there\n",
            "|> >a lot of bugs (I heard the Windows version needs \"fine-tuning)?\n",
            "|> >\n",
            "|> >Any comments would be greatly appreciated..\n",
            "|> >\n",
            "|> >Thank you.\n",
            "|> >\n",
            "|> >Andre Boisvert\n",
            "|> >beaver@rot.qc.ca\n",
            "|> >\n",
            "|> An review of both the Mac and Windows versions in either PC Week or Info\n",
            "|> World this week, said that the Windows version was considerably slower\n",
            "|> than the Mac.  A more useful comparison would have been between PhotoStyler\n",
            "|> and PhotoShop for Windows.  David\n",
            "|> \n",
            "\n",
            "I don't know about that...I've used Photoshop 2.5 on both a 486dx-50 and a Quadra\n",
            "950...I'd say they are roughly equal.  If anything the 486 was faster.\n",
            "\n",
            "Both systems were running in 24 bit color and had the same amount of RAM (16 megs)\n",
            "I also believe the quadra had one of those photoshop accelerators.\n",
            "\n",
            "\n",
            "--------------------------------------------------\n",
            "\n",
            "Document 10:\n",
            "From: joshuaf@yang.earlham.edu\n",
            "Subject: Re: TIFF -> Anything?!\n",
            "Organization: Earlham College, Richmond, Indiana\n",
            "Lines: 15\n",
            "\n",
            "In article <1993Apr23.033843.26854@spartan.ac.BrockU.CA>, tmc@spartan.ac.BrockU.CA (Tim Ciceran) writes:\n",
            "> There is a program called Graphic Workshop you can FTP from\n",
            "> wuarchive.  The file is in the msdos/graphics directory and\n",
            "> is called \"grfwk61t.zip.\"  This program should od everthing\n",
            "> you need.\n",
            "> \n",
            "> -- \n",
            "> \n",
            "> TMC\n",
            "> (tmc@spartan.ac.BrockU.ca)\n",
            "\n",
            "\n",
            "THANKS!  It did work, and it is just what I needed thanks...\n",
            "\n",
            "Joshuaf\n",
            "\n",
            "\n",
            "--------------------------------------------------\n",
            "\n"
          ]
        }
      ],
      "source": [
        "# Printing all the documents cleanly\n",
        "for i, doc in enumerate(texts[:10]):\n",
        "    print(f\"Document {i+1}:\")\n",
        "    print(doc)\n",
        "    print(\"\\n\" + \"-\"*50 + \"\\n\")  # Separator line for better readability\n"
      ]
    },
    {
      "cell_type": "markdown",
      "id": "1dd6c0c3",
      "metadata": {
        "id": "1dd6c0c3"
      },
      "source": [
        "# Text-to-Vector Conversion\n",
        "\n",
        "Text-to-Vector Conversion refers to the process of transforming textual data (unstructured data) into numerical representations (structured data) that can be used by machine learning models or mathematical algorithms. Since computers and models cannot directly process raw text, this conversion is a crucial step in Natural Language Processing (NLP).\n",
        "\n",
        "---\n",
        "\n",
        "### **Why is Text-to-Vector Conversion Important?**\n",
        "1. **Numerical Representation:**\n",
        "   - Machine learning models and algorithms work with numerical inputs. Text-to-vector conversion enables processing and analysis of text in a format models can understand.\n",
        "2. **Preserving Text Information:**\n",
        "   - The conversion captures essential information about the text, such as term frequencies, importance, or semantic relationships.\n",
        "3. **Foundation for NLP Tasks:**\n",
        "   - Text representation is the foundation for tasks like classification, clustering, sentiment analysis, and document similarity.\n",
        "\n",
        "---\n",
        "\n",
        "### **Common Techniques for Text-to-Vector Conversion**\n",
        "\n",
        "1. **Bag-of-Words (BoW) Representation:**\n",
        "   - Uses the frequency of words in a document to represent text as a vector.\n",
        "   - Ignores word order and context.\n",
        "   - Example: If the vocabulary is `[apple, banana, orange]`, the text `\"apple orange apple\"` is represented as `[2, 0, 1]`.\n",
        "\n",
        "2. **TF-IDF (Term Frequency-Inverse Document Frequency):**\n",
        "   - Weighs the importance of words in a document relative to a corpus.\n",
        "   - Reduces the influence of common words while emphasizing unique terms.\n",
        "   - Example: Words like \"the\" and \"is\" get lower scores, while more unique words like \"NASA\" get higher scores.\n",
        "\n",
        "3. **Word Embeddings (e.g., Word2Vec, GloVe):**\n",
        "   - Captures semantic relationships between words by mapping them into a continuous vector space.\n",
        "   - Words with similar meanings have similar vector representations.\n",
        "   - Example: `king` and `queen` may have similar vectors but with differences indicating gender.\n",
        "\n",
        "4. **Count-Based Representations (CountVectorizer):**\n",
        "   - Counts the occurrences of each term in the document.\n",
        "   - Simple and interpretable but ignores word meaning and context.\n",
        "\n",
        "---\n",
        "\n",
        "### **Steps in Text-to-Vector Conversion**\n",
        "\n",
        "1. **Text Preprocessing:**\n",
        "   - Clean the text by removing punctuation, stop words, or special characters.\n",
        "   - Convert to lowercase.\n",
        "   - Tokenize the text (split into words or phrases).\n",
        "\n",
        "2. **Vectorization:**\n",
        "   - Convert the cleaned text into numerical vectors using one of the methods above.\n",
        "\n",
        "3. **Feature Engineering (Optional):**\n",
        "   - Enhance the representation by adding context, sentiment scores, or metadata.\n",
        "\n",
        "---\n",
        "\n",
        "### **Applications of Text-to-Vector Conversion**\n",
        "\n",
        "1. **Document Similarity:**\n",
        "   - Measure how similar two documents are using cosine similarity or dot product.\n",
        "2. **Text Classification:**\n",
        "   - Categorize documents into predefined classes (e.g., spam detection, sentiment analysis).\n",
        "3. **Information Retrieval:**\n",
        "   - Retrieve relevant documents or information based on a query.\n",
        "4. **Clustering:**\n",
        "   - Group similar documents or text into clusters (e.g., news articles by topic).\n",
        "\n",
        "Text-to-Vector Conversion bridges the gap between raw text and computational models, enabling effective analysis and insights from unstructured data.\n"
      ]
    },
    {
      "cell_type": "markdown",
      "id": "c005c27c",
      "metadata": {
        "id": "c005c27c"
      },
      "source": [
        "# Step 2: Converting Text to Vectors Using CountVectorizer\n",
        "\n",
        "In this step, the `CountVectorizer` is used to convert a collection of text documents into a matrix of token counts. This approach, also known as the Bag-of-Words (BoW) model, represents text data by counting the frequency of each word in the documents.\n",
        "\n",
        "---\n",
        "\n",
        "### **Code Breakdown and Explanation**\n",
        "\n",
        "1. **CountVectorizer Initialization:**\n",
        "   ```python\n",
        "   count_vectorizer = CountVectorizer(stop_words='english', max_features=100)\n"
      ]
    },
    {
      "cell_type": "code",
      "execution_count": null,
      "id": "ffbd79ff",
      "metadata": {
        "id": "ffbd79ff",
        "outputId": "c1c49389-2132-408e-a58e-2b34f0d29395"
      },
      "outputs": [
        {
          "name": "stdout",
          "output_type": "stream",
          "text": [
            "Count Vectorizer Output (Bag-of-Words):\n",
            "[[0 0 0 0 0 0 0 0 1 0 0 0 0 0 0 0 1 0 0 0 0 0 0 0 0 0 0 0 0 0 0 3 0 0 0 0\n",
            "  0 0 0 0 1 0 0 0 0 0 0 0 1 0 0 0 1 1 0 0 0 0 0 0 0 0 1 0 1 0 0 0 0 0 1 0\n",
            "  0 0 0 0 0 0 0 0 0 0 0 1 0 0 0 0 0 0 1 0 0 0 0 0 0 0 1 0]\n",
            " [0 0 0 0 0 0 0 0 1 4 0 0 0 0 4 2 0 0 1 0 0 0 2 3 0 1 0 0 0 0 2 1 4 0 0 4\n",
            "  0 0 2 0 0 0 1 0 0 0 1 0 0 0 0 0 0 1 0 0 0 4 0 0 0 1 1 0 0 0 0 0 0 1 0 0\n",
            "  0 0 0 0 0 0 0 0 4 3 0 1 0 0 3 0 0 0 0 2 0 0 0 0 0 0 2 1]\n",
            " [0 0 0 0 0 3 0 3 0 0 0 0 0 0 3 1 0 0 0 0 0 0 0 0 0 1 0 0 4 0 0 0 0 0 0 0\n",
            "  0 0 0 0 0 0 1 0 0 0 0 0 0 0 0 0 0 1 0 1 0 0 0 0 0 1 1 0 0 0 0 0 0 1 0 0\n",
            "  0 0 0 0 0 0 0 0 0 0 0 1 0 0 0 0 3 0 2 0 0 0 0 0 0 0 0 0]\n",
            " [0 0 0 0 0 0 0 0 0 0 3 0 0 0 0 0 0 0 1 0 0 2 0 0 0 0 0 1 0 0 0 1 0 0 0 0\n",
            "  0 0 0 0 0 0 0 0 0 0 0 0 0 0 0 0 0 1 0 0 0 0 0 0 0 0 1 0 0 0 0 0 2 0 0 0\n",
            "  0 0 1 0 0 2 0 0 0 0 0 1 0 0 1 0 0 0 1 0 0 0 0 0 0 0 0 0]\n",
            " [1 0 0 0 0 0 0 0 1 0 0 0 0 0 0 0 0 0 0 2 0 0 0 0 0 1 0 0 0 4 1 3 0 0 0 0\n",
            "  0 0 0 0 0 0 1 0 0 0 0 0 1 0 2 0 1 1 0 0 0 0 2 0 0 1 0 0 1 0 0 3 0 1 0 0\n",
            "  0 0 0 0 0 0 0 0 0 0 0 1 0 0 0 0 0 0 1 0 0 0 0 0 0 0 1 0]\n",
            " [0 5 0 1 0 0 0 0 0 0 0 0 0 0 0 0 0 0 0 0 0 0 0 0 0 0 1 1 0 0 0 0 0 6 0 0\n",
            "  0 0 0 3 0 0 1 3 2 0 0 0 0 0 0 0 0 1 0 2 0 0 0 0 0 1 1 0 0 0 0 0 0 1 0 0\n",
            "  0 6 0 0 0 0 0 0 0 0 4 1 1 0 0 0 0 0 0 0 0 0 0 0 1 1 0 0]\n",
            " [0 0 0 2 0 0 3 0 2 0 0 0 4 0 0 0 3 8 0 0 2 1 0 0 0 0 2 1 0 0 0 5 0 0 0 0\n",
            "  3 3 0 0 2 4 1 0 0 2 2 0 4 7 0 1 1 1 2 0 2 0 0 5 0 1 1 1 0 1 0 0 0 2 0 0\n",
            "  0 0 1 0 2 0 0 4 0 0 0 1 0 0 0 0 0 3 3 0 3 1 1 0 0 1 2 0]\n",
            " [0 0 0 0 4 0 0 0 2 0 0 0 0 0 0 0 0 0 0 0 0 0 0 0 0 0 1 0 0 0 0 3 0 0 4 0\n",
            "  0 0 0 0 0 0 1 0 0 0 0 0 2 0 0 2 0 1 0 0 1 0 2 0 4 1 1 0 0 1 0 0 0 1 0 0\n",
            "  4 0 1 0 0 2 0 0 0 0 0 1 0 4 0 0 0 0 1 0 0 0 0 0 1 0 1 2]\n",
            " [1 0 0 0 0 0 0 0 2 0 0 3 0 0 3 0 0 0 0 0 0 0 0 0 2 0 0 1 0 0 0 4 0 0 0 0\n",
            "  0 0 1 0 0 0 1 0 0 0 0 0 0 0 0 0 1 1 1 3 0 0 0 0 0 1 1 1 1 0 5 0 0 1 0 3\n",
            "  0 0 0 3 0 0 0 0 0 0 0 1 0 0 0 0 0 0 1 2 0 3 2 6 0 2 2 0]\n",
            " [0 0 3 0 0 0 0 0 1 0 0 0 0 3 3 0 0 0 0 0 0 0 0 0 0 0 0 0 0 0 0 1 0 0 0 0\n",
            "  0 0 0 0 1 0 0 0 0 0 0 2 1 0 0 0 0 1 0 0 0 0 0 0 0 0 1 0 0 0 0 0 0 0 2 0\n",
            "  0 0 0 0 0 0 3 0 0 0 0 1 2 0 0 3 0 0 0 0 0 0 0 0 1 0 1 0]]\n"
          ]
        }
      ],
      "source": [
        "# Step 2: Convert text to vectors using CountVectorizer\n",
        "count_vectorizer = CountVectorizer(stop_words='english', max_features=100)  # Limit features for clarity\n",
        "count_matrix = count_vectorizer.fit_transform(texts)\n",
        "\n",
        "# Convert to NumPy array\n",
        "count_array = count_matrix.toarray()\n",
        "print(\"Count Vectorizer Output (Bag-of-Words):\")\n",
        "print(count_array)"
      ]
    },
    {
      "cell_type": "markdown",
      "id": "b95f27f1",
      "metadata": {
        "id": "b95f27f1"
      },
      "source": [
        "# Step 3: Converting Text to Vectors Using TF-IDF Vectorizer\n",
        "\n",
        "In this step, the `TfidfVectorizer` is used to convert a collection of text documents into a matrix of TF-IDF features. TF-IDF (Term Frequency-Inverse Document Frequency) is a statistical measure used to evaluate the importance of a term in a document relative to a collection of documents (corpus).\n",
        "\n",
        "---\n",
        "\n",
        "### **Code Breakdown and Explanation**\n",
        "\n",
        "1. **TF-IDF Vectorizer Initialization:**\n",
        "   ```python\n",
        "   tfidf_vectorizer = TfidfVectorizer(stop_words='english', max_features=100)\n"
      ]
    },
    {
      "cell_type": "code",
      "execution_count": null,
      "id": "c8035e38",
      "metadata": {
        "id": "c8035e38",
        "outputId": "946127c6-f3d1-408c-f5a8-e807c136469f"
      },
      "outputs": [
        {
          "name": "stdout",
          "output_type": "stream",
          "text": [
            "\n",
            "TF-IDF Vectorizer Output:\n",
            "[[0.         0.         0.         0.         0.         0.\n",
            "  0.         0.         0.19474734 0.         0.         0.\n",
            "  0.         0.         0.         0.         0.33962455 0.\n",
            "  0.         0.         0.         0.         0.         0.\n",
            "  0.         0.         0.         0.         0.         0.\n",
            "  0.         0.53204922 0.         0.         0.         0.\n",
            "  0.         0.         0.         0.         0.29713135 0.\n",
            "  0.         0.         0.         0.         0.         0.\n",
            "  0.23724054 0.         0.         0.         0.26417106 0.14770889\n",
            "  0.         0.         0.         0.         0.         0.\n",
            "  0.         0.         0.16178705 0.         0.29713135 0.\n",
            "  0.         0.         0.         0.         0.33962455 0.\n",
            "  0.         0.         0.         0.         0.         0.\n",
            "  0.         0.         0.         0.         0.         0.14770889\n",
            "  0.         0.         0.         0.         0.         0.\n",
            "  0.19474734 0.         0.         0.         0.         0.\n",
            "  0.         0.         0.19474734 0.        ]\n",
            " [0.         0.         0.         0.         0.         0.\n",
            "  0.         0.         0.04237678 0.34773614 0.         0.\n",
            "  0.         0.         0.22993315 0.14780374 0.         0.\n",
            "  0.07390187 0.         0.         0.         0.17386807 0.26080211\n",
            "  0.         0.06465541 0.         0.         0.         0.\n",
            "  0.14780374 0.03859108 0.34773614 0.         0.         0.34773614\n",
            "  0.         0.         0.14780374 0.         0.         0.\n",
            "  0.04237678 0.         0.         0.         0.07390187 0.\n",
            "  0.         0.         0.         0.         0.         0.03214127\n",
            "  0.         0.         0.         0.34773614 0.         0.\n",
            "  0.         0.04237678 0.03520466 0.         0.         0.\n",
            "  0.         0.         0.         0.04237678 0.         0.\n",
            "  0.         0.         0.         0.         0.         0.\n",
            "  0.         0.         0.34773614 0.26080211 0.         0.03214127\n",
            "  0.         0.         0.22170562 0.         0.         0.\n",
            "  0.         0.14780374 0.         0.         0.         0.\n",
            "  0.         0.         0.08475355 0.07390187]\n",
            " [0.         0.         0.         0.         0.         0.42064267\n",
            "  0.         0.42064267 0.         0.         0.         0.\n",
            "  0.         0.         0.27814105 0.1191949  0.         0.\n",
            "  0.         0.         0.         0.         0.         0.\n",
            "  0.         0.10428145 0.         0.         0.5608569  0.\n",
            "  0.         0.         0.         0.         0.         0.\n",
            "  0.         0.         0.         0.         0.         0.\n",
            "  0.06834868 0.         0.         0.         0.         0.\n",
            "  0.         0.         0.         0.         0.         0.05184003\n",
            "  0.         0.10428145 0.         0.         0.         0.\n",
            "  0.         0.06834868 0.05678091 0.         0.         0.\n",
            "  0.         0.         0.         0.06834868 0.         0.\n",
            "  0.         0.         0.         0.         0.         0.\n",
            "  0.         0.         0.         0.         0.         0.05184003\n",
            "  0.         0.         0.         0.         0.42064267 0.\n",
            "  0.13669736 0.         0.         0.         0.         0.\n",
            "  0.         0.         0.         0.        ]\n",
            " [0.         0.         0.         0.         0.         0.\n",
            "  0.         0.         0.         0.         0.63831287 0.\n",
            "  0.         0.         0.         0.         0.         0.\n",
            "  0.18087475 0.         0.         0.3617495  0.         0.\n",
            "  0.         0.         0.         0.14069029 0.         0.\n",
            "  0.         0.09445163 0.         0.         0.         0.\n",
            "  0.         0.         0.         0.         0.         0.\n",
            "  0.         0.         0.         0.         0.         0.\n",
            "  0.         0.         0.         0.         0.         0.07866572\n",
            "  0.         0.         0.         0.         0.         0.\n",
            "  0.         0.         0.08616336 0.         0.         0.\n",
            "  0.         0.         0.42554191 0.         0.         0.\n",
            "  0.         0.         0.15824403 0.         0.         0.3617495\n",
            "  0.         0.         0.         0.         0.         0.07866572\n",
            "  0.         0.         0.18087475 0.         0.         0.\n",
            "  0.10371711 0.         0.         0.         0.         0.\n",
            "  0.         0.         0.         0.        ]\n",
            " [0.13008524 0.         0.         0.         0.         0.\n",
            "  0.         0.         0.07459341 0.         0.         0.\n",
            "  0.         0.         0.         0.         0.         0.\n",
            "  0.         0.30605001 0.         0.         0.         0.\n",
            "  0.         0.11380921 0.         0.         0.         0.61210003\n",
            "  0.13008524 0.20378901 0.         0.         0.         0.\n",
            "  0.         0.         0.         0.         0.         0.\n",
            "  0.07459341 0.         0.         0.         0.         0.\n",
            "  0.09086944 0.         0.30605001 0.         0.10118454 0.05657644\n",
            "  0.         0.         0.         0.         0.26017047 0.\n",
            "  0.         0.07459341 0.         0.         0.11380921 0.\n",
            "  0.         0.45907502 0.         0.07459341 0.         0.\n",
            "  0.         0.         0.         0.         0.         0.\n",
            "  0.         0.         0.         0.         0.         0.05657644\n",
            "  0.         0.         0.         0.         0.         0.\n",
            "  0.07459341 0.         0.         0.         0.         0.\n",
            "  0.         0.         0.07459341 0.        ]\n",
            " [0.         0.41973156 0.         0.07136203 0.         0.\n",
            "  0.         0.         0.         0.         0.         0.\n",
            "  0.         0.         0.         0.         0.         0.\n",
            "  0.         0.         0.         0.         0.         0.\n",
            "  0.         0.         0.06243335 0.05550772 0.         0.\n",
            "  0.         0.         0.         0.50367787 0.         0.\n",
            "  0.         0.         0.         0.25183893 0.         0.\n",
            "  0.04092038 0.25183893 0.16789262 0.         0.         0.\n",
            "  0.         0.         0.         0.         0.         0.03103665\n",
            "  0.         0.12486669 0.         0.         0.         0.\n",
            "  0.         0.04092038 0.03399476 0.         0.         0.\n",
            "  0.         0.         0.         0.04092038 0.         0.\n",
            "  0.         0.50367787 0.         0.         0.         0.\n",
            "  0.         0.         0.         0.         0.33578525 0.03103665\n",
            "  0.07136203 0.         0.         0.         0.         0.\n",
            "  0.         0.         0.         0.         0.         0.\n",
            "  0.06243335 0.06243335 0.         0.        ]\n",
            " [0.         0.         0.         0.10013572 0.         0.\n",
            "  0.17669111 0.         0.05741978 0.         0.         0.\n",
            "  0.23558815 0.         0.         0.         0.15020359 0.47117629\n",
            "  0.         0.         0.11779407 0.05006786 0.         0.\n",
            "  0.         0.         0.08760693 0.03894442 0.         0.\n",
            "  0.         0.13072557 0.         0.         0.         0.\n",
            "  0.17669111 0.17669111 0.         0.         0.08760693 0.23558815\n",
            "  0.02870989 0.         0.         0.11779407 0.10013572 0.\n",
            "  0.13989715 0.41227926 0.         0.05006786 0.03894442 0.02177542\n",
            "  0.10013572 0.         0.10013572 0.         0.         0.29448518\n",
            "  0.         0.02870989 0.02385084 0.05006786 0.         0.05006786\n",
            "  0.         0.         0.         0.05741978 0.         0.\n",
            "  0.         0.         0.04380346 0.         0.11779407 0.\n",
            "  0.         0.23558815 0.         0.         0.         0.02177542\n",
            "  0.         0.         0.         0.         0.         0.17669111\n",
            "  0.08612967 0.         0.17669111 0.05006786 0.05006786 0.\n",
            "  0.         0.04380346 0.05741978 0.        ]\n",
            " [0.         0.         0.         0.         0.39914846 0.\n",
            "  0.         0.         0.09728425 0.         0.         0.\n",
            "  0.         0.         0.         0.         0.         0.\n",
            "  0.         0.         0.         0.         0.         0.\n",
            "  0.         0.         0.07421462 0.         0.         0.\n",
            "  0.         0.13289015 0.         0.         0.39914846 0.\n",
            "  0.         0.         0.         0.         0.         0.\n",
            "  0.04864212 0.         0.         0.         0.         0.\n",
            "  0.11851134 0.         0.         0.16965633 0.         0.03689331\n",
            "  0.         0.         0.08482816 0.         0.16965633 0.\n",
            "  0.39914846 0.04864212 0.04040962 0.         0.         0.08482816\n",
            "  0.         0.         0.         0.04864212 0.         0.\n",
            "  0.39914846 0.         0.07421462 0.         0.         0.16965633\n",
            "  0.         0.         0.         0.         0.         0.03689331\n",
            "  0.         0.39914846 0.         0.         0.         0.\n",
            "  0.04864212 0.         0.         0.         0.         0.\n",
            "  0.07421462 0.         0.04864212 0.16965633]\n",
            " [0.07568088 0.         0.         0.         0.         0.\n",
            "  0.         0.         0.08679379 0.         0.         0.26708029\n",
            "  0.         0.         0.17660118 0.         0.         0.\n",
            "  0.         0.         0.         0.         0.         0.\n",
            "  0.17805353 0.         0.         0.05886706 0.         0.\n",
            "  0.         0.15808027 0.         0.         0.         0.\n",
            "  0.         0.         0.07568088 0.         0.         0.\n",
            "  0.04339689 0.         0.         0.         0.         0.\n",
            "  0.         0.         0.         0.         0.05886706 0.03291499\n",
            "  0.07568088 0.19863549 0.         0.         0.         0.\n",
            "  0.         0.04339689 0.03605213 0.07568088 0.06621183 0.\n",
            "  0.44513382 0.         0.         0.04339689 0.         0.26708029\n",
            "  0.         0.         0.         0.26708029 0.         0.\n",
            "  0.         0.         0.         0.         0.         0.03291499\n",
            "  0.         0.         0.         0.         0.         0.\n",
            "  0.04339689 0.15136177 0.         0.22704265 0.15136177 0.53416058\n",
            "  0.         0.13242366 0.08679379 0.        ]\n",
            " [0.         0.         0.41489049 0.         0.         0.\n",
            "  0.         0.         0.06741403 0.         0.         0.\n",
            "  0.         0.41489049 0.27433754 0.         0.         0.\n",
            "  0.         0.         0.         0.         0.         0.\n",
            "  0.         0.         0.         0.         0.         0.\n",
            "  0.         0.06139165 0.         0.         0.         0.\n",
            "  0.         0.         0.         0.         0.10285543 0.\n",
            "  0.         0.         0.         0.         0.         0.27659366\n",
            "  0.08212354 0.         0.         0.         0.         0.05113113\n",
            "  0.         0.         0.         0.         0.         0.\n",
            "  0.         0.         0.05600445 0.         0.         0.\n",
            "  0.         0.         0.         0.         0.23512988 0.\n",
            "  0.         0.         0.         0.         0.         0.\n",
            "  0.41489049 0.         0.         0.         0.         0.05113113\n",
            "  0.23512988 0.         0.         0.41489049 0.         0.\n",
            "  0.         0.         0.         0.         0.         0.\n",
            "  0.10285543 0.         0.06741403 0.        ]]\n"
          ]
        }
      ],
      "source": [
        "\n",
        "# Step 3: Convert text to vectors using TfidfVectorizer\n",
        "tfidf_vectorizer = TfidfVectorizer(stop_words='english', max_features=100)\n",
        "tfidf_matrix = tfidf_vectorizer.fit_transform(texts)\n",
        "\n",
        "# Convert to NumPy array\n",
        "tfidf_array = tfidf_matrix.toarray()\n",
        "print(\"\\nTF-IDF Vectorizer Output:\")\n",
        "print(tfidf_array)"
      ]
    },
    {
      "cell_type": "markdown",
      "id": "df58ec92",
      "metadata": {
        "id": "df58ec92"
      },
      "source": [
        "# Performing Document Similarity Calculations and Normalization\n",
        "\n",
        "This code calculates the similarity between documents using the dot product and normalizes the vectors (L2 normalization). These steps are essential in text similarity and natural language processing tasks to ensure fair comparison and meaningful results.\n",
        "\n",
        "---\n",
        "\n",
        "### **Code Breakdown and Explanation**\n",
        "\n",
        "1. **Calculating Document Similarity (Dot Product):**\n",
        "   ```python\n",
        "   similarity = np.dot(tfidf_array, tfidf_array.T)\n",
        "   print(\"\\nDocument Similarity Matrix:\")\n",
        "   print(similarity)\n"
      ]
    },
    {
      "cell_type": "code",
      "execution_count": null,
      "id": "e02e9747",
      "metadata": {
        "id": "e02e9747",
        "outputId": "9395093c-69c7-463f-98b2-530606489156"
      },
      "outputs": [
        {
          "name": "stdout",
          "output_type": "stream",
          "text": [
            "\n",
            "Document Similarity Matrix:\n",
            "[[1.         0.06048141 0.05112233 0.10763092 0.2508243  0.01466869\n",
            "  0.23950312 0.15414819 0.17714466 0.21298711]\n",
            " [0.06048141 1.         0.10233421 0.06520311 0.05705295 0.00839411\n",
            "  0.02685082 0.03588957 0.10020096 0.07927729]\n",
            " [0.05112233 0.10233421 1.         0.02722636 0.04322585 0.02655998\n",
            "  0.02323478 0.02274272 0.09012434 0.0847858 ]\n",
            " [0.10763092 0.06520311 0.02722636 1.         0.03588607 0.01562154\n",
            "  0.05728415 0.10000013 0.0359989  0.01866861]\n",
            " [0.2508243  0.05705295 0.04322585 0.03588607 1.         0.01266906\n",
            "  0.06931459 0.11156344 0.08517334 0.03581638]\n",
            " [0.01466869 0.00839411 0.02655998 0.01562154 0.01266906 1.\n",
            "  0.02437375 0.0189021  0.04493436 0.02827869]\n",
            " [0.23950312 0.02685082 0.02323478 0.05728415 0.06931459 0.02437375\n",
            "  1.         0.0856651  0.08234642 0.03982951]\n",
            " [0.15414819 0.03588957 0.02274272 0.10000013 0.11156344 0.0189021\n",
            "  0.0856651  1.         0.04600202 0.04139769]\n",
            " [0.17714466 0.10020096 0.09012434 0.0359989  0.08517334 0.04493436\n",
            "  0.08234642 0.04600202 1.         0.07524042]\n",
            " [0.21298711 0.07927729 0.0847858  0.01866861 0.03581638 0.02827869\n",
            "  0.03982951 0.04139769 0.07524042 1.        ]]\n",
            "\n",
            "L2 Normalized Vectors:\n",
            "[[0.         0.         0.         0.         0.         0.\n",
            "  0.         0.         0.19474734 0.         0.         0.\n",
            "  0.         0.         0.         0.         0.33962455 0.\n",
            "  0.         0.         0.         0.         0.         0.\n",
            "  0.         0.         0.         0.         0.         0.\n",
            "  0.         0.53204922 0.         0.         0.         0.\n",
            "  0.         0.         0.         0.         0.29713135 0.\n",
            "  0.         0.         0.         0.         0.         0.\n",
            "  0.23724054 0.         0.         0.         0.26417106 0.14770889\n",
            "  0.         0.         0.         0.         0.         0.\n",
            "  0.         0.         0.16178705 0.         0.29713135 0.\n",
            "  0.         0.         0.         0.         0.33962455 0.\n",
            "  0.         0.         0.         0.         0.         0.\n",
            "  0.         0.         0.         0.         0.         0.14770889\n",
            "  0.         0.         0.         0.         0.         0.\n",
            "  0.19474734 0.         0.         0.         0.         0.\n",
            "  0.         0.         0.19474734 0.        ]\n",
            " [0.         0.         0.         0.         0.         0.\n",
            "  0.         0.         0.04237678 0.34773614 0.         0.\n",
            "  0.         0.         0.22993315 0.14780374 0.         0.\n",
            "  0.07390187 0.         0.         0.         0.17386807 0.26080211\n",
            "  0.         0.06465541 0.         0.         0.         0.\n",
            "  0.14780374 0.03859108 0.34773614 0.         0.         0.34773614\n",
            "  0.         0.         0.14780374 0.         0.         0.\n",
            "  0.04237678 0.         0.         0.         0.07390187 0.\n",
            "  0.         0.         0.         0.         0.         0.03214127\n",
            "  0.         0.         0.         0.34773614 0.         0.\n",
            "  0.         0.04237678 0.03520466 0.         0.         0.\n",
            "  0.         0.         0.         0.04237678 0.         0.\n",
            "  0.         0.         0.         0.         0.         0.\n",
            "  0.         0.         0.34773614 0.26080211 0.         0.03214127\n",
            "  0.         0.         0.22170562 0.         0.         0.\n",
            "  0.         0.14780374 0.         0.         0.         0.\n",
            "  0.         0.         0.08475355 0.07390187]\n",
            " [0.         0.         0.         0.         0.         0.42064267\n",
            "  0.         0.42064267 0.         0.         0.         0.\n",
            "  0.         0.         0.27814105 0.1191949  0.         0.\n",
            "  0.         0.         0.         0.         0.         0.\n",
            "  0.         0.10428145 0.         0.         0.5608569  0.\n",
            "  0.         0.         0.         0.         0.         0.\n",
            "  0.         0.         0.         0.         0.         0.\n",
            "  0.06834868 0.         0.         0.         0.         0.\n",
            "  0.         0.         0.         0.         0.         0.05184003\n",
            "  0.         0.10428145 0.         0.         0.         0.\n",
            "  0.         0.06834868 0.05678091 0.         0.         0.\n",
            "  0.         0.         0.         0.06834868 0.         0.\n",
            "  0.         0.         0.         0.         0.         0.\n",
            "  0.         0.         0.         0.         0.         0.05184003\n",
            "  0.         0.         0.         0.         0.42064267 0.\n",
            "  0.13669736 0.         0.         0.         0.         0.\n",
            "  0.         0.         0.         0.        ]\n",
            " [0.         0.         0.         0.         0.         0.\n",
            "  0.         0.         0.         0.         0.63831287 0.\n",
            "  0.         0.         0.         0.         0.         0.\n",
            "  0.18087475 0.         0.         0.3617495  0.         0.\n",
            "  0.         0.         0.         0.14069029 0.         0.\n",
            "  0.         0.09445163 0.         0.         0.         0.\n",
            "  0.         0.         0.         0.         0.         0.\n",
            "  0.         0.         0.         0.         0.         0.\n",
            "  0.         0.         0.         0.         0.         0.07866572\n",
            "  0.         0.         0.         0.         0.         0.\n",
            "  0.         0.         0.08616336 0.         0.         0.\n",
            "  0.         0.         0.42554191 0.         0.         0.\n",
            "  0.         0.         0.15824403 0.         0.         0.3617495\n",
            "  0.         0.         0.         0.         0.         0.07866572\n",
            "  0.         0.         0.18087475 0.         0.         0.\n",
            "  0.10371711 0.         0.         0.         0.         0.\n",
            "  0.         0.         0.         0.        ]\n",
            " [0.13008524 0.         0.         0.         0.         0.\n",
            "  0.         0.         0.07459341 0.         0.         0.\n",
            "  0.         0.         0.         0.         0.         0.\n",
            "  0.         0.30605001 0.         0.         0.         0.\n",
            "  0.         0.11380921 0.         0.         0.         0.61210003\n",
            "  0.13008524 0.20378901 0.         0.         0.         0.\n",
            "  0.         0.         0.         0.         0.         0.\n",
            "  0.07459341 0.         0.         0.         0.         0.\n",
            "  0.09086944 0.         0.30605001 0.         0.10118454 0.05657644\n",
            "  0.         0.         0.         0.         0.26017047 0.\n",
            "  0.         0.07459341 0.         0.         0.11380921 0.\n",
            "  0.         0.45907502 0.         0.07459341 0.         0.\n",
            "  0.         0.         0.         0.         0.         0.\n",
            "  0.         0.         0.         0.         0.         0.05657644\n",
            "  0.         0.         0.         0.         0.         0.\n",
            "  0.07459341 0.         0.         0.         0.         0.\n",
            "  0.         0.         0.07459341 0.        ]\n",
            " [0.         0.41973156 0.         0.07136203 0.         0.\n",
            "  0.         0.         0.         0.         0.         0.\n",
            "  0.         0.         0.         0.         0.         0.\n",
            "  0.         0.         0.         0.         0.         0.\n",
            "  0.         0.         0.06243335 0.05550772 0.         0.\n",
            "  0.         0.         0.         0.50367787 0.         0.\n",
            "  0.         0.         0.         0.25183893 0.         0.\n",
            "  0.04092038 0.25183893 0.16789262 0.         0.         0.\n",
            "  0.         0.         0.         0.         0.         0.03103665\n",
            "  0.         0.12486669 0.         0.         0.         0.\n",
            "  0.         0.04092038 0.03399476 0.         0.         0.\n",
            "  0.         0.         0.         0.04092038 0.         0.\n",
            "  0.         0.50367787 0.         0.         0.         0.\n",
            "  0.         0.         0.         0.         0.33578525 0.03103665\n",
            "  0.07136203 0.         0.         0.         0.         0.\n",
            "  0.         0.         0.         0.         0.         0.\n",
            "  0.06243335 0.06243335 0.         0.        ]\n",
            " [0.         0.         0.         0.10013572 0.         0.\n",
            "  0.17669111 0.         0.05741978 0.         0.         0.\n",
            "  0.23558815 0.         0.         0.         0.15020359 0.47117629\n",
            "  0.         0.         0.11779407 0.05006786 0.         0.\n",
            "  0.         0.         0.08760693 0.03894442 0.         0.\n",
            "  0.         0.13072557 0.         0.         0.         0.\n",
            "  0.17669111 0.17669111 0.         0.         0.08760693 0.23558815\n",
            "  0.02870989 0.         0.         0.11779407 0.10013572 0.\n",
            "  0.13989715 0.41227926 0.         0.05006786 0.03894442 0.02177542\n",
            "  0.10013572 0.         0.10013572 0.         0.         0.29448518\n",
            "  0.         0.02870989 0.02385084 0.05006786 0.         0.05006786\n",
            "  0.         0.         0.         0.05741978 0.         0.\n",
            "  0.         0.         0.04380346 0.         0.11779407 0.\n",
            "  0.         0.23558815 0.         0.         0.         0.02177542\n",
            "  0.         0.         0.         0.         0.         0.17669111\n",
            "  0.08612967 0.         0.17669111 0.05006786 0.05006786 0.\n",
            "  0.         0.04380346 0.05741978 0.        ]\n",
            " [0.         0.         0.         0.         0.39914846 0.\n",
            "  0.         0.         0.09728425 0.         0.         0.\n",
            "  0.         0.         0.         0.         0.         0.\n",
            "  0.         0.         0.         0.         0.         0.\n",
            "  0.         0.         0.07421462 0.         0.         0.\n",
            "  0.         0.13289015 0.         0.         0.39914846 0.\n",
            "  0.         0.         0.         0.         0.         0.\n",
            "  0.04864212 0.         0.         0.         0.         0.\n",
            "  0.11851134 0.         0.         0.16965633 0.         0.03689331\n",
            "  0.         0.         0.08482816 0.         0.16965633 0.\n",
            "  0.39914846 0.04864212 0.04040962 0.         0.         0.08482816\n",
            "  0.         0.         0.         0.04864212 0.         0.\n",
            "  0.39914846 0.         0.07421462 0.         0.         0.16965633\n",
            "  0.         0.         0.         0.         0.         0.03689331\n",
            "  0.         0.39914846 0.         0.         0.         0.\n",
            "  0.04864212 0.         0.         0.         0.         0.\n",
            "  0.07421462 0.         0.04864212 0.16965633]\n",
            " [0.07568088 0.         0.         0.         0.         0.\n",
            "  0.         0.         0.08679379 0.         0.         0.26708029\n",
            "  0.         0.         0.17660118 0.         0.         0.\n",
            "  0.         0.         0.         0.         0.         0.\n",
            "  0.17805353 0.         0.         0.05886706 0.         0.\n",
            "  0.         0.15808027 0.         0.         0.         0.\n",
            "  0.         0.         0.07568088 0.         0.         0.\n",
            "  0.04339689 0.         0.         0.         0.         0.\n",
            "  0.         0.         0.         0.         0.05886706 0.03291499\n",
            "  0.07568088 0.19863549 0.         0.         0.         0.\n",
            "  0.         0.04339689 0.03605213 0.07568088 0.06621183 0.\n",
            "  0.44513382 0.         0.         0.04339689 0.         0.26708029\n",
            "  0.         0.         0.         0.26708029 0.         0.\n",
            "  0.         0.         0.         0.         0.         0.03291499\n",
            "  0.         0.         0.         0.         0.         0.\n",
            "  0.04339689 0.15136177 0.         0.22704265 0.15136177 0.53416058\n",
            "  0.         0.13242366 0.08679379 0.        ]\n",
            " [0.         0.         0.41489049 0.         0.         0.\n",
            "  0.         0.         0.06741403 0.         0.         0.\n",
            "  0.         0.41489049 0.27433754 0.         0.         0.\n",
            "  0.         0.         0.         0.         0.         0.\n",
            "  0.         0.         0.         0.         0.         0.\n",
            "  0.         0.06139165 0.         0.         0.         0.\n",
            "  0.         0.         0.         0.         0.10285543 0.\n",
            "  0.         0.         0.         0.         0.         0.27659366\n",
            "  0.08212354 0.         0.         0.         0.         0.05113113\n",
            "  0.         0.         0.         0.         0.         0.\n",
            "  0.         0.         0.05600445 0.         0.         0.\n",
            "  0.         0.         0.         0.         0.23512988 0.\n",
            "  0.         0.         0.         0.         0.         0.\n",
            "  0.41489049 0.         0.         0.         0.         0.05113113\n",
            "  0.23512988 0.         0.         0.41489049 0.         0.\n",
            "  0.         0.         0.         0.         0.         0.\n",
            "  0.10285543 0.         0.06741403 0.        ]]\n"
          ]
        }
      ],
      "source": [
        "\n",
        "# Step 4: Perform NumPy operations\n",
        "# Calculate document similarity using dot product\n",
        "similarity = np.dot(tfidf_array, tfidf_array.T)\n",
        "print(\"\\nDocument Similarity Matrix:\")\n",
        "print(similarity)\n",
        "\n",
        "# Normalize the vectors (L2 normalization)\n",
        "norms = np.linalg.norm(tfidf_array, axis=1, keepdims=True)\n",
        "normalized_vectors = tfidf_array / norms\n",
        "print(\"\\nL2 Normalized Vectors:\")\n",
        "print(normalized_vectors)\n"
      ]
    },
    {
      "cell_type": "markdown",
      "id": "1ab5b267",
      "metadata": {
        "id": "1ab5b267"
      },
      "source": [
        "# Visualizing the Similarity Matrix as a Heatmap\n",
        "\n",
        "This code snippet visualizes the pairwise document similarity matrix using a heatmap. A heatmap provides an intuitive way to analyze the relationships between documents in a corpus by representing similarity scores as colors.\n",
        "\n",
        "---\n",
        "\n",
        "### **Code Breakdown and Explanation**\n",
        "\n",
        "1. **Similarity Matrix (`similarity`):**\n",
        "   - The variable `similarity` is a 2D matrix (e.g., cosine similarity matrix) where:\n",
        "     - Each row and column represents a document in the corpus.\n",
        "     - Each value `similarity[i][j]` represents the similarity score between Document `i` and Document `j`.\n",
        "\n",
        "2. **Figure Setup:**\n",
        "   ```python\n",
        "   plt.figure(figsize=(8, 6))\n"
      ]
    },
    {
      "cell_type": "code",
      "execution_count": null,
      "id": "bce427be",
      "metadata": {
        "id": "bce427be",
        "outputId": "a9586967-1fb9-43fa-ff1c-eefdc8dbea42"
      },
      "outputs": [
        {
          "data": {
            "image/png": "[encoded data removed]",
            "text/plain": [
              "<Figure size 800x600 with 2 Axes>"
            ]
          },
          "metadata": {},
          "output_type": "display_data"
        }
      ],
      "source": [
        "\n",
        "import matplotlib.pyplot as plt\n",
        "import seaborn as sns\n",
        "# Step 5: Plot similarity matrix as a heatmap\n",
        "plt.figure(figsize=(8, 6))\n",
        "sns.heatmap(similarity, annot=True, cmap='YlGnBu', fmt='.2f', cbar=True)\n",
        "plt.title(\"Document Similarity Matrix (TF-IDF)\")\n",
        "plt.xlabel(\"Documents\")\n",
        "plt.ylabel(\"Documents\")\n",
        "plt.show()"
      ]
    },
    {
      "cell_type": "markdown",
      "id": "6e39f1e9",
      "metadata": {
        "id": "6e39f1e9"
      },
      "source": [
        "# Evaluating Similarity Between a Query Document and a Corpus\n",
        "\n",
        "This code is a function designed to evaluate the similarity of a given **query document** with a collection of documents (corpus). It uses a text representation model, such as TF-IDF, to compute similarity scores.\n",
        "\n",
        "---\n",
        "\n",
        "### **Code Explanation**\n",
        "\n",
        "1. **Function Definition:**\n",
        "   ```python\n",
        "   def evaluate_similarity(query_document, corpus):\n",
        "       # Combine the query document with the corpus\n",
        "       documents = corpus + [query_document]\n"
      ]
    },
    {
      "cell_type": "code",
      "execution_count": null,
      "id": "b36a71a6",
      "metadata": {
        "id": "b36a71a6"
      },
      "outputs": [],
      "source": [
        "# Function to evaluate similarity\n",
        "def evaluate_similarity(query_document, corpus):\n",
        "    # Combine the query document with the corpus\n",
        "    documents = corpus + [query_document]\n",
        "\n",
        "# Pass your query document to the function\n",
        "query_document = \"NASA is working on developing new technologies for space exploration.\"\n",
        "evaluate_similarity(query_document, texts)\n",
        "\n",
        "\n",
        "\n"
      ]
    },
    {
      "cell_type": "markdown",
      "source": [
        "# Cosine Similarity Between Documents\n",
        "\n",
        "Cosine similarity is a metric used to measure how similar two vectors are in a multi-dimensional space. It is widely used in text processing to compare the similarity of documents represented as vectors.\n",
        "\n",
        "---\n",
        "\n",
        "**Code Explanation:**\n",
        "\n",
        "1. **Cosine Similarity:**\n",
        "   ```python\n",
        "   cosine_similarities = cosine_similarity(tfidf_matrix[-1], tfidf_matrix[:-1])\n"
      ],
      "metadata": {
        "id": "SlNScpmtiGFw"
      },
      "id": "SlNScpmtiGFw"
    },
    {
      "cell_type": "code",
      "execution_count": null,
      "id": "fa23659d",
      "metadata": {
        "id": "fa23659d",
        "outputId": "2d5ebb9f-470c-44e7-c6b5-2026cc93cf95"
      },
      "outputs": [
        {
          "name": "stdout",
          "output_type": "stream",
          "text": [
            "Similarity between the query document and each document in the corpus:\n",
            "Document 1 Similarity: 0.21\n",
            "Document 2 Similarity: 0.08\n",
            "Document 3 Similarity: 0.08\n",
            "Document 4 Similarity: 0.02\n",
            "Document 5 Similarity: 0.04\n",
            "Document 6 Similarity: 0.03\n",
            "Document 7 Similarity: 0.04\n",
            "Document 8 Similarity: 0.04\n",
            "Document 9 Similarity: 0.08\n"
          ]
        }
      ],
      "source": [
        "from sklearn.metrics.pairwise import cosine_similarity\n",
        "# Compute cosine similarity between the query document and the corpus\n",
        "cosine_similarities = cosine_similarity(tfidf_matrix[-1], tfidf_matrix[:-1])\n",
        "\n",
        "# Display the similarity results\n",
        "print(\"Similarity between the query document and each document in the corpus:\")\n",
        "for i, score in enumerate(cosine_similarities[0]):\n",
        "    print(f\"Document {i+1} Similarity: {score:.2f}\")"
      ]
    },
    {
      "cell_type": "markdown",
      "id": "77690963",
      "metadata": {
        "id": "77690963"
      },
      "source": [
        "# Scalar Broadcasting in NumPy\n",
        "\n",
        "In this example, we are adding a scalar (a single value) to every element of a 2D array using NumPy. This operation demonstrates **scalar broadcasting**, a powerful feature of NumPy.\n",
        "\n",
        "---\n",
        "\n",
        "**Step-by-Step Explanation:**\n",
        "\n",
        "1. **Array Definition (`arr`):**\n",
        "   - The array `arr` is a 2D NumPy array:\n",
        "     ```\n",
        "     [[1, 2, 3],\n",
        "      [4, 5, 6]]\n",
        "     ```\n",
        "   - Shape of the array: `(2, 3)` (2 rows and 3 columns).\n",
        "\n",
        "2. **Scalar Definition (`scalar`):**\n",
        "   - The scalar `10` is a single value with no dimensions (shape `()`).\n",
        "\n",
        "3. **Broadcasting in Action (`arr + scalar`):**\n",
        "   - Broadcasting allows the scalar to be virtually stretched to match the shape of the array. It behaves as if the scalar were a 2D array with the same shape as `arr`, filled with the value `10`:\n",
        "     ```\n",
        "     [[10, 10, 10],\n",
        "      [10, 10, 10]]\n",
        "     ```\n",
        "   - The addition is then applied element-wise:\n",
        "     ```\n",
        "     [[1+10, 2+10, 3+10],\n",
        "      [4+10, 5+10, 6+10]]\n",
        "     =\n",
        "     [[11, 12, 13],\n",
        "      [14, 15, 16]]\n",
        "     ```\n",
        "\n",
        "---\n",
        "\n",
        "**Key Points about Scalar Broadcasting:**\n",
        "\n",
        "- **Memory Efficiency:**\n",
        "  - NumPy does not create a temporary array to store the stretched scalar. Instead, the operation is computed efficiently without additional memory usage.\n",
        "\n",
        "- **Element-wise Operation:**\n",
        "  - The scalar addition is applied to each element of the array individually.\n",
        "\n",
        "- **Simplicity and Readability:**\n",
        "  - Broadcasting eliminates the need to manually reshape or duplicate arrays for operations, making code concise and easier to understand."
      ]
    },
    {
      "cell_type": "code",
      "execution_count": null,
      "id": "a0408b3c",
      "metadata": {
        "id": "a0408b3c",
        "outputId": "300be583-d06a-4785-b642-94c601b057ed"
      },
      "outputs": [
        {
          "name": "stdout",
          "output_type": "stream",
          "text": [
            "Scalar Broadcasting:\n",
            " [[11 12 13]\n",
            " [14 15 16]]\n"
          ]
        }
      ],
      "source": [
        "import numpy as np\n",
        "\n",
        "# Scalar addition\n",
        "arr = np.array([[1, 2, 3], [4, 5, 6]])\n",
        "scalar = 10\n",
        "result = arr + scalar  # Add scalar to each element\n",
        "print(\"Scalar Broadcasting:\\n\", result)\n"
      ]
    },
    {
      "cell_type": "markdown",
      "id": "53cff6ef",
      "metadata": {
        "id": "53cff6ef"
      },
      "source": [
        "# Broadcasting in NumPy: Adding a 1D Array to a 2D Array\n",
        "\n",
        "Broadcasting in NumPy allows arrays with different shapes to be combined in element-wise operations.\n"
      ]
    },
    {
      "cell_type": "code",
      "execution_count": null,
      "id": "1b5036de",
      "metadata": {
        "id": "1b5036de",
        "outputId": "99b41b66-a2cf-499f-d4ff-0c79fd77d85c"
      },
      "outputs": [
        {
          "name": "stdout",
          "output_type": "stream",
          "text": [
            "Broadcasting with Different Shapes:\n",
            " [[11 22 33]\n",
            " [14 25 36]]\n"
          ]
        }
      ],
      "source": [
        "# 1D array added to 2D array\n",
        "arr_2d = np.array([[1, 2, 3], [4, 5, 6]])\n",
        "arr_1d = np.array([10, 20, 30])\n",
        "result = arr_2d + arr_1d  # Adds corresponding elements row-wise\n",
        "print(\"Broadcasting with Different Shapes:\\n\", result)\n"
      ]
    },
    {
      "cell_type": "markdown",
      "id": "387d0c6a",
      "metadata": {
        "id": "387d0c6a"
      },
      "source": [
        "# Broadcasting in NumPy: 3D and 2D Arrays\n",
        "\n",
        "Broadcasting in NumPy allows arrays with different dimensions to be combined in element-wise operations by automatically expanding the smaller array to match the shape of the larger array.\n",
        "\n",
        "---\n",
        "\n",
        "**Code Breakdown and Explanation:**\n",
        "\n",
        "1. **Creating a 3D Array (`arr_3d`):**\n",
        "   ```python\n",
        "   arr_3d = np.array([[[1, 2, 3], [4, 5, 6]],\n",
        "                      [[7, 8, 9], [10, 11, 12]]])\n"
      ]
    },
    {
      "cell_type": "code",
      "execution_count": null,
      "id": "68e94eb2",
      "metadata": {
        "id": "68e94eb2",
        "outputId": "00a9094a-a12a-40b7-ecb5-90161fc563d4"
      },
      "outputs": [
        {
          "name": "stdout",
          "output_type": "stream",
          "text": [
            "3D and 2D Broadcasting:\n",
            " [[[11 22 33]\n",
            "  [44 55 66]]\n",
            "\n",
            " [[17 28 39]\n",
            "  [50 61 72]]]\n"
          ]
        }
      ],
      "source": [
        "# 3D array and 2D array broadcasting\n",
        "arr_3d = np.array([[[1, 2, 3], [4, 5, 6]], [[7, 8, 9], [10, 11, 12]]])\n",
        "arr_2d = np.array([[10, 20, 30], [40, 50, 60]])\n",
        "\n",
        "result = arr_3d + arr_2d  # Adds the 2D array to each \"layer\" of the 3D array\n",
        "print(\"3D and 2D Broadcasting:\\n\", result)\n"
      ]
    },
    {
      "cell_type": "markdown",
      "id": "2be7add5",
      "metadata": {
        "id": "2be7add5"
      },
      "source": [
        "# Broadcasting in NumPy: Column-wise Operations\n",
        "\n",
        "Broadcasting is a powerful feature in NumPy that allows operations to be performed on arrays with different shapes. NumPy automatically expands the smaller array to match the dimensions of the larger array during element-wise operations.\n",
        "\n",
        "**Step-by-Step Explanation of the Code:**\n",
        "\n",
        "1. **Column-wise Sum:**\n",
        "   ```python\n",
        "   col_sum = arr.sum(axis=0)\n"
      ]
    },
    {
      "cell_type": "code",
      "execution_count": null,
      "id": "cf828fb9",
      "metadata": {
        "id": "cf828fb9",
        "outputId": "ef142e5a-2534-493e-ee03-720f6f3ac534"
      },
      "outputs": [
        {
          "name": "stdout",
          "output_type": "stream",
          "text": [
            "Column-wise Sum:\n",
            " [5 7 9]\n",
            "Broadcasted Subtraction:\n",
            " [[-4 -5 -6]\n",
            " [-1 -2 -3]]\n"
          ]
        }
      ],
      "source": [
        "arr = np.array([[1, 2, 3], [4, 5, 6]])\n",
        "\n",
        "# Column-wise sum (broadcasted across rows)\n",
        "col_sum = arr.sum(axis=0)\n",
        "print(\"Column-wise Sum:\\n\", col_sum)\n",
        "\n",
        "# Broadcast subtraction\n",
        "result = arr - col_sum\n",
        "print(\"Broadcasted Subtraction:\\n\", result)\n"
      ]
    }
  ],
  "metadata": {
    "kernelspec": {
      "display_name": "Python 3 (ipykernel)",
      "language": "python",
      "name": "python3"
    },
    "language_info": {
      "codemirror_mode": {
        "name": "ipython",
        "version": 3
      },
      "file_extension": ".py",
      "mimetype": "text/x-python",
      "name": "python",
      "nbconvert_exporter": "python",
      "pygments_lexer": "ipython3",
      "version": "3.12.4"
    },
    "colab": {
      "provenance": []
    }
  },
  "nbformat": 4,
  "nbformat_minor": 5
}