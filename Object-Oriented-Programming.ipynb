{
  "cells": [
    {
      "cell_type": "markdown",
      "metadata": {
        "collapsed": true,
        "id": "rzJU55rDxbC0"
      },
      "source": [
        "# Object Oriented Programming\n",
        "\n",
        "Object Oriented Programming (OOP) tends to be one of the major obstacles for beginners when they are first starting to learn Python.\n",
        "\n",
        "There are many, many tutorials and lessons covering OOP so feel free to Google search other lessons, and I have also put some links to other useful tutorials online at the bottom of this Notebook.\n",
        "\n",
        "For this lesson we will construct our knowledge of OOP in Python by building on the following topics:\n",
        "\n",
        "* Objects\n",
        "* Using the *class* keyword\n",
        "* Creating class attributes\n",
        "* Creating methods in a class\n",
        "* Learning about Inheritance\n",
        "* Learning about Polymorphism\n",
        "* Learning about Special Methods for classes\n",
        "\n",
        "Lets start the lesson by remembering about the Basic Python Objects. For example:"
      ]
    },
    {
      "cell_type": "markdown",
      "source": [
        "### Creating a simple list in Python\n",
        "\n",
        "Here, we create a list called `lst` containing three numbers: 1, 2, and 3.\n",
        "\n",
        "A **list** is an ordered collection of items, and it can store multiple values.\n",
        "Lists are very flexible and commonly used in Python.\n"
      ],
      "metadata": {
        "id": "oSR1Mz-r318H"
      }
    },
    {
      "cell_type": "code",
      "execution_count": null,
      "metadata": {
        "collapsed": true,
        "id": "9GgN5FMGxbC2"
      },
      "outputs": [],
      "source": [
        "lst = [1,2,3]"
      ]
    },
    {
      "cell_type": "markdown",
      "metadata": {
        "id": "J83tlIzixbC2"
      },
      "source": [
        "### Counting occurrences in a list\n",
        "\n",
        "Lists have built-in functions called **methods**.\n",
        "\n",
        "The `.count()` method tells us how many times a specific value appears in the list.\n",
        "\n",
        "Here, we check how many times the number `2` appears in our list `lst`.\n"
      ]
    },
    {
      "cell_type": "code",
      "execution_count": null,
      "metadata": {
        "colab": {
          "base_uri": "https://localhost:8080/"
        },
        "id": "1gcpZqjpxbC3",
        "outputId": "c02ba029-45b8-4a3b-f990-2555a00b4875"
      },
      "outputs": [
        {
          "output_type": "execute_result",
          "data": {
            "text/plain": [
              "1"
            ]
          },
          "metadata": {},
          "execution_count": 2
        }
      ],
      "source": [
        "lst.count(2)"
      ]
    },
    {
      "cell_type": "markdown",
      "metadata": {
        "id": "lKgIabdoxbC4"
      },
      "source": [
        "What we will basically be doing in this lecture is exploring how we could create an Object type like a list. We've already learned about how to create functions. So let's explore Objects in general:\n",
        "\n",
        "## Objects"
      ]
    },
    {
      "cell_type": "markdown",
      "source": [
        "### Understanding Python data types with `type()`\n",
        "\n",
        "In Python, **everything is an object**.\n",
        "\n",
        "We can use the `type()` function to check the data type (or class) of any value.\n",
        "\n",
        "- `1` is an integer (`int`)\n",
        "- `[]` is a list (`list`)\n",
        "- `()` is a tuple (`tuple`)\n",
        "- `{}` is a dictionary (`dict`)\n",
        "\n",
        "Knowing data types helps us understand how Python treats different values.\n"
      ],
      "metadata": {
        "id": "kQsQ8X2X3_Km"
      }
    },
    {
      "cell_type": "code",
      "execution_count": null,
      "metadata": {
        "colab": {
          "base_uri": "https://localhost:8080/"
        },
        "id": "9kVqBOLTxbC4",
        "outputId": "4c7a9f0a-27ca-4ea4-fc73-157229d8a12a"
      },
      "outputs": [
        {
          "output_type": "stream",
          "name": "stdout",
          "text": [
            "<class 'int'>\n",
            "<class 'list'>\n",
            "<class 'tuple'>\n",
            "<class 'dict'>\n"
          ]
        }
      ],
      "source": [
        "print(type(1))\n",
        "print(type([]))\n",
        "print(type(()))\n",
        "print(type({}))"
      ]
    },
    {
      "cell_type": "markdown",
      "metadata": {
        "id": "fD0uqRkwxbC4"
      },
      "source": [
        "### What is a Class?\n",
        "\n",
        "A **class** is a blueprint to create your own objects.\n",
        "\n",
        "Objects can have **attributes** (data) and **methods** (functions).\n",
        "\n",
        "You define a class using the `class` keyword.\n",
        "\n",
        "Here's a simple empty class example:\n"
      ]
    },
    {
      "cell_type": "markdown",
      "source": [
        "### Creating a New Object Type (Class) and an Instance\n",
        "\n",
        "- We define a new class called `Sample` using the `class` keyword.\n",
        "- The `pass` statement means the class is empty and has no attributes or methods yet.\n",
        "- Then, we create an **instance** (an object) of the class by calling `Sample()`, and assign it to the variable `x`.\n",
        "- Finally, we print the type of `x`. Since `x` is an object of class `Sample`, `type(x)` will show `<class '__main__.Sample'>`, indicating that `x` is an instance of the `Sample` class.\n",
        "\n",
        "This shows how you can create your own custom object types in Python.\n"
      ],
      "metadata": {
        "id": "09varm0z4Q4M"
      }
    },
    {
      "cell_type": "code",
      "execution_count": null,
      "metadata": {
        "colab": {
          "base_uri": "https://localhost:8080/"
        },
        "id": "Ez6FXA1kxbC4",
        "outputId": "b6a9aa0e-afff-43fc-b95e-d91f08982ffd"
      },
      "outputs": [
        {
          "output_type": "stream",
          "name": "stdout",
          "text": [
            "<class '__main__.Sample'>\n"
          ]
        }
      ],
      "source": [
        "# Create a new object type called Sample\n",
        "class Sample:\n",
        "    pass\n",
        "\n",
        "# Instance of Sample\n",
        "x = Sample()\n",
        "\n",
        "print(type(x))"
      ]
    },
    {
      "cell_type": "markdown",
      "metadata": {
        "id": "4Xop_XumxbC5"
      },
      "source": [
        "### Defining a Class with an Attribute and Creating Objects\n",
        "\n",
        "- We define a class named `Dog`.\n",
        "- The `__init__` method is the **constructor** that runs when we create a new `Dog` object.\n",
        "- It takes a parameter `breed` and assigns it to the object's attribute `self.breed`.\n",
        "- `self.breed = breed` stores the breed information inside each dog object.\n",
        "- We then create two dog objects:\n",
        "  - `sam` is a Dog with breed `'Lab'`.\n",
        "  - `frank` is a Dog with breed `'Huskie'`.\n",
        "  \n",
        "Each object has its own `breed` attribute storing its specific breed.\n"
      ]
    },
    {
      "cell_type": "code",
      "execution_count": null,
      "metadata": {
        "collapsed": true,
        "id": "MBC965jNxbC5"
      },
      "outputs": [],
      "source": [
        "class Dog:\n",
        "    def __init__(self,breed):\n",
        "        self.breed = breed\n",
        "\n",
        "sam = Dog(breed='Lab')\n",
        "frank = Dog(breed='Huskie')"
      ]
    },
    {
      "cell_type": "markdown",
      "metadata": {
        "id": "FdPdDNmpxbC5"
      },
      "source": [
        "Lets break down what we have above.The special method\n",
        "\n",
        "    __init__()\n",
        "is called automatically right after the object has been created:\n",
        "\n",
        "    def __init__(self, breed):\n",
        "Each attribute in a class definition begins with a reference to the instance object. It is by convention named self. The breed is the argument. The value is passed during the class instantiation.\n",
        "\n",
        "     self.breed = breed"
      ]
    },
    {
      "cell_type": "markdown",
      "metadata": {
        "id": "eBWLjz4ZxbC5"
      },
      "source": [
        "Now we have created two instances of the Dog class. With two breed types, we can then access these attributes like this:"
      ]
    },
    {
      "cell_type": "code",
      "execution_count": null,
      "metadata": {
        "colab": {
          "base_uri": "https://localhost:8080/",
          "height": 35
        },
        "id": "T5L_QdCjxbC5",
        "outputId": "f5c89b0a-f5d0-414a-b408-7da9f0e677f6"
      },
      "outputs": [
        {
          "output_type": "execute_result",
          "data": {
            "text/plain": [
              "'Lab'"
            ],
            "application/vnd.google.colaboratory.intrinsic+json": {
              "type": "string"
            }
          },
          "metadata": {},
          "execution_count": 6
        }
      ],
      "source": [
        "sam.breed"
      ]
    },
    {
      "cell_type": "code",
      "execution_count": null,
      "metadata": {
        "colab": {
          "base_uri": "https://localhost:8080/",
          "height": 35
        },
        "id": "pzPUTUn6xbC5",
        "outputId": "788304b0-ea34-491e-8c2e-0211e5b05696"
      },
      "outputs": [
        {
          "output_type": "execute_result",
          "data": {
            "text/plain": [
              "'Huskie'"
            ],
            "application/vnd.google.colaboratory.intrinsic+json": {
              "type": "string"
            }
          },
          "metadata": {},
          "execution_count": 7
        }
      ],
      "source": [
        "frank.breed"
      ]
    },
    {
      "cell_type": "markdown",
      "metadata": {
        "id": "pU6DtUdGxbC6"
      },
      "source": [
        "Note how we don't have any parentheses after breed; this is because it is an attribute and doesn't take any arguments.\n",
        "\n",
        "In Python there are also *class object attributes*. These Class Object Attributes are the same for any instance of the class. For example, we could create the attribute *species* for the Dog class. Dogs, regardless of their breed, name, or other attributes, will always be mammals. We apply this logic in the following manner:"
      ]
    },
    {
      "cell_type": "code",
      "execution_count": null,
      "metadata": {
        "collapsed": true,
        "id": "HB_0SptLxbC6"
      },
      "outputs": [],
      "source": [
        "class Dog:\n",
        "\n",
        "    # Class Object Attribute\n",
        "    species = 'mammal'\n",
        "\n",
        "    def __init__(self,breed,name):\n",
        "        self.breed = breed\n",
        "        self.name = name"
      ]
    },
    {
      "cell_type": "code",
      "execution_count": null,
      "metadata": {
        "collapsed": true,
        "id": "N453gAe2xbC6"
      },
      "outputs": [],
      "source": [
        "sam = Dog('Lab','Sam')"
      ]
    },
    {
      "cell_type": "code",
      "execution_count": null,
      "metadata": {
        "colab": {
          "base_uri": "https://localhost:8080/",
          "height": 35
        },
        "id": "4UIK_LyUxbC6",
        "outputId": "1fa676da-1f37-4c64-eac4-fbe00c8a5529"
      },
      "outputs": [
        {
          "output_type": "execute_result",
          "data": {
            "text/plain": [
              "'Sam'"
            ],
            "application/vnd.google.colaboratory.intrinsic+json": {
              "type": "string"
            }
          },
          "metadata": {},
          "execution_count": 10
        }
      ],
      "source": [
        "sam.name"
      ]
    },
    {
      "cell_type": "markdown",
      "metadata": {
        "id": "Q9eUEo83xbC6"
      },
      "source": [
        "Note that the Class Object Attribute is defined outside of any methods in the class. Also by convention, we place them first before the init."
      ]
    },
    {
      "cell_type": "code",
      "execution_count": null,
      "metadata": {
        "colab": {
          "base_uri": "https://localhost:8080/",
          "height": 35
        },
        "id": "ZcNo0N04xbC6",
        "outputId": "fa7de2e8-1154-4f15-b117-bcfe3bb8ced2"
      },
      "outputs": [
        {
          "output_type": "execute_result",
          "data": {
            "text/plain": [
              "'mammal'"
            ],
            "application/vnd.google.colaboratory.intrinsic+json": {
              "type": "string"
            }
          },
          "metadata": {},
          "execution_count": 11
        }
      ],
      "source": [
        "sam.species"
      ]
    },
    {
      "cell_type": "markdown",
      "metadata": {
        "id": "Tnpoa5OFxbC6"
      },
      "source": [
        "## Methods\n",
        "\n",
        "Methods are functions defined inside the body of a class. They are used to perform operations with the attributes of our objects. Methods are a key concept of the OOP paradigm. They are essential to dividing responsibilities in programming, especially in large applications.\n",
        "\n",
        "You can basically think of methods as functions acting on an Object that take the Object itself into account through its *self* argument.\n",
        "\n",
        "Let's go through an example of creating a Circle class:"
      ]
    },
    {
      "cell_type": "code",
      "execution_count": null,
      "metadata": {
        "colab": {
          "base_uri": "https://localhost:8080/"
        },
        "id": "aAYAteK-xbC6",
        "outputId": "d2e8d05d-6e15-4db3-eba6-2b9c6b2102c1"
      },
      "outputs": [
        {
          "output_type": "stream",
          "name": "stdout",
          "text": [
            "Radius is:  1\n",
            "Area is:  3.14\n",
            "Circumference is:  6.28\n"
          ]
        }
      ],
      "source": [
        "class Circle:\n",
        "    pi = 3.14\n",
        "\n",
        "    # Circle gets instantiated with a radius (default is 1)\n",
        "    def __init__(self, radius=1):\n",
        "        self.radius = radius\n",
        "        self.area = radius * radius * Circle.pi\n",
        "\n",
        "    # Method for resetting Radius\n",
        "    def setRadius(self, new_radius):\n",
        "        self.radius = new_radius\n",
        "        self.area = new_radius * new_radius * self.pi\n",
        "\n",
        "    # Method for getting Circumference\n",
        "    def getCircumference(self):\n",
        "        return self.radius * self.pi * 2\n",
        "\n",
        "\n",
        "c = Circle()\n",
        "\n",
        "print('Radius is: ',c.radius)\n",
        "print('Area is: ',c.area)\n",
        "print('Circumference is: ',c.getCircumference())"
      ]
    },
    {
      "cell_type": "markdown",
      "metadata": {
        "id": "1d26RDJfxbC6"
      },
      "source": [
        "In the \\__init__ method above, in order to calculate the area attribute, we had to call Circle.pi. This is because the object does not yet have its own .pi attribute, so we call the Class Object Attribute pi instead.<br>\n",
        "In the setRadius method, however, we'll be working with an existing Circle object that does have its own pi attribute. Here we can use either Circle.pi or self.pi.<br><br>\n",
        "Now let's change the radius and see how that affects our Circle object:"
      ]
    },
    {
      "cell_type": "code",
      "execution_count": null,
      "metadata": {
        "colab": {
          "base_uri": "https://localhost:8080/"
        },
        "id": "JCik8mhVxbC7",
        "outputId": "7dac58de-f2f5-46df-95ed-dbc6664d0a7b"
      },
      "outputs": [
        {
          "output_type": "stream",
          "name": "stdout",
          "text": [
            "Radius is:  2\n",
            "Area is:  12.56\n",
            "Circumference is:  12.56\n"
          ]
        }
      ],
      "source": [
        "c.setRadius(2)\n",
        "\n",
        "print('Radius is: ',c.radius)\n",
        "print('Area is: ',c.area)\n",
        "print('Circumference is: ',c.getCircumference())"
      ]
    },
    {
      "cell_type": "markdown",
      "metadata": {
        "id": "bJIbSgKAxbC7"
      },
      "source": [
        "Great! Notice how we used self. notation to reference attributes of the class within the method calls. Review how the code above works and try creating your own method.\n",
        "\n",
        "## Inheritance\n",
        "\n",
        "Inheritance is a way to form new classes using classes that have already been defined. The newly formed classes are called derived classes, the classes that we derive from are called base classes. Important benefits of inheritance are code reuse and reduction of complexity of a program. The derived classes (descendants) override or extend the functionality of base classes (ancestors).\n",
        "\n",
        "Let's see an example by incorporating our previous work on the Dog class:"
      ]
    },
    {
      "cell_type": "code",
      "execution_count": null,
      "metadata": {
        "collapsed": true,
        "id": "21sHz9uVxbC7"
      },
      "outputs": [],
      "source": [
        "class Animal:\n",
        "    def __init__(self):\n",
        "        print(\"Animal created\")\n",
        "\n",
        "    def whoAmI(self):\n",
        "        print(\"Animal\")\n",
        "\n",
        "    def eat(self):\n",
        "        print(\"Eating\")\n",
        "\n",
        "\n",
        "class Dog(Animal):\n",
        "    def __init__(self):\n",
        "        Animal.__init__(self)\n",
        "        print(\"Dog created\")\n",
        "\n",
        "    def whoAmI(self):\n",
        "        print(\"Dog\")\n",
        "\n",
        "    def bark(self):\n",
        "        print(\"Woof!\")"
      ]
    },
    {
      "cell_type": "code",
      "execution_count": null,
      "metadata": {
        "colab": {
          "base_uri": "https://localhost:8080/"
        },
        "id": "YbPv6DjlxbC7",
        "outputId": "5074ef07-6aeb-4e13-c894-daa1f6c9aea7"
      },
      "outputs": [
        {
          "output_type": "stream",
          "name": "stdout",
          "text": [
            "Animal created\n",
            "Dog created\n"
          ]
        }
      ],
      "source": [
        "d = Dog()"
      ]
    },
    {
      "cell_type": "code",
      "execution_count": null,
      "metadata": {
        "colab": {
          "base_uri": "https://localhost:8080/"
        },
        "id": "EXCfaPj3xbC7",
        "outputId": "879bcafa-7238-4a26-dc63-d0a632a2eb40"
      },
      "outputs": [
        {
          "output_type": "stream",
          "name": "stdout",
          "text": [
            "Dog\n"
          ]
        }
      ],
      "source": [
        "d.whoAmI()"
      ]
    },
    {
      "cell_type": "code",
      "execution_count": null,
      "metadata": {
        "colab": {
          "base_uri": "https://localhost:8080/"
        },
        "id": "tQLlO5SoxbC7",
        "outputId": "da7855a4-12b8-41d5-83ac-d14f0b2d6c2f"
      },
      "outputs": [
        {
          "output_type": "stream",
          "name": "stdout",
          "text": [
            "Eating\n"
          ]
        }
      ],
      "source": [
        "d.eat()"
      ]
    },
    {
      "cell_type": "code",
      "execution_count": null,
      "metadata": {
        "colab": {
          "base_uri": "https://localhost:8080/"
        },
        "id": "-KLjzTVTxbC7",
        "outputId": "d5aba7fe-064d-4c90-fb83-b6312675fe8a"
      },
      "outputs": [
        {
          "output_type": "stream",
          "name": "stdout",
          "text": [
            "Woof!\n"
          ]
        }
      ],
      "source": [
        "d.bark()"
      ]
    },
    {
      "cell_type": "markdown",
      "metadata": {
        "id": "ocbwuIkFxbC7"
      },
      "source": [
        "In this example, we have two classes: Animal and Dog. The Animal is the base class, the Dog is the derived class.\n",
        "\n",
        "The derived class inherits the functionality of the base class.\n",
        "\n",
        "* It is shown by the eat() method.\n",
        "\n",
        "The derived class modifies existing behavior of the base class.\n",
        "\n",
        "* shown by the whoAmI() method.\n",
        "\n",
        "Finally, the derived class extends the functionality of the base class, by defining a new bark() method."
      ]
    },
    {
      "cell_type": "markdown",
      "metadata": {
        "id": "tvAfaRiPxbC7"
      },
      "source": [
        "## Polymorphism\n",
        "\n",
        "We've learned that while functions can take in different arguments, methods belong to the objects they act on. In Python, *polymorphism* refers to the way in which different object classes can share the same method name, and those methods can be called from the same place even though a variety of different objects might be passed in. The best way to explain this is by example:"
      ]
    },
    {
      "cell_type": "code",
      "execution_count": null,
      "metadata": {
        "colab": {
          "base_uri": "https://localhost:8080/"
        },
        "id": "EgEtxATsxbC7",
        "outputId": "07808656-a44d-45b4-a611-9b413c2305fa"
      },
      "outputs": [
        {
          "output_type": "stream",
          "name": "stdout",
          "text": [
            "Niko says Woof!\n",
            "Felix says Meow!\n"
          ]
        }
      ],
      "source": [
        "class Dog:\n",
        "    def __init__(self, name):\n",
        "        self.name = name\n",
        "\n",
        "    def speak(self):\n",
        "        return self.name+' says Woof!'\n",
        "\n",
        "class Cat:\n",
        "    def __init__(self, name):\n",
        "        self.name = name\n",
        "\n",
        "    def speak(self):\n",
        "        return self.name+' says Meow!'\n",
        "\n",
        "niko = Dog('Niko')\n",
        "felix = Cat('Felix')\n",
        "\n",
        "print(niko.speak())\n",
        "print(felix.speak())"
      ]
    },
    {
      "cell_type": "markdown",
      "metadata": {
        "id": "sXB3He7_xbC8"
      },
      "source": [
        "Here we have a Dog class and a Cat class, and each has a `.speak()` method. When called, each object's `.speak()` method returns a result unique to the object.\n",
        "\n",
        "There a few different ways to demonstrate polymorphism. First, with a for loop:"
      ]
    },
    {
      "cell_type": "code",
      "execution_count": null,
      "metadata": {
        "colab": {
          "base_uri": "https://localhost:8080/"
        },
        "id": "LrqeRz0HxbC8",
        "outputId": "c15d4c34-d77f-4f66-d940-a4e6a02a1bb4"
      },
      "outputs": [
        {
          "output_type": "stream",
          "name": "stdout",
          "text": [
            "Niko says Woof!\n",
            "Felix says Meow!\n"
          ]
        }
      ],
      "source": [
        "for pet in [niko,felix]:\n",
        "    print(pet.speak())"
      ]
    },
    {
      "cell_type": "markdown",
      "metadata": {
        "id": "ZxM6bu6XxbC8"
      },
      "source": [
        "Another is with functions:"
      ]
    },
    {
      "cell_type": "code",
      "execution_count": null,
      "metadata": {
        "colab": {
          "base_uri": "https://localhost:8080/"
        },
        "id": "dYKfuQdHxbC8",
        "outputId": "87f98ee4-1c59-4cd1-a01c-41a445902f6c"
      },
      "outputs": [
        {
          "output_type": "stream",
          "name": "stdout",
          "text": [
            "Niko says Woof!\n",
            "Felix says Meow!\n"
          ]
        }
      ],
      "source": [
        "def pet_speak(pet):\n",
        "    print(pet.speak())\n",
        "\n",
        "pet_speak(niko)\n",
        "pet_speak(felix)"
      ]
    },
    {
      "cell_type": "markdown",
      "metadata": {
        "id": "mTB6ll3AxbC8"
      },
      "source": [
        "In both cases we were able to pass in different object types, and we obtained object-specific results from the same mechanism.\n",
        "\n",
        "A more common practice is to use abstract classes and inheritance. An abstract class is one that never expects to be instantiated. For example, we will never have an Animal object, only Dog and Cat objects, although Dogs and Cats are derived from Animals:"
      ]
    },
    {
      "cell_type": "code",
      "execution_count": null,
      "metadata": {
        "colab": {
          "base_uri": "https://localhost:8080/"
        },
        "id": "Bb0g7C67xbC8",
        "outputId": "6160b4d2-6ea1-4b12-f26a-16f8ad34b419"
      },
      "outputs": [
        {
          "output_type": "stream",
          "name": "stdout",
          "text": [
            "Fido says Woof!\n",
            "Isis says Meow!\n"
          ]
        }
      ],
      "source": [
        "class Animal:\n",
        "    def __init__(self, name):    # Constructor of the class\n",
        "        self.name = name\n",
        "\n",
        "    def speak(self):              # Abstract method, defined by convention only\n",
        "        raise NotImplementedError(\"Subclass must implement abstract method\")\n",
        "\n",
        "\n",
        "class Dog(Animal):\n",
        "\n",
        "    def speak(self):\n",
        "        return self.name+' says Woof!'\n",
        "\n",
        "class Cat(Animal):\n",
        "\n",
        "    def speak(self):\n",
        "        return self.name+' says Meow!'\n",
        "\n",
        "fido = Dog('Fido')\n",
        "isis = Cat('Isis')\n",
        "\n",
        "print(fido.speak())\n",
        "print(isis.speak())"
      ]
    },
    {
      "cell_type": "markdown",
      "metadata": {
        "id": "zyxjr-6IxbDJ"
      },
      "source": [
        "Real life examples of polymorphism include:\n",
        "* opening different file types - different tools are needed to display Word, pdf and Excel files\n",
        "* adding different objects - the `+` operator performs arithmetic and concatenation"
      ]
    },
    {
      "cell_type": "markdown",
      "metadata": {
        "id": "9KNMPSZCxbDJ"
      },
      "source": [
        "## Special Methods\n",
        "Finally let's go over special methods. Classes in Python can implement certain operations with special method names. These methods are not actually called directly but by Python specific language syntax. For example let's create a Book class:"
      ]
    },
    {
      "cell_type": "code",
      "execution_count": null,
      "metadata": {
        "collapsed": true,
        "id": "pqESL8f1xbDJ"
      },
      "outputs": [],
      "source": [
        "class Book:\n",
        "    def __init__(self, title, author, pages):\n",
        "        print(\"A book is created\")\n",
        "        self.title = title\n",
        "        self.author = author\n",
        "        self.pages = pages\n",
        "\n",
        "    def __str__(self):\n",
        "        return \"Title: %s, author: %s, pages: %s\" %(self.title, self.author, self.pages)\n",
        "\n",
        "    def __len__(self):\n",
        "        return self.pages\n",
        "\n",
        "    def __del__(self):\n",
        "        print(\"A book is destroyed\")"
      ]
    },
    {
      "cell_type": "code",
      "execution_count": null,
      "metadata": {
        "scrolled": true,
        "colab": {
          "base_uri": "https://localhost:8080/"
        },
        "id": "kABkrDknxbDK",
        "outputId": "1f812293-fc52-4185-e9ee-f8e49624a757"
      },
      "outputs": [
        {
          "output_type": "stream",
          "name": "stdout",
          "text": [
            "A book is created\n",
            "Title: Python Rocks!, author: Jose Portilla, pages: 159\n",
            "159\n",
            "A book is destroyed\n"
          ]
        }
      ],
      "source": [
        "book = Book(\"Python Rocks!\", \"Jose Portilla\", 159)\n",
        "\n",
        "#Special Methods\n",
        "print(book)\n",
        "print(len(book))\n",
        "del book"
      ]
    },
    {
      "cell_type": "markdown",
      "metadata": {
        "id": "WVSicZX-xbDK"
      },
      "source": [
        "    The __init__(), __str__(), __len__() and __del__() methods\n",
        "These special methods are defined by their use of underscores. They allow us to use Python specific functions on objects created through our class.\n",
        "\n",
        "**Great! After this lecture you should have a basic understanding of how to create your own objects with class in Python. You will be utilizing this heavily in your next milestone project!**"
      ]
    },
    {
      "cell_type": "markdown",
      "source": [
        "# Object Oriented Programming\n",
        "## Homework Assignment\n",
        "\n",
        "#### Problem 1\n",
        "Fill in the Line class methods to accept coordinates as a pair of tuples and return the slope and distance of the line."
      ],
      "metadata": {
        "id": "4x3Ni9kS58Ji"
      }
    },
    {
      "cell_type": "code",
      "source": [
        "class Line:\n",
        "\n",
        "    def __init__(self,coor1,coor2):\n",
        "        pass\n",
        "\n",
        "    def distance(self):\n",
        "        pass\n",
        "\n",
        "    def slope(self):\n",
        "        pass"
      ],
      "metadata": {
        "id": "wWPET5pc5-9K"
      },
      "execution_count": null,
      "outputs": []
    },
    {
      "cell_type": "code",
      "source": [
        "# EXAMPLE OUTPUT\n",
        "\n",
        "coordinate1 = (3,2)\n",
        "coordinate2 = (8,10)\n",
        "\n",
        "li = Line(coordinate1,coordinate2)"
      ],
      "metadata": {
        "id": "aQTWtRKa6A9F"
      },
      "execution_count": null,
      "outputs": []
    },
    {
      "cell_type": "code",
      "source": [
        "li.distance()"
      ],
      "metadata": {
        "id": "1nIYtD6c6CfU"
      },
      "execution_count": null,
      "outputs": []
    },
    {
      "cell_type": "code",
      "source": [
        "li.slope()"
      ],
      "metadata": {
        "id": "lzgmPxDu6EAd"
      },
      "execution_count": null,
      "outputs": []
    },
    {
      "cell_type": "markdown",
      "source": [
        "#### Problem 2\n",
        "\n",
        "Fill in the class"
      ],
      "metadata": {
        "id": "0rc6aTrH6HdK"
      }
    },
    {
      "cell_type": "code",
      "source": [
        "class Cylinder:\n",
        "\n",
        "    def __init__(self,height=1,radius=1):\n",
        "        pass\n",
        "\n",
        "    def volume(self):\n",
        "        pass\n",
        "\n",
        "    def surface_area(self):\n",
        "        pass"
      ],
      "metadata": {
        "id": "d6HY4Jmr6Mor"
      },
      "execution_count": null,
      "outputs": []
    },
    {
      "cell_type": "code",
      "source": [
        "# EXAMPLE OUTPUT\n",
        "c = Cylinder(2,3)"
      ],
      "metadata": {
        "id": "n8dOJEvj6Ol0"
      },
      "execution_count": null,
      "outputs": []
    },
    {
      "cell_type": "code",
      "source": [],
      "metadata": {
        "id": "xLl76GRS63Sp"
      },
      "execution_count": null,
      "outputs": []
    },
    {
      "cell_type": "code",
      "source": [
        "c.volume()"
      ],
      "metadata": {
        "id": "Fo5wqWAA6QCY"
      },
      "execution_count": null,
      "outputs": []
    },
    {
      "cell_type": "code",
      "source": [
        "c.surface_area()"
      ],
      "metadata": {
        "id": "iaqdpwus6RTQ"
      },
      "execution_count": null,
      "outputs": []
    },
    {
      "cell_type": "markdown",
      "source": [
        "# Object Oriented Programming Challenge\n",
        "\n",
        "For this challenge, create a bank account class that has two attributes:\n",
        "\n",
        "* owner\n",
        "* balance\n",
        "\n",
        "and two methods:\n",
        "\n",
        "* deposit\n",
        "* withdraw\n",
        "\n",
        "As an added requirement, withdrawals may not exceed the available balance.\n",
        "\n",
        "Instantiate your class, make several deposits and withdrawals, and test to make sure the account can't be overdrawn."
      ],
      "metadata": {
        "id": "LvWOqL7S6yJ5"
      }
    },
    {
      "cell_type": "code",
      "source": [
        "class Account:\n",
        "    pass"
      ],
      "metadata": {
        "id": "7fkXfnM_6-rB"
      },
      "execution_count": null,
      "outputs": []
    },
    {
      "cell_type": "code",
      "source": [
        "# 1. Instantiate the class\n",
        "acct1 = Account('Jose',100)"
      ],
      "metadata": {
        "id": "BMq4p5CP7And"
      },
      "execution_count": null,
      "outputs": []
    },
    {
      "cell_type": "code",
      "source": [
        "# 2. Print the object\n",
        "print(acct1)"
      ],
      "metadata": {
        "id": "cEP8oiRz7CMR"
      },
      "execution_count": null,
      "outputs": []
    },
    {
      "cell_type": "code",
      "source": [
        "# 3. Show the account owner attribute\n",
        "acct1.owner"
      ],
      "metadata": {
        "id": "QvfRYQBj7Dlo"
      },
      "execution_count": null,
      "outputs": []
    },
    {
      "cell_type": "code",
      "source": [
        "# 4. Show the account balance attribute\n",
        "acct1.balance"
      ],
      "metadata": {
        "id": "RpsMwvXQ7FEo"
      },
      "execution_count": null,
      "outputs": []
    },
    {
      "cell_type": "code",
      "source": [
        "# 5. Make a series of deposits and withdrawals\n",
        "acct1.deposit(50)"
      ],
      "metadata": {
        "id": "CS5WKnfB7Gja"
      },
      "execution_count": null,
      "outputs": []
    },
    {
      "cell_type": "code",
      "source": [
        "acct1.withdraw(75)"
      ],
      "metadata": {
        "id": "cUvR-BGm7H3W"
      },
      "execution_count": null,
      "outputs": []
    },
    {
      "cell_type": "code",
      "source": [
        "# 6. Make a withdrawal that exceeds the available balance\n",
        "acct1.withdraw(500)"
      ],
      "metadata": {
        "id": "i9JzPCnm7Jgp"
      },
      "execution_count": null,
      "outputs": []
    },
    {
      "cell_type": "markdown",
      "source": [
        "## Good job!"
      ],
      "metadata": {
        "id": "lXmkfKh77Mg3"
      }
    }
  ],
  "metadata": {
    "kernelspec": {
      "display_name": "Python 3",
      "language": "python",
      "name": "python3"
    },
    "language_info": {
      "codemirror_mode": {
        "name": "ipython",
        "version": 3
      },
      "file_extension": ".py",
      "mimetype": "text/x-python",
      "name": "python",
      "nbconvert_exporter": "python",
      "pygments_lexer": "ipython3",
      "version": "3.8.8"
    },
    "colab": {
      "provenance": []
    }
  },
  "nbformat": 4,
  "nbformat_minor": 0
}