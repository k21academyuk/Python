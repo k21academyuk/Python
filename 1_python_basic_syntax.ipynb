{
  "cells": [
    {
      "cell_type": "markdown",
      "id": "1c2fc8bb-3439-46f7-8cd9-7cfe834d2e50",
      "metadata": {
        "id": "1c2fc8bb-3439-46f7-8cd9-7cfe834d2e50"
      },
      "source": [
        "## Variables and Data Types"
      ]
    },
    {
      "cell_type": "markdown",
      "id": "cdfd7f85-1ee5-46ef-b620-d0054cfdc59e",
      "metadata": {
        "id": "cdfd7f85-1ee5-46ef-b620-d0054cfdc59e"
      },
      "source": [
        "**Variables**\n",
        "\n",
        "A variable in Python is a name that acts as a reference or a container to store data values. Variables allow you to work with data by giving it a meaningful name that represents the value or data structure.\n",
        "\n",
        "Rules for Naming Variables:\n",
        "* Must start with a letter (a-z, A-Z) or an underscore (_).\n",
        "* Cannot start with a digit.\n",
        "* Can contain letters, digits, and underscores (e.g., my_variable).\n",
        "* Cannot use Python keywords or reserved words (e.g., if, else, while, etc.).\n",
        "* Should not contain special characters (e.g., @, #, $, etc.)."
      ]
    },
    {
      "cell_type": "code",
      "execution_count": null,
      "id": "2211de0d-761c-44db-8998-5b2e2e8ffea7",
      "metadata": {
        "id": "2211de0d-761c-44db-8998-5b2e2e8ffea7"
      },
      "outputs": [],
      "source": [
        "name = \"Alice\" # String\n",
        "age = 25 # Integer\n",
        "height = 5.5 # Float\n",
        "is_active = True # Boolean"
      ]
    },
    {
      "cell_type": "code",
      "execution_count": null,
      "id": "405f185b-cfaf-4dd9-a7d5-7042346a1c69",
      "metadata": {
        "id": "405f185b-cfaf-4dd9-a7d5-7042346a1c69",
        "outputId": "77c894c3-93af-4a17-c771-b68636f20e49"
      },
      "outputs": [
        {
          "data": {
            "text/plain": [
              "'Alice'"
            ]
          },
          "execution_count": 6,
          "metadata": {},
          "output_type": "execute_result"
        }
      ],
      "source": [
        "name"
      ]
    },
    {
      "cell_type": "code",
      "execution_count": null,
      "id": "c530b9a9-48fd-4957-afe5-53cdaa65a9ab",
      "metadata": {
        "id": "c530b9a9-48fd-4957-afe5-53cdaa65a9ab",
        "outputId": "325849db-3836-4ed1-f6e6-7d2ca5f92c66"
      },
      "outputs": [
        {
          "data": {
            "text/plain": [
              "25"
            ]
          },
          "execution_count": 8,
          "metadata": {},
          "output_type": "execute_result"
        }
      ],
      "source": [
        "age"
      ]
    },
    {
      "cell_type": "code",
      "execution_count": null,
      "id": "c4696223-65f9-4ba9-a4d1-890c0d5fe7a5",
      "metadata": {
        "id": "c4696223-65f9-4ba9-a4d1-890c0d5fe7a5",
        "outputId": "3e876762-7165-4763-9206-a1d53333a928"
      },
      "outputs": [
        {
          "data": {
            "text/plain": [
              "5.5"
            ]
          },
          "execution_count": 10,
          "metadata": {},
          "output_type": "execute_result"
        }
      ],
      "source": [
        "height"
      ]
    },
    {
      "cell_type": "code",
      "execution_count": null,
      "id": "143ba206-3a64-4602-9e5d-11d4558152dc",
      "metadata": {
        "id": "143ba206-3a64-4602-9e5d-11d4558152dc",
        "outputId": "8d8275cb-1ec6-440c-aafe-b1737dd0376b"
      },
      "outputs": [
        {
          "data": {
            "text/plain": [
              "True"
            ]
          },
          "execution_count": 12,
          "metadata": {},
          "output_type": "execute_result"
        }
      ],
      "source": [
        "is_active"
      ]
    },
    {
      "cell_type": "markdown",
      "id": "d075312f-4620-45fc-8cbe-2f8f9b2687a1",
      "metadata": {
        "id": "d075312f-4620-45fc-8cbe-2f8f9b2687a1"
      },
      "source": [
        "**Variable Re-assignment**  \n",
        "\n",
        "Variable re-assignment means assigning a new value to a variable that has already been defined. This allows you to update the value stored in a variable or even change its data type."
      ]
    },
    {
      "cell_type": "code",
      "execution_count": null,
      "id": "11aebd9c-db21-4bae-afb4-a67332cd0ed0",
      "metadata": {
        "id": "11aebd9c-db21-4bae-afb4-a67332cd0ed0"
      },
      "outputs": [],
      "source": [
        "x = 10\n",
        "x = \"Python\" # Type changes dynamically"
      ]
    },
    {
      "cell_type": "code",
      "execution_count": null,
      "id": "76005783-a741-429b-b307-9fd86d9099c8",
      "metadata": {
        "id": "76005783-a741-429b-b307-9fd86d9099c8",
        "outputId": "477b2092-f553-41c1-9837-7d5e7e61234e"
      },
      "outputs": [
        {
          "data": {
            "text/plain": [
              "'Python'"
            ]
          },
          "execution_count": 17,
          "metadata": {},
          "output_type": "execute_result"
        }
      ],
      "source": [
        "x"
      ]
    },
    {
      "cell_type": "markdown",
      "id": "3b8398bc-6690-4a4d-9775-8d546a045eca",
      "metadata": {
        "id": "3b8398bc-6690-4a4d-9775-8d546a045eca"
      },
      "source": [
        "**Primitive Data Types**\n",
        "\n",
        "Primitive data types (also called basic or fundamental data types) are the building blocks of data manipulation in Python. They represent simple, atomic values.\n",
        "\n",
        "Common Primitive Data Types in Python:\n",
        "1. Integer (**int**) - Represents whole numbers (positive, negative, or zero).\n",
        "2. Floating-point (**float**) - Represents real numbers with decimal points.\n",
        "3. String (**str**) - Represents a sequence of characters enclosed in single (') or double (\") quotes.\n",
        "4. Boolean (**bool**) - Represents one of two values: True or False.\n",
        "\n",
        "*Characteristics of Primitive Data Types:*\n",
        "\n",
        "* **Immutable**: Primitive data types cannot be modified after creation. For\n",
        "example, changing a string or an integer creates a new object in memory.\n",
        "* **Simple Values**: These types store a single value and are not collections or complex structures."
      ]
    },
    {
      "cell_type": "code",
      "execution_count": null,
      "id": "5a4bcbb9-ee4f-49f1-affd-efc6a13c8951",
      "metadata": {
        "id": "5a4bcbb9-ee4f-49f1-affd-efc6a13c8951"
      },
      "outputs": [],
      "source": [
        "a = 10 # Integer\n",
        "b = 3.14 # Float\n",
        "c = \"Machine Learning\" # String\n",
        "d = True # Boolean"
      ]
    },
    {
      "cell_type": "code",
      "execution_count": null,
      "id": "21abce60-26fe-489f-9181-5b07e15005ae",
      "metadata": {
        "id": "21abce60-26fe-489f-9181-5b07e15005ae",
        "outputId": "729b0d5d-3a1c-4c48-ef54-1f12b8f1b91d"
      },
      "outputs": [
        {
          "data": {
            "text/plain": [
              "10"
            ]
          },
          "execution_count": 35,
          "metadata": {},
          "output_type": "execute_result"
        }
      ],
      "source": [
        "a"
      ]
    },
    {
      "cell_type": "code",
      "execution_count": null,
      "id": "ee54725d-5b42-4b18-a59c-dafe13d10df7",
      "metadata": {
        "id": "ee54725d-5b42-4b18-a59c-dafe13d10df7",
        "outputId": "bdb8b7a7-1dec-4a5a-bd1d-d392e7bf4839"
      },
      "outputs": [
        {
          "data": {
            "text/plain": [
              "3.14"
            ]
          },
          "execution_count": 37,
          "metadata": {},
          "output_type": "execute_result"
        }
      ],
      "source": [
        "b"
      ]
    },
    {
      "cell_type": "code",
      "execution_count": null,
      "id": "459ee011-8db7-4b6d-89ae-0fc5360f8cdd",
      "metadata": {
        "id": "459ee011-8db7-4b6d-89ae-0fc5360f8cdd",
        "outputId": "1e1adf70-5061-4a92-fd28-4fdd738531e2"
      },
      "outputs": [
        {
          "data": {
            "text/plain": [
              "'Machine Learning'"
            ]
          },
          "execution_count": 39,
          "metadata": {},
          "output_type": "execute_result"
        }
      ],
      "source": [
        "c"
      ]
    },
    {
      "cell_type": "code",
      "execution_count": null,
      "id": "bdb67e42-a88c-4ccc-89e6-9392c900c465",
      "metadata": {
        "id": "bdb67e42-a88c-4ccc-89e6-9392c900c465",
        "outputId": "3b27be6a-0219-4dd6-b3c3-28f5d66065f3"
      },
      "outputs": [
        {
          "data": {
            "text/plain": [
              "True"
            ]
          },
          "execution_count": 41,
          "metadata": {},
          "output_type": "execute_result"
        }
      ],
      "source": [
        "d"
      ]
    },
    {
      "cell_type": "markdown",
      "id": "40516537-db39-47df-97b3-61ff949aa42a",
      "metadata": {
        "id": "40516537-db39-47df-97b3-61ff949aa42a"
      },
      "source": [
        "**Collection Data Types**"
      ]
    },
    {
      "cell_type": "code",
      "execution_count": null,
      "id": "ec4e6fd9-0d83-49fe-85a2-701ca871e8d4",
      "metadata": {
        "id": "ec4e6fd9-0d83-49fe-85a2-701ca871e8d4"
      },
      "outputs": [],
      "source": [
        "my_list = [1, 2, 3, 4] # List\n",
        "my_tuple = (1, 2, 3, 4) # Tuple\n",
        "my_set = {1, 2, 3, 4}  # Set\n",
        "my_dict = {\"key1\": \"value1\", \"key2\": \"value2\"}"
      ]
    },
    {
      "cell_type": "code",
      "execution_count": null,
      "id": "fd9221a6-d4ce-4947-95e1-2c5ce63926e0",
      "metadata": {
        "id": "fd9221a6-d4ce-4947-95e1-2c5ce63926e0",
        "outputId": "c6f86d34-555f-46e8-ca0b-db05dc605602"
      },
      "outputs": [
        {
          "data": {
            "text/plain": [
              "[1, 2, 3, 4]"
            ]
          },
          "execution_count": 48,
          "metadata": {},
          "output_type": "execute_result"
        }
      ],
      "source": [
        "my_list"
      ]
    },
    {
      "cell_type": "code",
      "execution_count": null,
      "id": "0ee7a0bb-ea3a-43ff-a130-2ddd7a60de17",
      "metadata": {
        "id": "0ee7a0bb-ea3a-43ff-a130-2ddd7a60de17",
        "outputId": "aa570d80-1eeb-4d7a-c142-43d52d1e8a50"
      },
      "outputs": [
        {
          "data": {
            "text/plain": [
              "(1, 2, 3, 4)"
            ]
          },
          "execution_count": 50,
          "metadata": {},
          "output_type": "execute_result"
        }
      ],
      "source": [
        "my_tuple"
      ]
    },
    {
      "cell_type": "code",
      "execution_count": null,
      "id": "eed9e41b-9385-44bf-9ac7-3d1bf266cf06",
      "metadata": {
        "id": "eed9e41b-9385-44bf-9ac7-3d1bf266cf06",
        "outputId": "ab79250c-17c5-4841-b5ba-c37ed706b02f"
      },
      "outputs": [
        {
          "data": {
            "text/plain": [
              "{1, 2, 3, 4}"
            ]
          },
          "execution_count": 52,
          "metadata": {},
          "output_type": "execute_result"
        }
      ],
      "source": [
        "my_set"
      ]
    },
    {
      "cell_type": "code",
      "execution_count": null,
      "id": "37cf29a1-f0f6-4b9b-8501-acc9f2408d8a",
      "metadata": {
        "id": "37cf29a1-f0f6-4b9b-8501-acc9f2408d8a",
        "outputId": "7e95d257-1ded-4d1f-b46b-f0315382543f"
      },
      "outputs": [
        {
          "data": {
            "text/plain": [
              "{'key1': 'value1', 'key2': 'value2'}"
            ]
          },
          "execution_count": 54,
          "metadata": {},
          "output_type": "execute_result"
        }
      ],
      "source": [
        "my_dict"
      ]
    },
    {
      "cell_type": "markdown",
      "id": "57af15e0-33b5-433f-9cd6-391f45500d18",
      "metadata": {
        "id": "57af15e0-33b5-433f-9cd6-391f45500d18"
      },
      "source": [
        "## ➗ Basic Syntax - Basic Operations!"
      ]
    },
    {
      "cell_type": "markdown",
      "id": "58269ebe-9725-4aed-b771-c1e032609d81",
      "metadata": {
        "id": "58269ebe-9725-4aed-b771-c1e032609d81"
      },
      "source": [
        "**Arithmetic Operations**\n"
      ]
    },
    {
      "cell_type": "code",
      "execution_count": null,
      "id": "9a4b1745-1e5a-48fd-baa8-a372b6a15b7c",
      "metadata": {
        "id": "9a4b1745-1e5a-48fd-baa8-a372b6a15b7c"
      },
      "outputs": [],
      "source": [
        "x = 15\n",
        "y = 4"
      ]
    },
    {
      "cell_type": "code",
      "execution_count": null,
      "id": "aa39fbfe-2f82-4457-b0bf-6fa87c0cc0c6",
      "metadata": {
        "id": "aa39fbfe-2f82-4457-b0bf-6fa87c0cc0c6",
        "outputId": "471156c0-f4b1-4975-fbdd-8d9a9854785f"
      },
      "outputs": [
        {
          "data": {
            "text/plain": [
              "19"
            ]
          },
          "execution_count": 104,
          "metadata": {},
          "output_type": "execute_result"
        }
      ],
      "source": [
        "x + y #addition"
      ]
    },
    {
      "cell_type": "code",
      "execution_count": null,
      "id": "39d57e35-9792-4c7a-98d3-bbe293a7afae",
      "metadata": {
        "id": "39d57e35-9792-4c7a-98d3-bbe293a7afae",
        "outputId": "e282a556-cf1e-45bf-a2b3-c990d1b39f84"
      },
      "outputs": [
        {
          "data": {
            "text/plain": [
              "11"
            ]
          },
          "execution_count": 106,
          "metadata": {},
          "output_type": "execute_result"
        }
      ],
      "source": [
        "x - y #substraction"
      ]
    },
    {
      "cell_type": "code",
      "execution_count": null,
      "id": "e65e89fc-8e51-47a3-81aa-3ec63a82f751",
      "metadata": {
        "id": "e65e89fc-8e51-47a3-81aa-3ec63a82f751",
        "outputId": "5bd28b9d-e3f6-45e0-b284-e607e95fb383"
      },
      "outputs": [
        {
          "data": {
            "text/plain": [
              "60"
            ]
          },
          "execution_count": 108,
          "metadata": {},
          "output_type": "execute_result"
        }
      ],
      "source": [
        "x * y # multiplication"
      ]
    },
    {
      "cell_type": "code",
      "execution_count": null,
      "id": "c3d1959c-a73c-4579-98d1-5f261831b5d1",
      "metadata": {
        "id": "c3d1959c-a73c-4579-98d1-5f261831b5d1",
        "outputId": "65b8a5ad-43ce-4361-bbfb-3bcd529b5b03"
      },
      "outputs": [
        {
          "data": {
            "text/plain": [
              "3.75"
            ]
          },
          "execution_count": 110,
          "metadata": {},
          "output_type": "execute_result"
        }
      ],
      "source": [
        "x / y #division"
      ]
    },
    {
      "cell_type": "code",
      "execution_count": null,
      "id": "b6d60e99-3289-4e3b-ad67-935fafed3540",
      "metadata": {
        "id": "b6d60e99-3289-4e3b-ad67-935fafed3540",
        "outputId": "ee2239f1-cfff-46a8-a85e-819f121f7e87"
      },
      "outputs": [
        {
          "data": {
            "text/plain": [
              "3"
            ]
          },
          "execution_count": 112,
          "metadata": {},
          "output_type": "execute_result"
        }
      ],
      "source": [
        "x // y #integer only"
      ]
    },
    {
      "cell_type": "code",
      "execution_count": null,
      "id": "384049d8-e59f-42dc-bce8-3318c58f3e74",
      "metadata": {
        "id": "384049d8-e59f-42dc-bce8-3318c58f3e74",
        "outputId": "034311e1-6420-4fab-bde2-60227cc58d78"
      },
      "outputs": [
        {
          "data": {
            "text/plain": [
              "3"
            ]
          },
          "execution_count": 114,
          "metadata": {},
          "output_type": "execute_result"
        }
      ],
      "source": [
        "x % y #remainder"
      ]
    },
    {
      "cell_type": "code",
      "execution_count": null,
      "id": "ba4db469-cde9-4d58-b60b-3e88fc43bbd5",
      "metadata": {
        "id": "ba4db469-cde9-4d58-b60b-3e88fc43bbd5",
        "outputId": "a58bafc7-dcf2-4416-afae-11cbd7b27e1e"
      },
      "outputs": [
        {
          "data": {
            "text/plain": [
              "50625"
            ]
          },
          "execution_count": 116,
          "metadata": {},
          "output_type": "execute_result"
        }
      ],
      "source": [
        "x ** y #exponential"
      ]
    },
    {
      "cell_type": "markdown",
      "id": "b7e18b5e-b6a7-403e-a108-8a433bdf7be6",
      "metadata": {
        "id": "b7e18b5e-b6a7-403e-a108-8a433bdf7be6"
      },
      "source": [
        "**Comparison Operator**"
      ]
    },
    {
      "cell_type": "code",
      "execution_count": null,
      "id": "5be3a41d-5755-49b2-bfc5-5dcb7f15885e",
      "metadata": {
        "id": "5be3a41d-5755-49b2-bfc5-5dcb7f15885e"
      },
      "outputs": [],
      "source": [
        "x = 10\n",
        "y = 20"
      ]
    },
    {
      "cell_type": "code",
      "execution_count": null,
      "id": "78033c28-ac8e-4cd5-a623-e29a0963b691",
      "metadata": {
        "id": "78033c28-ac8e-4cd5-a623-e29a0963b691",
        "outputId": "98eee30f-20a2-4264-8323-a4752313a8e5"
      },
      "outputs": [
        {
          "data": {
            "text/plain": [
              "False"
            ]
          },
          "execution_count": 121,
          "metadata": {},
          "output_type": "execute_result"
        }
      ],
      "source": [
        "x == y # Output: False"
      ]
    },
    {
      "cell_type": "code",
      "execution_count": null,
      "id": "e4ceafe8-7dcc-4781-a7b6-1eb2e37eebe3",
      "metadata": {
        "id": "e4ceafe8-7dcc-4781-a7b6-1eb2e37eebe3",
        "outputId": "70afd6db-fe05-457b-e2c2-259728511a08"
      },
      "outputs": [
        {
          "data": {
            "text/plain": [
              "True"
            ]
          },
          "execution_count": 123,
          "metadata": {},
          "output_type": "execute_result"
        }
      ],
      "source": [
        "x != y"
      ]
    },
    {
      "cell_type": "code",
      "execution_count": null,
      "id": "704c797c-761c-42c6-87b2-54ce4f454903",
      "metadata": {
        "id": "704c797c-761c-42c6-87b2-54ce4f454903",
        "outputId": "fb1602fc-ca26-4b14-bbc8-47caa541515e"
      },
      "outputs": [
        {
          "data": {
            "text/plain": [
              "False"
            ]
          },
          "execution_count": 125,
          "metadata": {},
          "output_type": "execute_result"
        }
      ],
      "source": [
        "x > y"
      ]
    },
    {
      "cell_type": "code",
      "execution_count": null,
      "id": "0a97b5eb-4235-4915-ad37-ef006858dc4c",
      "metadata": {
        "id": "0a97b5eb-4235-4915-ad37-ef006858dc4c",
        "outputId": "408c280c-b7d2-4dba-c61b-ba65297aaab8"
      },
      "outputs": [
        {
          "data": {
            "text/plain": [
              "True"
            ]
          },
          "execution_count": 127,
          "metadata": {},
          "output_type": "execute_result"
        }
      ],
      "source": [
        "x <= y"
      ]
    },
    {
      "cell_type": "code",
      "execution_count": null,
      "id": "9ba8deef-f810-4380-a3ce-3420e0d02a62",
      "metadata": {
        "id": "9ba8deef-f810-4380-a3ce-3420e0d02a62",
        "outputId": "865e011f-602d-4715-bfa2-0f8c68fb1de1"
      },
      "outputs": [
        {
          "data": {
            "text/plain": [
              "False"
            ]
          },
          "execution_count": 129,
          "metadata": {},
          "output_type": "execute_result"
        }
      ],
      "source": [
        "x >= y"
      ]
    },
    {
      "cell_type": "markdown",
      "id": "3c284cf5-7aaa-4f26-a035-5a850f18da06",
      "metadata": {
        "id": "3c284cf5-7aaa-4f26-a035-5a850f18da06"
      },
      "source": [
        "**Applications**\n",
        "\n",
        "Calculating the area of a circle, area)\n"
      ]
    },
    {
      "cell_type": "code",
      "execution_count": null,
      "id": "dd0e3ee9-d2ba-4746-9f41-c24dd67998e2",
      "metadata": {
        "id": "dd0e3ee9-d2ba-4746-9f41-c24dd67998e2",
        "outputId": "9c1633e4-a066-4391-8049-6cb8529dfe04"
      },
      "outputs": [
        {
          "name": "stdout",
          "output_type": "stream",
          "text": [
            "Area of the circle: 78.53981633974483\n"
          ]
        }
      ],
      "source": [
        "import math # library\n",
        "radius = 5\n",
        "area = math.pi * (radius ** 2)\n",
        "\n",
        "print(\"Area of the circle:\", area)"
      ]
    },
    {
      "cell_type": "markdown",
      "id": "0d3dbcb4-6fab-4395-b053-9b4f1497694d",
      "metadata": {
        "id": "0d3dbcb4-6fab-4395-b053-9b4f1497694d"
      },
      "source": [
        "## 📊 Applications of Basic Python in Machine Learning"
      ]
    },
    {
      "cell_type": "markdown",
      "id": "9f802120-dfb4-42c7-bb07-2815dfe2ba3d",
      "metadata": {
        "id": "9f802120-dfb4-42c7-bb07-2815dfe2ba3d"
      },
      "source": [
        "Here we will using different libraries likes pandas, matplotlib and scikit-learn, just to understand how it can be used to load, visualize and scale data in python. **There are lost more thing that this libraries can do.**\n",
        "\n",
        "We will be getting into its details going forward (this is just ot help you understand its application)"
      ]
    },
    {
      "cell_type": "markdown",
      "id": "fec3c1c4-9419-4a76-9968-eff3d02d8b17",
      "metadata": {
        "id": "fec3c1c4-9419-4a76-9968-eff3d02d8b17"
      },
      "source": [
        "**Data Preprocessing**\n",
        "\n",
        "Reading and Cleaning data using pandas\n"
      ]
    },
    {
      "cell_type": "code",
      "execution_count": null,
      "id": "45542374-e616-4ded-a93a-0777ea9512cf",
      "metadata": {
        "id": "45542374-e616-4ded-a93a-0777ea9512cf",
        "outputId": "3fe873d7-49d9-4479-edb1-85ae8b36e6b7"
      },
      "outputs": [
        {
          "name": "stdout",
          "output_type": "stream",
          "text": [
            "    Age\n",
            "0  25.0\n",
            "1   NaN\n",
            "2  30.0\n",
            "3   NaN\n"
          ]
        }
      ],
      "source": [
        "import pandas as pd\n",
        "data = {\"Age\": [25, None, 30, None]}\n",
        "df = pd.DataFrame(data)\n",
        "df[\"Age\"].fillna(df[\"Age\"].mean())\n",
        "print(df)"
      ]
    },
    {
      "cell_type": "markdown",
      "id": "bbfd2837-1bc2-47fa-a27c-8753da39ca5b",
      "metadata": {
        "id": "bbfd2837-1bc2-47fa-a27c-8753da39ca5b"
      },
      "source": [
        "**Feature Engineering**\n",
        "\n",
        "Normalizing data using MinMaxScale from scikit-learnr\n"
      ]
    },
    {
      "cell_type": "code",
      "execution_count": null,
      "id": "2bb4138c-7976-4b15-9b91-0f986a043dcb",
      "metadata": {
        "id": "2bb4138c-7976-4b15-9b91-0f986a043dcb",
        "outputId": "54cff87e-5a3e-4bea-b512-e35ca89ae332"
      },
      "outputs": [
        {
          "name": "stdout",
          "output_type": "stream",
          "text": [
            "[[0.         1.        ]\n",
            " [0.5        0.33333333]\n",
            " [1.         0.        ]]\n"
          ]
        }
      ],
      "source": [
        "from sklearn.preprocessing import MinMaxScaler\n",
        "data = [[-1, 2], [0, 0], [1, -1]]\n",
        "scaler = MinMaxScaler()\n",
        "scaled_data = scaler.fit_transform(data)\n",
        "print(scaled_data)"
      ]
    },
    {
      "cell_type": "code",
      "execution_count": null,
      "id": "3bc6a74c-2649-40ac-b418-0be8c92b0636",
      "metadata": {
        "id": "3bc6a74c-2649-40ac-b418-0be8c92b0636"
      },
      "outputs": [],
      "source": []
    },
    {
      "cell_type": "code",
      "execution_count": null,
      "id": "259717bc-4686-46d3-bfad-3e27b01699c8",
      "metadata": {
        "id": "259717bc-4686-46d3-bfad-3e27b01699c8",
        "outputId": "3376ed50-538f-4d38-8685-161d53e82f2b"
      },
      "outputs": [
        {
          "data": {
            "image/png": "[encoded data removed]",
            "text/plain": [
              "<Figure size 640x480 with 1 Axes>"
            ]
          },
          "metadata": {},
          "output_type": "display_data"
        }
      ],
      "source": [
        "import matplotlib.pyplot as plt\n",
        "x = [1, 2, 3, 4]\n",
        "y = [10, 20, 30, 40]\n",
        "plt.plot(x, y)\n",
        "plt.title(\"Sample Plot\")\n",
        "plt.xlabel(\"X-axis\")\n",
        "plt.ylabel(\"Y-axis\")\n",
        "plt.show()"
      ]
    },
    {
      "cell_type": "code",
      "execution_count": null,
      "id": "c1739f11-cf48-48c2-ab9f-0091d2e24efa",
      "metadata": {
        "id": "c1739f11-cf48-48c2-ab9f-0091d2e24efa"
      },
      "outputs": [],
      "source": []
    }
  ],
  "metadata": {
    "kernelspec": {
      "display_name": "Python 3 (ipykernel)",
      "language": "python",
      "name": "python3"
    },
    "language_info": {
      "codemirror_mode": {
        "name": "ipython",
        "version": 3
      },
      "file_extension": ".py",
      "mimetype": "text/x-python",
      "name": "python",
      "nbconvert_exporter": "python",
      "pygments_lexer": "ipython3",
      "version": "3.12.4"
    },
    "colab": {
      "provenance": []
    }
  },
  "nbformat": 4,
  "nbformat_minor": 5
}